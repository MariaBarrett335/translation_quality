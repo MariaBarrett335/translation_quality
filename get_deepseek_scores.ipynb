{
 "cells": [
  {
   "cell_type": "code",
   "execution_count": 65,
   "id": "9480dce7",
   "metadata": {},
   "outputs": [],
   "source": [
    "import pandas as pd\n",
    "from collections import Counter"
   ]
  },
  {
   "cell_type": "code",
   "execution_count": 77,
   "id": "f715b866",
   "metadata": {},
   "outputs": [],
   "source": [
    "input_path = '/home/maribarr/translation_quality/data/pairwise_sample.jsonl'\n",
    "df_input = pd.read_json(input_path, lines=True)\n",
    "\n",
    "id_to_correct_answer = dict(zip(df_input['id'], df_input['correct_answer']))"
   ]
  },
  {
   "cell_type": "code",
   "execution_count": 78,
   "id": "4d17a83b",
   "metadata": {},
   "outputs": [],
   "source": [
    "# Clean the output and correct answer\n",
    "def clean(df):\n",
    "    df.correct_answer = df.correct_answer.str.lower()\n",
    "    df.output = df.output.str.lower()\n",
    "    df.correct_answer = df.correct_answer.str.strip()\n",
    "    df.output = df.output.str.strip()\n",
    "    return df"
   ]
  },
  {
   "cell_type": "markdown",
   "id": "e254bffb",
   "metadata": {},
   "source": [
    "## No rubric"
   ]
  },
  {
   "cell_type": "code",
   "execution_count": 79,
   "id": "8bb97037",
   "metadata": {},
   "outputs": [
    {
     "name": "stdout",
     "output_type": "stream",
     "text": [
      "Counter({'b': 266, 'a': 208, '1': 5, None: 5, '[score]': 4, '0.5': 3, '0.9': 2, '0': 2, '1.0': 1, '8': 1, '0.8': 1, '0.7': 1, 'a:3': 1})\n",
      "Clearning n rows: 26\n",
      "Accuracy no rubric: 0.6244725738396625\n"
     ]
    }
   ],
   "source": [
    "path_to_deepseek = '/home/maribarr/translation_quality/output_pairwise_sample.jsonl'\n",
    "df = pd.read_json(path_to_deepseek, lines=True)\n",
    "df['correct_answer'] = df.id.map(lambda x: id_to_correct_answer[x])\n",
    "\n",
    "df = clean(df)\n",
    "\n",
    "print(Counter(df.output))\n",
    "\n",
    "len_before = len(df)\n",
    "\n",
    "#removing values that are not a or be\n",
    "df = df.loc[df.output.isin(['a', 'b'])]\n",
    "print(f\"Clearning n rows: {len_before-len(df)}\")\n",
    "# Accuracy\n",
    "\n",
    "acc = len(df.loc[df.output == df.correct_answer]) / len(df)\n",
    "print(f\"Accuracy no rubric: {acc}\")"
   ]
  },
  {
   "cell_type": "markdown",
   "id": "3d9376c4",
   "metadata": {},
   "source": [
    "## Rubric"
   ]
  },
  {
   "cell_type": "code",
   "execution_count": 76,
   "id": "18f3f66e",
   "metadata": {},
   "outputs": [
    {
     "name": "stdout",
     "output_type": "stream",
     "text": [
      "Clearning n rows: 0\n",
      "Accuracy w rubric: 0.64\n"
     ]
    }
   ],
   "source": [
    "path_to_deepseek_pairwise = '/home/maribarr/translation_quality/output_pairwise_sample_rubric.jsonl'\n",
    "df_pair = pd.read_json(path_to_deepseek_pairwise, lines=True)\n",
    "df_pair['correct_answer'] = df_pair.id.map(lambda x: id_to_correct_answer[x])\n",
    "\n",
    "df_pair = clean(df_pair)\n",
    "#parse the output - can be made more robust. It relies on the instruction-following abilities\n",
    "df_pair['output_answer'] = df_pair.output.map(lambda x: x.split('best:')[-1])\n",
    "\n",
    "#removing values that are not a or be\n",
    "len_before = len(df_pair)\n",
    "df_pair = df_pair.loc[df_pair.output_answer.isin(['a', 'b'])]\n",
    "print(f\"Clearning n rows: {len_before-len(df_pair)}\")\n",
    "# Accuracy\n",
    "\n",
    "acc = len(df_pair.loc[df_pair.output_answer == df_pair.correct_answer]) / len(df_pair)\n",
    "print(f\"Accuracy w rubric: {acc}\")"
   ]
  },
  {
   "cell_type": "code",
   "execution_count": null,
   "id": "465326d1",
   "metadata": {},
   "outputs": [],
   "source": []
  },
  {
   "cell_type": "code",
   "execution_count": null,
   "id": "3d8942cc",
   "metadata": {},
   "outputs": [],
   "source": []
  },
  {
   "cell_type": "code",
   "execution_count": null,
   "id": "123c1cb0",
   "metadata": {},
   "outputs": [],
   "source": []
  }
 ],
 "metadata": {
  "kernelspec": {
   "display_name": ".venv",
   "language": "python",
   "name": "python3"
  },
  "language_info": {
   "codemirror_mode": {
    "name": "ipython",
    "version": 3
   },
   "file_extension": ".py",
   "mimetype": "text/x-python",
   "name": "python",
   "nbconvert_exporter": "python",
   "pygments_lexer": "ipython3",
   "version": "3.11.9"
  }
 },
 "nbformat": 4,
 "nbformat_minor": 5
}
