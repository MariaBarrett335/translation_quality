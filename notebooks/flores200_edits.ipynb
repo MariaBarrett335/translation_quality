{
 "cells": [
  {
   "cell_type": "code",
   "execution_count": 1,
   "id": "39625536",
   "metadata": {},
   "outputs": [],
   "source": [
    "import pandas as pd\n",
    "from tqdm import tqdm\n",
    "import time\n",
    "import litellm\n",
    "import os\n",
    "import numpy as np\n",
    "tqdm.pandas()\n",
    "#from .autonotebook import tqdm as notebook_tqdm\n",
    "from sacrebleu.metrics import BLEU, CHRF, TER\n",
    "import pandas as pd\n",
    "import seaborn as sns\n",
    "import matplotlib.pyplot as plt\n",
    "pd.set_option('display.max_colwidth', None)\n",
    "pd.set_option('display.max_columns', None)\n",
    "pd.set_option('display.max_rows', None)\n",
    "import random\n",
    "random.seed(42)\n",
    "from evaluate import load\n",
    "bertscore = load(\"bertscore\")\n",
    "chrf = load(\"chrf\")\n",
    "\n",
    "from litellm import completion\n",
    "import sys\n",
    "import numpy as np\n",
    "import os\n",
    "import pandas as pd\n",
    "import matplotlib.pyplot as plt\n",
    "import seaborn as sns\n",
    "from sklearn.metrics import confusion_matrix\n",
    "from bs4 import BeautifulSoup\n",
    "import json\n",
    "from collections import Counter\n",
    "from common import *\n",
    "\n",
    "# Set the Seaborn style and color palette\n",
    "sns.set_theme(style=\"whitegrid\")\n",
    "custom_palette = sns.color_palette(\"Set2\")"
   ]
  },
  {
   "cell_type": "code",
   "execution_count": 2,
   "id": "0c8ee423",
   "metadata": {},
   "outputs": [],
   "source": [
    "# set system variables\n",
    "! source ~/.bashrc"
   ]
  },
  {
   "cell_type": "code",
   "execution_count": null,
   "id": "c4c5be42",
   "metadata": {},
   "outputs": [],
   "source": [
    "flores200 = pd.read_json('/pfs/lustrep2/scratch/project_462000353/jburdge/git/compare_translations/flores/flores200_europa_eng_dan.jsonl', lines=True)\n",
    "sub = flores200.sample(15)\n",
    "sub = sub.explode('translations')\n",
    "sub.to_json('../data/flores200_subset_for_annotation.jsonl', orient='records', lines=True)"
   ]
  },
  {
   "cell_type": "code",
   "execution_count": null,
   "id": "e385ff40",
   "metadata": {},
   "outputs": [],
   "source": []
  },
  {
   "cell_type": "code",
   "execution_count": null,
   "id": "23efe49f",
   "metadata": {},
   "outputs": [],
   "source": []
  },
  {
   "cell_type": "code",
   "execution_count": null,
   "id": "dad38d27",
   "metadata": {},
   "outputs": [],
   "source": []
  }
 ],
 "metadata": {
  "kernelspec": {
   "display_name": ".plot_venv",
   "language": "python",
   "name": "python3"
  },
  "language_info": {
   "codemirror_mode": {
    "name": "ipython",
    "version": 3
   },
   "file_extension": ".py",
   "mimetype": "text/x-python",
   "name": "python",
   "nbconvert_exporter": "python",
   "pygments_lexer": "ipython3",
   "version": "3.11.7"
  }
 },
 "nbformat": 4,
 "nbformat_minor": 5
}
