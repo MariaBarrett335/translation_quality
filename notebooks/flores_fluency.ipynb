{
 "cells": [
  {
   "cell_type": "code",
   "execution_count": 179,
   "id": "9d92e1bd",
   "metadata": {},
   "outputs": [],
   "source": [
    "import pandas as pd\n",
    "from tqdm import tqdm\n",
    "import time\n",
    "import litellm\n",
    "import os\n",
    "import numpy as np\n",
    "tqdm.pandas()\n",
    "#from .autonotebook import tqdm as notebook_tqdm\n",
    "from sacrebleu.metrics import BLEU, CHRF, TER\n",
    "import pandas as pd\n",
    "import seaborn as sns\n",
    "import matplotlib.pyplot as plt\n",
    "pd.set_option('display.max_colwidth', None)\n",
    "pd.set_option('display.max_columns', None)\n",
    "pd.set_option('display.max_rows', None)\n",
    "import random\n",
    "random.seed(42)\n",
    "from evaluate import load\n",
    "bertscore = load(\"bertscore\")\n",
    "chrf = load(\"chrf\")\n",
    "sacrebleu = load(\"sacrebleu\")\n",
    "\n",
    "from litellm import completion\n",
    "import sys\n",
    "import numpy as np\n",
    "import os\n",
    "import pandas as pd\n",
    "import matplotlib.pyplot as plt\n",
    "import seaborn as sns\n",
    "from sklearn.metrics import confusion_matrix\n",
    "from bs4 import BeautifulSoup\n",
    "import json\n",
    "from collections import Counter\n",
    "from common import *\n",
    "import Levenshtein\n",
    "from sklearn.metrics import mean_squared_error\n",
    "# Set the Seaborn style and color palette\n",
    "sns.set_theme(style=\"whitegrid\")\n",
    "custom_palette = sns.color_palette(\"Set2\")\n",
    "import itertools\n",
    "from collections import defaultdict"
   ]
  },
  {
   "cell_type": "markdown",
   "id": "9ccb11b9",
   "metadata": {},
   "source": [
    "# Fluency evaluation\n",
    "\n",
    "In this notebook, I have annotated up to 10 Europa translations per 15 long Flores sentences with a fluency rating, fluency errors, and the edited sentence. I excluded sentences with hallucinations such that even the dysfluent sentences with some flexibility can be said to encompass the same meaning as the source sentence. An excemption is lexical errors that are included, i.e. a model can output a sentence where a noun is replaced with a non-word or a wrong noun thereby completely changing the sematics of the sentence. These sentences are included. \n",
    "\n",
    "The aim is to find a model that is \n",
    "- able to distinguish fluent from dysfluent sentences-\n",
    "- rate dysfluency\n",
    "- rank sentences by dysfluency\n",
    "- describe the fluency errors\n",
    "\n",
    "We have up to ten fluent versions per source sentence. BLEU works better with multiple references"
   ]
  },
  {
   "cell_type": "code",
   "execution_count": 174,
   "id": "f8a71ea8",
   "metadata": {},
   "outputs": [
    {
     "name": "stdout",
     "output_type": "stream",
     "text": [
      "usage: huggingface-cli <command> [<args>]\n",
      "huggingface-cli: error: unrecognized arguments: --add-to-git-credentials\n"
     ]
    }
   ],
   "source": [
    "# set system variables\n",
    "! source ~/.bashrc\n",
    "\n",
    "# In this script, set the following variables\n",
    "#export HUGGINGFACE_API_KEY=xxx\n",
    "#export OPENAI_API_KEY=xxx\n",
    "#export GEMINI_API_KEY=xxx\n",
    "#export GOOGLE_APPLICATION_CREDENTIALS=/scratch/project_462000353/maribarr/.config/gcloud/application_default_credentials.json\n",
    "#export HF_HOME=/scratch/project_462000353/cache\n"
   ]
  },
  {
   "cell_type": "markdown",
   "id": "38a4769c",
   "metadata": {},
   "source": [
    "## Create file for annotation"
   ]
  },
  {
   "cell_type": "code",
   "execution_count": 16,
   "id": "5befaeaf",
   "metadata": {},
   "outputs": [],
   "source": [
    "# make a set with the longest sentences for annotation \n",
    "flores200 = pd.read_json('/pfs/lustrep2/scratch/project_462000353/jburdge/git/compare_translations/flores/flores200_europa_eng_dan.jsonl', lines=True)\n",
    "\n",
    "flores200['sentence_length'] = flores200['source_sentence'].str.len()\n",
    "\n",
    "# Sort by this length\n",
    "flores200_sorted = flores200.sort_values(by='sentence_length')\n",
    "\n",
    "# If you want to sort in descending order (longest first)\n",
    "flores200_sorted_desc = flores200.sort_values(by='sentence_length', ascending=False)\n",
    "\n",
    "flores200_sorted_desc = flores200_sorted_desc.head(15)\n",
    "sub = flores200_sorted_desc.explode('translations')\n",
    "\n",
    "#sub = flores200.sample(15)\n",
    "#sub = sub.explode('translations')\n",
    "sub.to_csv('../data/flores200_subset_for_annotation.tsv', sep='\\t', index=False)"
   ]
  },
  {
   "cell_type": "code",
   "execution_count": 6,
   "id": "f5e2ebe5",
   "metadata": {},
   "outputs": [],
   "source": [
    "df = pd.read_csv('/scratch/project_462000353/maribarr/translation_quality/data/Flores200_dev.csv', sep=',', index_col=None)"
   ]
  },
  {
   "cell_type": "markdown",
   "id": "5c6debc7",
   "metadata": {},
   "source": [
    "## Identify the fluent and the dysfluent version from pairwise comparison"
   ]
  },
  {
   "cell_type": "code",
   "execution_count": null,
   "id": "0cdf91f7",
   "metadata": {},
   "outputs": [],
   "source": []
  },
  {
   "cell_type": "code",
   "execution_count": 178,
   "id": "b907a241",
   "metadata": {},
   "outputs": [],
   "source": [
    "df.to_csv('/scratch/project_462000353/maribarr/translation_quality/data/Flores200_dev.csv', sep=',', index=None)"
   ]
  },
  {
   "cell_type": "code",
   "execution_count": null,
   "id": "4325f6d9",
   "metadata": {},
   "outputs": [
    {
     "name": "stderr",
     "output_type": "stream",
     "text": [
      "  0%|          | 0/100 [00:00<?, ?it/s]"
     ]
    },
    {
     "name": "stdout",
     "output_type": "stream",
     "text": [
      "translation:   Senere rapporter siger at flyet modtog end bomb trussel og måtte gøre en kvantespring tilbage til Afghanistan, hvorfra det landede i Kandahar.\n",
      "correction:   Senere rapporter sagde så at flyet modtog en bombetrussel og måtte omdirigeres tilbage til Afghanistan, hvor det landede i Kandahar.\n"
     ]
    },
    {
     "name": "stderr",
     "output_type": "stream",
     "text": [
      "  2%|▏         | 2/100 [00:05<04:25,  2.71s/it]"
     ]
    },
    {
     "name": "stdout",
     "output_type": "stream",
     "text": [
      "translation:   Senere rapporterer angiver, at flyet modtog en bombetrussel og blev omdirigeret hjem til Afghanistan, der lander i Kandahar.\n",
      "correction:   Senere rapporterer angav så, at flyet modtog en bombetrussel og blev omdirigeret tilbage til Afghanistan, hvor det landede i Kandahar.\n"
     ]
    },
    {
     "name": "stderr",
     "output_type": "stream",
     "text": [
      "  3%|▎         | 3/100 [00:10<05:59,  3.70s/it]"
     ]
    },
    {
     "name": "stdout",
     "output_type": "stream",
     "text": [
      "translation:   Senere rapporter sagde derefter, at flyet modtog en bombetrussel og blev omdirigeret til Afghanistan, hvor det landede i Kandahar.\n",
      "correction:   Senere rapporter sagde derefter, at flyet modtog en bombetrussel og blev omdirigeret til Afghanistan, hvor det landede i Kandahar.\n"
     ]
    },
    {
     "name": "stderr",
     "output_type": "stream",
     "text": [
      "  4%|▍         | 4/100 [00:14<06:20,  3.96s/it]"
     ]
    },
    {
     "name": "stdout",
     "output_type": "stream",
     "text": [
      "translation:   Senere rapporterer om ændrede de, at flyet var blevet advaret om et muligt bombeanslag og vendte derefter tilbage til Afghanistan og landede i Kandahar.\n",
      "correction:   Senere rapporter sagde så, at flyet var blevet advaret om et muligt bombeangreb og det vendte derefter tilbage til Afghanistan og landede i Kandahar.\n"
     ]
    },
    {
     "name": "stderr",
     "output_type": "stream",
     "text": [
      "  5%|▌         | 5/100 [00:21<07:51,  4.96s/it]"
     ]
    },
    {
     "name": "stdout",
     "output_type": "stream",
     "text": [
      "translation:   Senere rapporterede man om et bombetrussel, hvorefter flyet blev omdirigeret tilbage til Afghanistan og landede i Kandahar.\n",
      "correction:   Senere rapporterede man om en bombetrussel, hvorefter flyet blev omdirigeret tilbage til Afghanistan og landede i Kandahar.\n"
     ]
    },
    {
     "name": "stderr",
     "output_type": "stream",
     "text": [
      "  6%|▌         | 6/100 [00:30<09:41,  6.19s/it]"
     ]
    },
    {
     "name": "stdout",
     "output_type": "stream",
     "text": [
      "translation:   Senere rapporter erklærede, at flyet modtog en bombetrussel og blev omdirigeret tilbage til Afghanistan, landing i Kandahar.\n",
      "correction:   Senere rapporter erklærede, at flyet modtog en bombetrussel og blev omdirigeret tilbage til Afghanistan, hvor det landede i Kandahar.\n"
     ]
    },
    {
     "name": "stderr",
     "output_type": "stream",
     "text": [
      "  7%|▋         | 7/100 [00:35<09:03,  5.84s/it]"
     ]
    },
    {
     "name": "stdout",
     "output_type": "stream",
     "text": [
      "translation:   Efterretninger tilføjede yderligere og sagde senere, at flyet fik en bombe trussel og blev afledt tilbage til Afghanistan, landing i Kandahar.\n",
      "correction:   Efterretninger tilføjede yderligere, at flyet modtog en bombetrussel og blev omdirigeret tilbage til Afghanistan, hvor det landede i Kandahar.\n"
     ]
    },
    {
     "name": "stderr",
     "output_type": "stream",
     "text": [
      "  8%|▊         | 8/100 [00:42<09:37,  6.28s/it]"
     ]
    },
    {
     "name": "stdout",
     "output_type": "stream",
     "text": [
      "translation:   Senere rapporter bekræftede, at flyet modtog en bombetrussel og blev omdirigeret til Afghanistan, hvorefter det landede i Kandahar.\n",
      "correction:   Senere rapporter bekræftede, at flyet modtog en bombetrussel og blev omdirigeret til Afghanistan, hvorefter det landede i Kandahar.\n"
     ]
    },
    {
     "name": "stderr",
     "output_type": "stream",
     "text": [
      "  9%|▉         | 9/100 [00:49<09:48,  6.47s/it]"
     ]
    },
    {
     "name": "stdout",
     "output_type": "stream",
     "text": [
      "translation:   Senere rapporter siger, at flyet modtog en bombetrussel og blev omdirigeret tilbage til Afghanistan, hvor det landede i Kandahar.\n",
      "correction:   Senere rapporter sagde, at flyet modtog en bombetrussel og blev omdirigeret tilbage til Afghanistan, hvor det landede i Kandahar.\n"
     ]
    },
    {
     "name": "stderr",
     "output_type": "stream",
     "text": [
      " 10%|█         | 10/100 [00:58<10:37,  7.09s/it]"
     ]
    },
    {
     "name": "stdout",
     "output_type": "stream",
     "text": [
      "translation:   Senere var der rapporter om, at flyet modtog en bombetruende melding og blev omdirigeret tilbage til Afghanistan, og landede i Kandahar.\n",
      "correction:   Senere var der rapporter om, at flyet modtog en bombetrussel og blev omdirigeret tilbage til Afghanistan, og landede i Kandahar.\n"
     ]
    },
    {
     "name": "stderr",
     "output_type": "stream",
     "text": [
      " 11%|█         | 11/100 [01:04<10:11,  6.88s/it]"
     ]
    },
    {
     "name": "stdout",
     "output_type": "stream",
     "text": [
      "translation:   Bekendtgørelsen kom efter, at Trump havde haft en telefonsamtale med den tyrkiske præsident Recep Tayyip Erdoğan.\n",
      "correction:   Bekendtgørelsen kom efter, at Trump havde haft en telefonsamtale med den tyrkiske præsident Recep Tayyip Erdoğan.\n"
     ]
    },
    {
     "name": "stderr",
     "output_type": "stream",
     "text": [
      " 12%|█▏        | 12/100 [01:09<09:13,  6.29s/it]"
     ]
    },
    {
     "name": "stdout",
     "output_type": "stream",
     "text": [
      "translation:   Udmeldelsen kom, efter Trump havde en telefonsamtale med Tyrkiets præsident, Recep Tayyip Erdoğan.\n",
      "correction:   Udmeldingen kom, efter Trump havde en telefonsamtale med Tyrkiets præsident, Recep Tayyip Erdoğan.\n"
     ]
    },
    {
     "name": "stderr",
     "output_type": "stream",
     "text": [
      " 13%|█▎        | 13/100 [01:16<09:17,  6.41s/it]"
     ]
    },
    {
     "name": "stdout",
     "output_type": "stream",
     "text": [
      "translation:   Bekendtgørelsen blev foretaget, efter at Trump havde en telefonsamtale med Tyrkiets præsident Recep Tayyip Erdoğan.\n",
      "correction:   Bekendtgørelsen blev givet, efter at Trump havde en telefonsamtale med Tyrkiets præsident Recep Tayyip Erdoğan.\n"
     ]
    },
    {
     "name": "stderr",
     "output_type": "stream",
     "text": [
      " 14%|█▍        | 14/100 [01:25<10:27,  7.29s/it]"
     ]
    },
    {
     "name": "stdout",
     "output_type": "stream",
     "text": [
      "translation:   Erklæringen blev fremsat efter, at Trump havde haft en telefonsamtale med Tyrkiets præsident, Recep Tayyip Erdoğan.\n",
      "correction:  Udmeldingen blev givet, efter at Trump havde haft en telefonsamtale med Tyrkiets præsident, Recep Tayyip Erdoğan.\n"
     ]
    },
    {
     "name": "stderr",
     "output_type": "stream",
     "text": [
      " 15%|█▌        | 15/100 [01:31<09:45,  6.89s/it]"
     ]
    },
    {
     "name": "stdout",
     "output_type": "stream",
     "text": [
      "translation:   Meddelelsen kom efter, at Trump havde en telefonsamtale med den tyrkiske præsident Recep Tayyip Erdoğan.\n",
      "correction:   Meddelelsen kom efter, at Trump havde en telefonsamtale med den tyrkiske præsident Recep Tayyip Erdoğan.\n"
     ]
    },
    {
     "name": "stderr",
     "output_type": "stream",
     "text": [
      " 16%|█▌        | 16/100 [01:37<09:09,  6.54s/it]"
     ]
    },
    {
     "name": "stdout",
     "output_type": "stream",
     "text": [
      "translation:   Nyheden blev offentliggjort efter, at Trump havde haft en telefonsamtale med Tyrkiets præsident Recep Tayyip Erdoğan.\n",
      "correction:   Nyheden blev offentliggjort efter, at Trump havde haft en telefonsamtale med Tyrkiets præsident Recep Tayyip Erdoğan.\n"
     ]
    },
    {
     "name": "stderr",
     "output_type": "stream",
     "text": [
      " 17%|█▋        | 17/100 [01:42<08:40,  6.27s/it]"
     ]
    },
    {
     "name": "stdout",
     "output_type": "stream",
     "text": [
      "translation:   Udmeldingen blev foretaget, efter Trump havde en telefonsamtale med Tyrkiets præsident Recep Tayyip Erdoğan.\n",
      "correction:   Udmeldingen blev foretaget, efter Trump havde en telefonsamtale med Tyrkiets præsident Recep Tayyip Erdoğan.\n"
     ]
    },
    {
     "name": "stderr",
     "output_type": "stream",
     "text": [
      " 18%|█▊        | 18/100 [01:48<08:29,  6.21s/it]"
     ]
    },
    {
     "name": "stdout",
     "output_type": "stream",
     "text": [
      "translation:   Budskabet kom, da Trump havde telefonisk kontakt med Tyrkiets præsident Recep Tayyip Erdoğan.\n",
      "correction:   Udmeldingen  kom efter Trump havde telefonisk kontakt med Tyrkiets præsident Recep Tayyip Erdoğan.\n"
     ]
    },
    {
     "name": "stderr",
     "output_type": "stream",
     "text": [
      " 19%|█▉        | 19/100 [01:57<09:25,  6.98s/it]"
     ]
    },
    {
     "name": "stdout",
     "output_type": "stream",
     "text": [
      "translation:   Meddelelsen kom efter, at Trump havde foretaget en telefonisk samtale med Tyrkiets præsident, Recep Tayyip Erdoğan.\n",
      "correction:   Meddelelsen kom efter, at Trump havde foretaget en telefonsamtale med Tyrkiets præsident, Recep Tayyip Erdoğan.\n"
     ]
    },
    {
     "name": "stderr",
     "output_type": "stream",
     "text": [
      " 20%|██        | 20/100 [02:05<09:43,  7.29s/it]"
     ]
    },
    {
     "name": "stdout",
     "output_type": "stream",
     "text": [
      "translation:   Deres termiske ​​adfærd er ikke så stabil som store huler på jorden, der ofte holder en forholdsvis konstant temperatur, men det er konsistent, at hulerne her er dybe huller i jorden\", sagde Glenn Cushing fra USGS Astrogeology Team og fra Northern Arizona University, lokaliseret i Flagstaff, Arizona.\n",
      "correction:   Deres termiske ​​opførsel er ikke så stabil som store huler på jorden, der ofte holder en forholdsvis konstant temperatur, men det passer med at hulerne her er dybe huller i jorden\", sagde Glenn Cushing fra USGS Astrogeology Team og fra Northern Arizona University, Flagstaff, Arizona.\n"
     ]
    },
    {
     "name": "stderr",
     "output_type": "stream",
     "text": [
      " 21%|██        | 21/100 [02:11<08:58,  6.82s/it]"
     ]
    },
    {
     "name": "stdout",
     "output_type": "stream",
     "text": [
      "translation:   Deres termiske adfærd er ikke så stabil som dybe huler på jorden, som ofte har en nogenlunde konstant temperatur, men det er i overensstemmelse med at disse er dybe huller i jorden, sagde Glen Cushing fra den amerikanske Geologiske Undersøgelses (USGS) Astrogeologi Team og fra Northern Arizona University med base i Flagstaff, Arizona.\n",
      "correction:   Deres termiske opførsel er ikke så stabil som dybe huler på jorden, som ofte har en nogenlunde konstant temperatur, men det er i overensstemmelse med at disse er dybe huller i jorden, sagde Glen Cushing fra den amerikanske Geologiske Undersøgelses (USGS) Astrogeologi Team og fra Northern Arizona University, Flagstaff, Arizona.\n"
     ]
    },
    {
     "name": "stderr",
     "output_type": "stream",
     "text": [
      " 22%|██▏       | 22/100 [02:19<09:15,  7.13s/it]"
     ]
    },
    {
     "name": "stdout",
     "output_type": "stream",
     "text": [
      "translation:   Deres termiske adfærd er ikke så fast som på Jordens store huler (cave), som ofte har en forholdsvis konstant temperatur, men det stemmer overens med, at der er tale om dybgrave i jorden,\" sagde Glen Cushing, fra USGS' Astrogeologi-gruppe, og fra Northern Arizona Universitet i Flagstaff, Arizona.\n",
      "correction:  Deres termiske opførsel er ikke så konsistent som i Jordens store huler, som ofte har en forholdsvis konstant temperatur, men det stemmer overens med, at der er tale om dybe huller i jorden,\" sagde Glen Cushing, fra USGS' Astrogeologi-gruppe, og fra Northern Arizona Universitet i Flagstaff, Arizona.\n"
     ]
    },
    {
     "name": "stderr",
     "output_type": "stream",
     "text": [
      " 23%|██▎       | 23/100 [02:24<08:18,  6.47s/it]"
     ]
    },
    {
     "name": "stdout",
     "output_type": "stream",
     "text": [
      "translation:   Deres termiske adfærd er ikke så stabil som de store huler på Jorden, som ofte opretholder en næsten konstant temperatur, men det er konsekvent med, at disse er dybe huller i jorden,\" sagde Glen Cushing fra USGS Astrogeologi Team og fra Northern Arizona University, som ligger i Flagstaff, Arizona.\n",
      "correction:   Deres termiske opførsel er ikke så stabil som de store huler på Jorden, som ofte opretholder en næsten konstant temperatur, men det passer med, at disse er dybe huller i jorden,\" sagde Glen Cushing fra USGS Astrogeologi Team og fra Northern Arizona University, Flagstaff, Arizona.\n"
     ]
    },
    {
     "name": "stderr",
     "output_type": "stream",
     "text": [
      " 24%|██▍       | 24/100 [02:32<08:57,  7.07s/it]"
     ]
    },
    {
     "name": "stdout",
     "output_type": "stream",
     "text": [
      "translation:   Deres termiske adfærd (temperaturudvikling) er ikke så konstant som i store huler på Jorden, som ofte opretholder en rimelig konstant temperatur, men den er i overensstemmelse med, at disse er dybe huller i jorden.\n",
      "correction:  Deres termiske opførsel er ikke så konstant som i store huler på Jorden, som ofte opretholder en rimelig konstant temperatur, men den er i overensstemmelse med, at disse er dybe huller i jorden, sagde Glen Cushing fra USGS Astrogeologi Team og fra Northern Arizona University, Flagstaff, Arizona..\n"
     ]
    },
    {
     "name": "stderr",
     "output_type": "stream",
     "text": [
      " 25%|██▌       | 25/100 [02:38<08:33,  6.84s/it]"
     ]
    },
    {
     "name": "stdout",
     "output_type": "stream",
     "text": [
      "translation:   Temperaturen svinger ikke lige så meget i dem som i store huler på Jorden, men den er i tråd med det, at de har været dybe gruber i jorden,” fortalte Glen Cushing fra USGS Astrogeology Team og Northern Arizona University, som har base i Flagstaff, Arizona.\n",
      "correction:   Temperaturen svinger mere i dem end i store huler på Jorden, men den er i tråd med det, at de er dybe gruber i jorden,” fortalte Glen Cushing fra USGS Astrogeology Team og Northern Arizona University, Flagstaff, Arizona.\n"
     ]
    },
    {
     "name": "stderr",
     "output_type": "stream",
     "text": [
      " 26%|██▌       | 26/100 [02:45<08:17,  6.72s/it]"
     ]
    },
    {
     "name": "stdout",
     "output_type": "stream",
     "text": [
      "translation:   Deres termiske adfærd er ikke så konstant som de store huler på jorden, der ofte opretholder en forholdsvis konstant temperatur, men det er i overensstemmelse med disse er dybe huler i jorden, \"sagde Glen Cushing af den amerikanske Geological Survey (USGS) starfelt team og North Arizona University, der ligger i Flagstaff , Arizona.\n",
      "correction:   Deres termiske opførsel er ikke så konstant som de store huler på jorden, der ofte opretholder en forholdsvis konstant temperatur, men det er i overensstemmelse med at disse er dybe huler i jorden, \"sagde Glen Cushing af den amerikanske Geological Survey (USGS) starfelt team og North Arizona University, Flagstaff , Arizona.\n"
     ]
    },
    {
     "name": "stderr",
     "output_type": "stream",
     "text": [
      " 27%|██▋       | 27/100 [02:52<08:12,  6.75s/it]"
     ]
    },
    {
     "name": "stdout",
     "output_type": "stream",
     "text": [
      "translation:   Den termiske adfærd er ikke så stabil som hulerne på Jorden, som ofte fastholder en næsten konstant temperatur, men det er i overensstemmelse med disse dybhuller i jorden,« siger Glen Cushing fra USGS Astrogeology Team og fra Northern Arizona University beliggende i Flagstaff, Arizona.\n",
      "correction:   De termiske observationer er ikke så stabile som i de store huler på Jorden, som ofte opretholder en næsten konstant temperatur, men det er i overensstemmelse med at disse er dybe huller i jorden,« siger Glen Cushing fra USGS Astrogeology Team og fra Northern Arizona University, Flagstaff, Arizona.\n"
     ]
    },
    {
     "name": "stderr",
     "output_type": "stream",
     "text": [
      " 28%|██▊       | 28/100 [02:56<07:23,  6.15s/it]"
     ]
    },
    {
     "name": "stdout",
     "output_type": "stream",
     "text": [
      "translation:   Den termiske adfærd er ikke så stabil som store huler på Jorden, der ofte opretholder en forholdsvis konstant temperatur, men det er i tråd med dem er dybe huller i jorden,\" sagde Glen Cushing fra de Forenede USA Geologiske Survey (USGS) Astrogeologi Team og på Northern Arizona University beliggende i Flagstaff, Arizona.\n",
      "correction:   Den termiske opførsel er ikke så stabil som store huler på Jorden, der ofte opretholder en forholdsvis konstant temperatur, men det er i tråd med at disse er dybe huller i jorden,\" sagde Glen Cushing fra USA's Geologiske Survey (USGS) Astrogeologi Team og fra Northern Arizona University, Flagstaff, Arizona.\n"
     ]
    },
    {
     "name": "stderr",
     "output_type": "stream",
     "text": [
      " 29%|██▉       | 29/100 [03:03<07:17,  6.16s/it]"
     ]
    },
    {
     "name": "stdout",
     "output_type": "stream",
     "text": [
      "translation:   Deres termiske adfærd er ikke så stabil som store huler på Jorden, som ofte holder en forholdsvis konstant temperatur, men det er i overensstemmelse med disse at være dybe huller i jorden,\" siger Glen Cushing fra USAs Geologiske Undersøgelse (USGS) Astrogeologi Hold og fra Northern Arizona Universitet ligger i Flagstaf, Arizona.\n",
      "correction:   Deres termiske opførsel er ikke så stabil som store huler på Jorden, som ofte holder en forholdsvis konstant temperatur, men det er i overensstemmelse med at disse er dybe huller i jorden,\" siger Glen Cushing fra USAs Geologiske Undersøgelse (USGS) Astrogeologi Team og fra Northern Arizona Universitet, Flagstaf, Arizona.\n"
     ]
    },
    {
     "name": "stderr",
     "output_type": "stream",
     "text": [
      " 30%|███       | 30/100 [03:11<07:48,  6.69s/it]"
     ]
    },
    {
     "name": "stdout",
     "output_type": "stream",
     "text": [
      "translation:   Deres termiske opførsel er ikke så konstant som dybe, store huler på Jorden, som ofte opretholder en forholdsvis konstant temperatur, men de stemmer overens med, at dette er dybe, huler i jorden, sagde Glen Cushing fra USGS’s Astrogeology Team og fra Northern Arizona University i Flagstaff, Arizona.\n",
      "correction:   Deres termiske opførsel er ikke så konstant som dybe, store huler på Jorden, som ofte opretholder en forholdsvis konstant temperatur, men de stemmer overens med, at dette er dybe huler i jorden, sagde Glen Cushing fra USGS’s Astrogeology Team og fra Northern Arizona University i Flagstaff, Arizona.\n"
     ]
    },
    {
     "name": "stderr",
     "output_type": "stream",
     "text": [
      " 31%|███       | 31/100 [03:15<06:52,  5.97s/it]"
     ]
    },
    {
     "name": "stdout",
     "output_type": "stream",
     "text": [
      "translation:   Deres termiske opførsel er ikke så stabil som større huler på Jorden, som ofte opretholder en forholdsvis konstant temperatur, men er i overensstemmelse med disse er dybe huller i jorden, \"sagde Glen Cushing fra United States Geological Survey (USGS) Astrogeology Team og fra Northern Arizona University beliggende i Flagstaff, Arizona.\n",
      "correction:   Deres termiske opførsel er ikke så stabil som større huler på Jorden, som ofte opretholder en forholdsvis konstant temperatur, men er i overensstemmelse med disse er dybe huller i jorden, \"sagde Glen Cushing fra United States Geological Survey (USGS) Astrogeology Team og fra Northern Arizona University, Flagstaff, Arizona.\n"
     ]
    },
    {
     "name": "stderr",
     "output_type": "stream",
     "text": [
      " 32%|███▏      | 32/100 [03:23<07:35,  6.69s/it]"
     ]
    },
    {
     "name": "stdout",
     "output_type": "stream",
     "text": [
      "translation:   Den faste sekretær for Nobelkomiteen for Litteratur ved den Svenske Akademi, Sara Danius, offentliggjorde på mandag under et radioprogram for Sveriges Radio i Sverige på Sveriges Radio, at komiteen, som manglede evne til at rette kontakten til Bob Dylan for at gratulere ham med Nobelprisen i Litteratur for 2016et, havde opgivet forsøgene på at nå ham.\n",
      "correction:   Den permanente sekretær for Nobelkomiteen for Litteratur ved den Svenske Akademi, Sara Danius, offentliggjorde i mandags under et radioprogram for Sveriges Radio, at komiteen, som ikke havde kunnet få kontakt til Bob Dylan for at lykønske ham med Nobelprisen i Litteratur i 2016, havde opgivet forsøgene på at kontakte ham.\n"
     ]
    },
    {
     "name": "stderr",
     "output_type": "stream",
     "text": [
      " 33%|███▎      | 33/100 [03:31<07:48,  6.99s/it]"
     ]
    },
    {
     "name": "stdout",
     "output_type": "stream",
     "text": [
      "translation:   På mandag meddelte Sara Danius, permanent sekretær ved den Svenske Akademis Nobelkomite, offentligt i et radioprogram på Sveriges radio i Sverige, at komiteen, der ikke kunne komme i kontakt med 2016 Nobel-prismodtageren Dylan, opgav at videreføre sine bestræbelser på at nå ham.\n",
      "correction:  I mandags meddelte Sara Danius, permanent sekretær ved den Svenske Akademis Nobelkomite, offentligt i et radioprogram på Sveriges Radio, at komiteen, der ikke kunne komme i kontakt med 2016 Nobel-prismodtageren Bob Dylan, havde opgivet at kontake ham ham.\n"
     ]
    },
    {
     "name": "stderr",
     "output_type": "stream",
     "text": [
      " 34%|███▍      | 34/100 [03:37<07:14,  6.58s/it]"
     ]
    },
    {
     "name": "stdout",
     "output_type": "stream",
     "text": [
      "translation:   MANDAG offentliggjorde Sara Danius, permanent sekretær for Nobelkomiteen for Litteratur ved det svenske Akademi, på en radiosending på Sveriges Radio i Sverige, at Nobelkomiteen for Litteratur, ude af stand til at få fat i Bob Dylan direkte, for at overrække ham Nobelprisen i litteratur for 2016, havde ladet sine anstrengelser for at få fat i ham falde.\n",
      "correction:   MANDAG offentliggjorde Sara Danius, permanent sekretær for Nobelkomiteen for Litteratur ved det Svenske Akademi, i en radioudsendelse på Sveriges Radio, at Nobelkomiteen for Litteratur, der var ude af stand til at få fat i Bob Dylan for at overrække ham Nobelprisen i litteratur for 2016, havde opgivet at kontakte ham.\n"
     ]
    },
    {
     "name": "stderr",
     "output_type": "stream",
     "text": [
      " 35%|███▌      | 35/100 [03:44<07:15,  6.71s/it]"
     ]
    },
    {
     "name": "stdout",
     "output_type": "stream",
     "text": [
      "translation:   Sara Danius, permanent sekretær for Nobelkomiteen for litteratur ved Svenska Akademin, meddelte på et radioprogram af Sveriges Radio i Sverige, at Nobelkomiteen, ude af stand til at nå Bob Dylan direkte angående indsættelsen af Nobelprisen for 2016, havde opgivet at kontakte ham.\n",
      "correction:   Sara Danius, permanent sekretær for Nobelkomiteen for litteratur ved Svenska Akademien, meddelte på et radioprogram af Sveriges Radio, at Nobelkomiteen, der var ude af stand til at kontakte Bob Dylan angående overrækkelsen af Nobelprisen for 2016, havde opgivet at kontakte ham.\n"
     ]
    },
    {
     "name": "stderr",
     "output_type": "stream",
     "text": [
      " 36%|███▌      | 36/100 [03:49<06:45,  6.34s/it]"
     ]
    },
    {
     "name": "stdout",
     "output_type": "stream",
     "text": [
      "translation:   Sara Danius, sekretær permanent i Nobelkomitéen for Litteratur ved Svenska Akademien, offentliggjorde mandag i radioen Sveriges radio, at komitéen, ikke var i stand til at snakke med Bob Dylan vedrørende Nobelprisen i litteratur 2016, havde opgivet sit forsøg på at snakke med ham.\n",
      "correction:   Sara Danius, permanent sekretær i Nobelkomitéen for Litteratur ved Svenska Akademien, offentliggjorde mandag i Sveriges Radio, at komitéen ikke var i stand til at kontakte med Bob Dylan vedrørende Nobelprisen i litteratur 2016, og nu havde opgivet sit forsøg på at komme i kontakt med ham.\n"
     ]
    },
    {
     "name": "stderr",
     "output_type": "stream",
     "text": [
      " 37%|███▋      | 37/100 [03:53<06:01,  5.74s/it]"
     ]
    },
    {
     "name": "stdout",
     "output_type": "stream",
     "text": [
      "translation:   På mandag offentliggjorde Sara Danius, permanent sekretær for Nobelpris-komitéen for litteratur ved den Svenske Akademi, offentligt i et radioprogram på Sveriges Radio i Sverige, at komitéen, der ikke har haft mulighed for at nå Bob Dylan direkte vedrørende hans modtagelse af Nobelprisen i litteratur i 2016, derfor havde opgivet at gøre dette.\n",
      "correction:   Mandag offentliggjorde Sara Danius, permanent sekretær for Nobelpris-komitéen for litteratur ved det Svenske Akademi, offentligt i et radioprogram på Sveriges Radio, at komitéen, der ikke har formået at komme i kontakt med Bob Dylan vedrørende hans modtagelse af Nobelprisen i litteratur i 2016, nu har opgivet dette.\n"
     ]
    },
    {
     "name": "stderr",
     "output_type": "stream",
     "text": [
      " 38%|███▊      | 38/100 [04:00<06:16,  6.07s/it]"
     ]
    },
    {
     "name": "stdout",
     "output_type": "stream",
     "text": [
      "translation:   Mandag annoncerede Sara Danius, permanent sekretær for Nobelkomitéen for Litteratur hos den Svenske Akademi, offentligt i et radioprogram på Sveriges Radio i Sverige, at komitéen, ude af stand til at komme i kontakt med Bob Dylan, opgav at forsøge at kontakte ham.\n",
      "correction:   Mandag annoncerede Sara Danius, permanent sekretær for Nobelkomitéen for Litteratur hos det Svenske Akademi, offentligt i et radioprogram på Sveriges Radio, at komitéen, ude af stand til at komme i kontakt med Bob Dylan, nu opgav at forsøge at kontakte ham.\n"
     ]
    },
    {
     "name": "stderr",
     "output_type": "stream",
     "text": [
      " 39%|███▉      | 39/100 [04:08<06:36,  6.49s/it]"
     ]
    },
    {
     "name": "stdout",
     "output_type": "stream",
     "text": [
      "translation:   Sara Danius, permanent sekretær i Nobelkomiteen for Litteratur hos det Svenske Akademi, bekendtgjorde under et radioprogram på Sveriges Radio i Sverige, at komiteen, der ikke kunne komme i kontakt med Bob Dylan direkte om Nobelprisen i litteratur 2016, havde opgivet at kontakte ham.\n",
      "correction:   Sara Danius, permanent sekretær i Nobelkomiteen for Litteratur hos det Svenske Akademi, bekendtgjorde under et radioprogram på Sveriges Radio, at komiteen, der ikke kunne komme i kontakt med Bob Dylan direkte om Nobelprisen i litteratur 2016, havde opgivet at kontakte ham.\n"
     ]
    },
    {
     "name": "stderr",
     "output_type": "stream",
     "text": [
      " 40%|████      | 40/100 [04:16<06:59,  6.99s/it]"
     ]
    },
    {
     "name": "stdout",
     "output_type": "stream",
     "text": [
      "translation:   Mandag offentliggjorde Sara Danius, permanent sekretær for Nobelpriskomitéen for Litteratur i Svenska Akademien, på Sveriges Radio i Sverige, i et radioprogram, at komitéen, som ikke var i stand til at komme i kontakt med Bob Dylan, havde opgivet forsøget på at genoprette kontakten med ham.\n",
      "correction:   Mandag offentliggjorde Sara Danius, permanent sekretær for Nobelpriskomitéen for Litteratur i Svenska Akademien, på Sveriges Radio, i et radioprogram, at komitéen, som ikke var i stand til at komme i kontakt med Bob Dylan, havde opgivet forsøget på at opnå kontakt til ham.\n"
     ]
    },
    {
     "name": "stderr",
     "output_type": "stream",
     "text": [
      " 41%|████      | 41/100 [04:26<07:56,  8.08s/it]"
     ]
    },
    {
     "name": "stdout",
     "output_type": "stream",
     "text": [
      "translation:   Mandag meddelte Sara Danius, permanent sekretær for Nobelkomitéen for litteratur hos den Svenske Akademien, offentligt i et radioprogram på Sveriges Radio i Sverige, at komitéen, ikke i stand til direkte at få kontakt til Bob Dylan, havde opgivet sit forsøg på at kontakte ham.\n",
      "correction:   Mandag meddelte Sara Danius, permanent sekretær for Nobelkomitéen for litteratur hos det Svenske Akademi, offentligt i et radioprogram på Sveriges Radio, at komitéen, der ikke var i stand til at få kontakt til Bob Dylan, havde opgivet sit forsøg på at kontakte ham.\n"
     ]
    },
    {
     "name": "stderr",
     "output_type": "stream",
     "text": [
      " 42%|████▏     | 42/100 [04:35<07:55,  8.19s/it]"
     ]
    },
    {
     "name": "stdout",
     "output_type": "stream",
     "text": [
      "translation:   Som NSA assisterede Carter i diplomatisk håndtering af verdens anliggender, såsom Camp David-aftalerne i 1978, normaliseringen af forholdet mellem USA og Kina i slutningen af 1970erne; den iranske revolution, der førte til gidselkrisen i Iran i 1979; og den sovjetiske invasion i Afghanistan i 1979.\n",
      "correction:   Som NSA assisterede han Carter i diplomatisk håndtering af verdens anliggender, såsom Camp David-aftalerne i 1978, normaliseringen af forholdet mellem USA og Kina i slutningen af 1970erne; den iranske revolution, der førte til Iran-gidsel-affæren i 1979; og den sovjetiske invasion i Afghanistan i 1979.\n"
     ]
    },
    {
     "name": "stderr",
     "output_type": "stream",
     "text": [
      " 43%|████▎     | 43/100 [04:44<07:59,  8.42s/it]"
     ]
    },
    {
     "name": "stdout",
     "output_type": "stream",
     "text": [
      "translation:   Som NSA, hjalp han Carter med diplomatisk at styre verdenssager, såsom Camp David-aftalerne i 1978; at normalisere relationerne mellem USA og Kina i slutningen af 70erne; den iranske revolution, som led til den iranske gidselsituation i 1979; og den sovjetiske invasion i Afghanistan i 1979.\n",
      "correction:   Som NSA, hjalp han Carter med diplomatisk at styre verdensanliggender, såsom Camp David-aftalerne i 1978; at normalisere relationerne mellem USA og Kina i slutningen af 70erne; den iranske revolution, som førte  til Iran-gidsel-affæren i 1979; og den sovjetiske invasion i Afghanistan i 1979.\n"
     ]
    },
    {
     "name": "stderr",
     "output_type": "stream",
     "text": [
      " 44%|████▍     | 44/100 [04:48<06:44,  7.23s/it]"
     ]
    },
    {
     "name": "stdout",
     "output_type": "stream",
     "text": [
      "translation:   Som NSA, hjalp han Carter i diplomatisk håndteringen af verdens anliggender, såsom forhandlinger i Camp David, 1978; normaliseringen af de amerikanske og kinesiske relationer omkring slutningen af 1970erne; den iranske revolution, som førte til Iransk gidseldrama i 1979; og den sovjetiske invasion i Afghanistan, 1979.\n",
      "correction:   Som NSA, hjalp han Carter i diplomatisk håndteringen af verdens anliggender, såsom forhandlinger i Camp David, 1978; normaliseringen af de amerikanske og kinesiske relationer omkring slutningen af 1970erne; den iranske revolution, som førte til Iran-gidsel-affæren i 1979; og den sovjetiske invasion i Afghanistan, 1979.\n"
     ]
    },
    {
     "name": "stderr",
     "output_type": "stream",
     "text": [
      " 45%|████▌     | 45/100 [04:56<06:42,  7.32s/it]"
     ]
    },
    {
     "name": "stdout",
     "output_type": "stream",
     "text": [
      "translation:   Som NSA samarbejdede han med Carter om at håndtere verdensanliggender diplomatisk, som f.eks. Camp David-aftalen, 1978; om at normalisere USA–Kina forhold i slutningen af 1970'erne; den iranske revolution, som førte til Iran-gisler-situationen i 1979; og den sovjetiske invasion i 1979.\n",
      "correction:   Som NSA samarbejdede han med Carter om at håndtere verdensanliggender diplomatisk, som f.eks. Camp David-aftalen, 1978; om at normalisere USA–Kina forhold i slutningen af 1970'erne; den iranske revolution, som førte til Iran-gidsel-affæren i 1979; og den sovjetiske invasion af Afghanistan i 1979.\n"
     ]
    },
    {
     "name": "stderr",
     "output_type": "stream",
     "text": [
      " 46%|████▌     | 46/100 [05:02<06:14,  6.93s/it]"
     ]
    },
    {
     "name": "stdout",
     "output_type": "stream",
     "text": [
      "translation:   Som NSA, han bistod Carter med håndtering diplomatiske anliggender i verden, såsom Camp David-aftalerne, 1978; at normalisere USA-Kina relationer i slutningen af 1970'erne; den iranske revolution, der førte til Irans gidseldrama, 1979; og den sovjetiske invasion i Afghanistan, 1979.\n",
      "correction:   Som NSA, bistod han Carter med håndtering diplomatiske anliggender i verden, såsom Camp David-aftalen, 1978; at normalisere USA-Kina-relationen i slutningen af 1970'erne; den iranske revolution, der førte til Iran-gidsel-affæren, 1979; og den sovjetiske invasion i Afghanistan, 1979.\n"
     ]
    },
    {
     "name": "stderr",
     "output_type": "stream",
     "text": [
      " 47%|████▋     | 47/100 [05:12<06:53,  7.81s/it]"
     ]
    },
    {
     "name": "stdout",
     "output_type": "stream",
     "text": [
      "translation:   Som NSA, hjalp han Carter med at manipulere diplomatiske forhold i verden, som for eksempel Camp David-aftalen i 1978; med hensyn til at normalisere americanaftale med Kina i slutningen af 1970'erne; den iranske revolution i 1979, som resulterede i Den iranske gidselikrise og en sovjetisk invasion i Afghanistan i 1979.\n",
      "correction:   Som NSA, hjalp han Carter med at håndtere diplomatiske forhold i verden, som for eksempel Camp David-aftalen i 1978; normalisere forholdet mellem  USA og Kina  i slutningen af 1970'erne; den iranske revolution i 1979, som resulterede i Den iranske gidselkrise og den sovjetiske invasion i Afghanistan i 1979.\n"
     ]
    },
    {
     "name": "stderr",
     "output_type": "stream",
     "text": [
      " 48%|████▊     | 48/100 [05:20<06:49,  7.88s/it]"
     ]
    },
    {
     "name": "stdout",
     "output_type": "stream",
     "text": [
      "translation:   Som NSA, bidrog han til Carters diplomatiske håndtering af internationale problemer såsom Camp David-aftalerne fra 1978; normaliseringen af US-China-forbindelser i slutningen af 1970'erne; den iranske revolution, der førte til den iranske gidselkrise fra 1979; og Sovjetunionens invasion af Afghanistan i 1979.\n",
      "correction:   Som NSA, bidrog han til Carters diplomatiske håndtering af internationale problemer såsom Camp David-aftalen i 1978; normaliseringen af US-China-forbindelser i slutningen af 1970'erne; den iranske revolution, der førte til den iranske gidselkrise fra 1979; og Sovjetunionens invasion af Afghanistan i 1979.\n"
     ]
    },
    {
     "name": "stderr",
     "output_type": "stream",
     "text": [
      " 49%|████▉     | 49/100 [05:25<06:03,  7.13s/it]"
     ]
    },
    {
     "name": "stdout",
     "output_type": "stream",
     "text": [
      "translation:   Perry sagde, at han ville \"vende tilbage til Texas for at vurdere resultaterne af aftenens caucus og afgøre, hvorvidt der er en vej frem for mig i dette løb\", men sagde senere, at han ville blive i racet og konkurrere i South Carolina primærvalget den 21. januar.\n",
      "correction:   Perry sagde, at han ville \"vende tilbage til Texas for at vurdere resultaterne af aftenens caucus og afgøre, hvorvidt der er en vej frem for mig i denne valgkamp\", men sagde senere, at han ville fortsætte sin kampagne og stille op i South Carolina primærvalget den 21. januar.\n"
     ]
    },
    {
     "name": "stderr",
     "output_type": "stream",
     "text": [
      " 50%|█████     | 50/100 [05:30<05:15,  6.30s/it]"
     ]
    },
    {
     "name": "stdout",
     "output_type": "stream",
     "text": [
      "translation:   Perry sagde, at han ville \"vende tilbage til Texas for at vurdere resultatet af aftenens caucus, bestemme om der er en vej frem for mig i dette valg og\" senere sagde, at han ville blive og konkurrere i primærvalget i South Carolina den 21. januar.\n",
      "correction:   Perry sagde, at han ville \"vende tilbage til Texas for at vurdere resultatet af aftenens caucus, og se om der er en vej frem for mig i dette valg og\" senere sagde han, at han ville blive og stille op i primærvalget i South Carolina den 21. januar.\n"
     ]
    },
    {
     "name": "stderr",
     "output_type": "stream",
     "text": [
      " 51%|█████     | 51/100 [05:37<05:18,  6.51s/it]"
     ]
    },
    {
     "name": "stdout",
     "output_type": "stream",
     "text": [
      "translation:   Perry sagde, at han ville \"vende tilbage til Texas for at vurdere resultaterne af aftenens caucus, finde ud af, om der er en vej frem for mig til dette løb,\" men han fortalte senere, han ville blive i løbet og konkurrere i den indledende runde i South Carolina den 21 januar.\n",
      "correction:   Perry sagde, at han ville \"vende tilbage til Texas for at vurdere resultaterne af aftenens caucus, finde ud af, om der er en vej frem for mig til denne valgkamp,\" men han fortalte senere, han ville blive i valgkampen og stille op i den indledende runde i South Carolina den 21 januar.\n"
     ]
    },
    {
     "name": "stderr",
     "output_type": "stream",
     "text": [
      " 52%|█████▏    | 52/100 [05:43<05:16,  6.59s/it]"
     ]
    },
    {
     "name": "stdout",
     "output_type": "stream",
     "text": [
      "translation:   Perry udtalte, at han ville \"vende tilbage til Texas for at evaluere resultaterne af aftenens valgmøde, for at finde ud af, om der findes en vej frem for mig i dette valg\", men udtalte senere, at han ville fortsætte i valget og konkurrere i primærvalget i South Carolina den 21. januar).\n",
      "correction:   Perry udtalte, at han ville \"vende tilbage til Texas for at evaluere resultaterne af aftenens valgmøde, for at finde ud af, om der findes en vej frem for mig i dette valg\", men udtalte senere, at han ville fortsætte i valget og gå efter sejren i primærvalget i South Carolina den 21. januar.\n"
     ]
    },
    {
     "name": "stderr",
     "output_type": "stream",
     "text": [
      " 53%|█████▎    | 53/100 [05:49<04:52,  6.23s/it]"
     ]
    },
    {
     "name": "stdout",
     "output_type": "stream",
     "text": [
      "translation:   Perry sagde, at han ville \"vende tilbage til Texas for at vurdere resultaterne af aftenens caucus og fastlægge, om der er en vej for mig selv i dette løb\", men sagdere senere, at han ville blive i løbet og ville deltage i primærvalget den 21. januar i South Carolina.\n",
      "correction:   Perry sagde, at han ville \"vende tilbage til Texas for at vurdere resultaterne af aftenens caucus og beslutte, om der er en vej for mig selv i dette valg\", men sagde senere, at han ville blive i løbet og ville deltage i primærvalget den 21. januar i South Carolina.\n"
     ]
    },
    {
     "name": "stderr",
     "output_type": "stream",
     "text": [
      " 54%|█████▍    | 54/100 [05:55<04:51,  6.34s/it]"
     ]
    },
    {
     "name": "stdout",
     "output_type": "stream",
     "text": [
      "translation:   Perry angav, at han ville \"vende tilbage til Texas for at bedømme resultaterne af natternes caucus, for at fastslå om der er en sti frem for mig i denne valgkamp\", men sagde senere, at han ville blive i løbet og stille op i den 21. januar i Syd Carolina.\n",
      "correction:   Perry angav, at han ville \"vende tilbage til Texas for at bedømme resultaterne af natternes caucus, for at fastslå om der er en vej frem for mig i denne valgkamp\", men sagde senere, at han ville blive i valgkampen og stille op i den 21. januar i South Carolina.\n"
     ]
    },
    {
     "name": "stderr",
     "output_type": "stream",
     "text": [
      " 55%|█████▌    | 55/100 [06:03<05:00,  6.69s/it]"
     ]
    },
    {
     "name": "stdout",
     "output_type": "stream",
     "text": [
      "translation:   Perry erklærede, at han ville \"vende tilbage til Texas for at vurdere resultaterne af tonight's caucus, bestemme om der er en vej fremad for mig i løbet\", men han senere ville forblive i indtrækningen og konkurrere i den South Carolina primær den 21. januar.\n",
      "correction:   Perry erklærede, at han ville \"vende tilbage til Texas for at vurdere resultaterne af aftenens caucus, bestemme om der er en vej fremad for mig i valgkampen\", men han sagde senere ville forblive i valgkampen og stille op i  South Carolina primærvalg den 21. januar.\n"
     ]
    },
    {
     "name": "stderr",
     "output_type": "stream",
     "text": [
      " 56%|█████▌    | 56/100 [06:09<04:52,  6.65s/it]"
     ]
    },
    {
     "name": "stdout",
     "output_type": "stream",
     "text": [
      "translation:   Perry meddelte, at han ville \"komme tilbage til Texas for at evaluere resultaterne af aftenens caucus, afgøre, om der var er en mulig sti for mig i denne valgkamp\", men senere meddelte at han ville blive i valgkampen og konkurrere i den 21. januars primærvalg i South Carolina.\n",
      "correction:   Perry meddelte, at han ville \"tage tilbage til Texas for at evaluere resultaterne af aftenens caucus, afgøre om der var er en mulig vej frem for mig i denne valgkamp\", men senere meddelte at han ville blive i valgkampen om primærvalget i South Carolina d. 21. januar.\n"
     ]
    },
    {
     "name": "stderr",
     "output_type": "stream",
     "text": [
      " 57%|█████▋    | 57/100 [06:16<04:47,  6.70s/it]"
     ]
    },
    {
     "name": "stdout",
     "output_type": "stream",
     "text": [
      "translation:   Perry sagde at hun ville \"returne to Texas to assess te outcomes of tonight's caucus, determine whether there is a path forward for myself in this race\", men senere sagde hun at hun ville blive i konkurrencen og deltage i den Syd Carolina vælgerkonvent den 21 januar.\n",
      "correction:   Perry sagde at han ville \"tage tilbage til Texas for at evaluere resultaterne af aftenens caucus, afgøre om der var er en mulig vej frem for mig i denne valgkamp\", men senere sagde han at han ville blive i valgkampen og deltage i primærvalget i South Carolina d. 21 januar.\n"
     ]
    },
    {
     "name": "stderr",
     "output_type": "stream",
     "text": [
      " 58%|█████▊    | 58/100 [06:23<04:43,  6.76s/it]"
     ]
    },
    {
     "name": "stdout",
     "output_type": "stream",
     "text": [
      "translation:   Perry oplyste, at han ville \"vende tilbage til Texas for at vurdere resultaterne fra aftenens caucus, bestemme hvorvidt der er en fremgangsmåde for mig i dette løb, men har senere udtalt, at han ville blive i løbet og ville deltage i primærvalget i South Carolina den 21 januar.\n",
      "correction:   Perry oplyste, at han ville \"vende tilbage til Texas for at vurdere resultaterne fra aftenens caucus, bestemme hvorvidt der er en fremtid for mig i denne valgkamp, men har senere udtalt, at han ville blive i kampen deltage i primærvalget i South Carolina den 21 januar.\n"
     ]
    },
    {
     "name": "stderr",
     "output_type": "stream",
     "text": [
      " 59%|█████▉    | 59/100 [06:29<04:23,  6.43s/it]"
     ]
    },
    {
     "name": "stdout",
     "output_type": "stream",
     "text": [
      "translation:   Siden da det føderale styre har grebet ind for at overtage finansieringen af Mersey hospitalet i Devonport, Tasmanien, har delstatsstaten Australien og nogle føderale medlemmer af parlamentet hævdet, at det er en gennemført stunt i begyndelsen på en planlagt zvezds-kampagne til valget til Repræsentanternes Hus, som afholdes i november.\n",
      "correction:   Siden det føderale styre greb ind for at overtage finansieringen af Mersey Hospitalet i Devonport, Tasmanien, har delstatsstaten og nogle parlamentetsmedlemmer hævdet, at det er et gennemført stunt inden valget til Repræsentanternes Hus, som afholdes i november.\n"
     ]
    },
    {
     "name": "stderr",
     "output_type": "stream",
     "text": [
      " 60%|██████    | 60/100 [06:36<04:25,  6.65s/it]"
     ]
    },
    {
     "name": "stdout",
     "output_type": "stream",
     "text": [
      "translation:   Siden den føderale regering trådte ind for at overtage finansieringen af Mersey hospitalet i Devonport, Tasmanien, har delstatsregeringen og enkelte fællesrepræsentanter kritiseret denne handling som et stunt i prelude til det føderale valg til at blive indkaldt til november.\n",
      "correction:   Siden den føderale regering trådte ind for at overtage finansieringen af Mersey-hospitalet i Devonport, Tasmanien, har delstatsregeringen og enkelte parlamentsmedlemmer kritiseret denne handling som et stunt i optakten til det føderale valg i november.\n"
     ]
    },
    {
     "name": "stderr",
     "output_type": "stream",
     "text": [
      " 61%|██████    | 61/100 [06:42<04:12,  6.46s/it]"
     ]
    },
    {
     "name": "stdout",
     "output_type": "stream",
     "text": [
      "translation:   Siden forbundsregeringen trådte til og overtog statens fortsatte støtte til Mersey Hospital i Devonport i Tasmanien, har delstatsregeringen og nogle føderale parlamentsmedlemmer kritiseret denne handling som en slags stunt i optakten til det føderale valg, der skal afholdes inden november.\n",
      "correction:   Siden forbundsregeringen trådte til og overtog statens fortsatte støtte til Mersey Hospital i Devonport i Tasmanien, har delstatsregeringen og nogle føderale parlamentsmedlemmer kritiseret denne handling som en slags stunt i optakten til det føderale valg, der skal afholdes inden november.\n"
     ]
    },
    {
     "name": "stderr",
     "output_type": "stream",
     "text": [
      " 62%|██████▏   | 62/100 [06:48<03:56,  6.22s/it]"
     ]
    },
    {
     "name": "stdout",
     "output_type": "stream",
     "text": [
      "translation:   Siden den føderale regering trådte til for at overtage finansieringen af Mersey hospitalet i Devonport, Tasmanien, har delstatsregeringen og nogle føderale medlemmer af parlamentet kritiseret denne handling som en del af peronævnelsen til de føderale valg, der vil blive afholdt inden november.\n",
      "correction:   Siden den føderale regering trådte til for at overtage finansieringen af Mersey Hospitalet i Devonport, Tasmanien, har delstatsregeringen og nogle føderale medlemmer af parlamentet kritiseret denne handling som et stunt inden de føderale valg, der vil blive afholdt inden november.\n"
     ]
    },
    {
     "name": "stderr",
     "output_type": "stream",
     "text": [
      " 63%|██████▎   | 63/100 [06:53<03:45,  6.09s/it]"
     ]
    },
    {
     "name": "stdout",
     "output_type": "stream",
     "text": [
      "translation:   Siden den føderale regering overtog finansieringen af Mersey sygehuset i Devonport, Tasmanien, har delstatens regering og nogle føderale lovgivere været ude og stramme munden med kritik af dette stunt som en bebuden aktion i forspillet til et valg til november.\n",
      "correction:   Siden den føderale regering overtog finansieringen af Mersey sygehuset i Devonport, Tasmanien, har delstatens regering og nogle føderale lovgivere været ude med kritik af dette stunt som et forspil til et valg til november.\n"
     ]
    },
    {
     "name": "stderr",
     "output_type": "stream",
     "text": [
      " 64%|██████▍   | 64/100 [07:02<04:01,  6.71s/it]"
     ]
    },
    {
     "name": "stdout",
     "output_type": "stream",
     "text": [
      "translation:   Siden den føderale regering trådte til for at overtage finansieringen af Mersey hospitalet i Devonport, Tasmanien, har delstatsregeringen og nogle af føderale parlamentsmedlemmer kritiseret denne handling som et statmandstrick foran den føderalvalg, der skal finde sted i november.\n",
      "correction:   Siden den føderale regering trådte til for at overtage finansieringen af Mersey hospitalet i Devonport, Tasmanien, har delstatsregeringen og nogle af føderale parlamentsmedlemmer kritiseret denne handling som et stunt foran den føderalvalg, der skal finde sted i november.\n"
     ]
    },
    {
     "name": "stderr",
     "output_type": "stream",
     "text": [
      " 65%|██████▌   | 65/100 [07:09<04:07,  7.08s/it]"
     ]
    },
    {
     "name": "stdout",
     "output_type": "stream",
     "text": [
      "translation:   Siden den føderale regering trådte til for at overtage finansieringen af ​​Mersey hospitalet i Devonport, Tasmania, har delstatsregeringen og nogle føderale medlemmer af parlamentet kritiseret denne handling som et stunt for at vise flaget i indledningen til det føderale valg til at blive kaldt inden november.\n",
      "correction:   Siden den føderale regering trådte til for at overtage finansieringen af ​​Mersey hospitalet i Devonport, Tasmania, har delstatsregeringen og nogle føderale medlemmer af parlamentet kritiseret denne handling som et stunt for at vise flaget inden det føderale valg, der skal udskrives inden november.\n"
     ]
    },
    {
     "name": "stderr",
     "output_type": "stream",
     "text": [
      " 66%|██████▌   | 66/100 [07:14<03:38,  6.41s/it]"
     ]
    },
    {
     "name": "stdout",
     "output_type": "stream",
     "text": [
      "translation:   Siden forbundsregeringen trådte til for at overtage finansieringen af Mersey-hospitalet i Devonport, Tasmanien, har delstatsregeringen og nogle føderale parlamentsmedlemmer kritiseret denne handling som et stunt i overdækket til forbundsvalget bliver er det kan det.\n",
      "correction:   Siden forbundsregeringen trådte til for at overtage finansieringen af Mersey-hospitalet i Devonport, Tasmanien, har delstatsregeringen og nogle føderale parlamentsmedlemmer kritiseret denne handling som et stunt inden det føderale valg, der skal udskrives inden november.\n"
     ]
    },
    {
     "name": "stderr",
     "output_type": "stream",
     "text": [
      " 67%|██████▋   | 67/100 [07:22<03:40,  6.70s/it]"
     ]
    },
    {
     "name": "stdout",
     "output_type": "stream",
     "text": [
      "translation:   Siden det føderale regering siden er trådte i at overtage finansiering af Mersey hospitalet i Devonport, Tasmanien, har delstatsregeringen og nogle føderale parlamentsmedlemmer kritiseret dette som et stunt i overblikket over den føderale valg, der skal kaldes af november.\n",
      "correction:  Lige siden det føderale regering trådte til for at overtage finansiering af Mersey Hospitalet i Devonport, Tasmanien, har delstatsregeringen og nogle føderale parlamentsmedlemmer kritiseret dette som et stunt i kølvandet på det  føderale valg, der skal udskrives inden november.\n"
     ]
    },
    {
     "name": "stderr",
     "output_type": "stream",
     "text": [
      " 68%|██████▊   | 68/100 [07:28<03:35,  6.74s/it]"
     ]
    },
    {
     "name": "stdout",
     "output_type": "stream",
     "text": [
      "translation:   Siden den føderale regering trådte til for at overtage finansieringen af Mersey-hospitalet i Devonport Tasmanien, har delstatsregeringen og nogle føderale parlamentariske repræsentanter kritiseret dette som en manøvre for at aflede opmærksomhed frem mod det føderale valg, der skal afholdes inden november.\n",
      "correction:   Siden den føderale regering trådte til for at overtage finansieringen af Mersey-hospitalet i Devonport Tasmanien, har delstatsregeringen og nogle føderale parlamentariske repræsentanter kritiseret dette som en manøvre for at aflede opmærksomhed frem mod det føderale valg, der skal afholdes inden november.\n"
     ]
    },
    {
     "name": "stderr",
     "output_type": "stream",
     "text": [
      " 69%|██████▉   | 69/100 [07:35<03:24,  6.60s/it]"
     ]
    },
    {
     "name": "stdout",
     "output_type": "stream",
     "text": [
      "translation:   American Gymnastik bakket en uafhængig undersøgelse, som kan sætte lys over, hvordan misbrug af de forhold, der er beskrevet så modigt af ofrene for Larry Nassar kan have gået ubemærket for så længe og omfavne ethvert nødvendigt og passende ændringer.\n",
      "correction:   USA Gymnastics bakker op en uafhængig undersøgelse, som kan kaste lys over, hvordan misbrug i den størrelsesorden, der er beskrevet så modigt af Larry Nassars ofre, kan være gået ubemærket hen så længe, og de hilser ethver nødvendig og passende ændring velkommen.\n"
     ]
    },
    {
     "name": "stderr",
     "output_type": "stream",
     "text": [
      " 70%|███████   | 70/100 [07:40<03:07,  6.24s/it]"
     ]
    },
    {
     "name": "stdout",
     "output_type": "stream",
     "text": [
      "translation:   US Gymnastik støtter en uafhængig undersøgelse, der kan kaste lys over, hvordan misbrug af arrangementet, som anskueliggjort så modigt af ofrene for Larry Nassar, kunne gå uopdaget i så lang tid og er indstillede på, at nødvendige og passende ændringer sker.\n",
      "correction:   USA Gymnastics støtter en uafhængig undersøgelse, der kan kaste lys over, hvordan misbrug i den skala, som er anskueliggjort så modigt af Larry Nassars ofre, kunne gå uopdaget i så lang tid og de er indstillede på nødvendige og passende ændringer.\n"
     ]
    },
    {
     "name": "stderr",
     "output_type": "stream",
     "text": [
      " 71%|███████   | 71/100 [07:48<03:15,  6.73s/it]"
     ]
    },
    {
     "name": "stdout",
     "output_type": "stream",
     "text": [
      "translation:   USA Gymnastik lægger vægt på en uafhængig efterforskning, som måske kan kaste lys over, hvordan de voldshandlinger, der blev nedtegnet så modigt af overleverne fra Larry Nassars misbrug, kunne være undsluppet afsløring så længe, og accepterer alle nødvendige og passende ændringer.\n",
      "correction:   USA Gymnastics lægger vægt på en uafhængig efterforskning, som måske kan kaste lys over, hvordan de voldshandlinger, der blev så modigt beskrevet af overleverne fra Larry Nassars misbrug, kunne gå under radaren så længe, og de accepterer alle nødvendige og passende ændringer.\n"
     ]
    },
    {
     "name": "stderr",
     "output_type": "stream",
     "text": [
      " 72%|███████▏  | 72/100 [07:54<03:01,  6.49s/it]"
     ]
    },
    {
     "name": "stdout",
     "output_type": "stream",
     "text": [
      "translation:   USA Gymnastik støtter en uafhængig undersøgelse, der kan kaste lys over, hvordan misbrug af den proportionalitet, beskrevet så modigt af ofrene for Larry Nassar kunne have gået uanmeldt så længe, og overgiver sig til enhver nødvendige og passende ændringer.\n",
      "correction:   USA Gymnastics støtter en uafhængig undersøgelse, der kan kaste lys over, hvordan misbrug i de proportioner, beskrevet så modigt af Larry Nassars ofre, kunne have gået upåagtet hen så længe, og de overgiver sig til alle nødvendige og passende ændringer.\n"
     ]
    },
    {
     "name": "stderr",
     "output_type": "stream",
     "text": [
      " 73%|███████▎  | 73/100 [07:59<02:44,  6.07s/it]"
     ]
    },
    {
     "name": "stdout",
     "output_type": "stream",
     "text": [
      "translation:   USA Gymnastics støtter en uafhængig undersøgelse, der kan bringe lys over, hvordan misbrug af procentdelen beskrevet så modigt af overleverne af Larry Nassar, kunne have gået uopdaget så længe, og omfavner eventuelle nødvendige og passende forandringer.\n",
      "correction:   USA Gymnastics støtter en uafhængig undersøgelse, der kan kaste lys over, hvordan misbrug i den størrelsesorden, der er beskrevet så modigt af Larry Nassars ofre, kunne have gået uopdaget så længe, og de omfavner eventuelle nødvendige og passende forandringer.\n"
     ]
    },
    {
     "name": "stderr",
     "output_type": "stream",
     "text": [
      " 74%|███████▍  | 74/100 [08:07<02:54,  6.71s/it]"
     ]
    },
    {
     "name": "stdout",
     "output_type": "stream",
     "text": [
      "translation:   USA Gymnastik støtter en uafhængig undersøgelse som kan kaste lys over, at overgreb af den af ofrene for Larry Nassar skildrede ret hurtige form kunne være gået ustraffede i så lang tid og støtter alle nødvendige og passende forandringer\n",
      "correction:   USA Gymnastics bakker op om en uafhængig undersøgelse som kan kaste lys over, hvordan overgreb, i det omfang som Larry Nassars ofre skildrede, kunne gå ustraffede i så lang tid og de støtter alle nødvendige og passende forandringer\n"
     ]
    },
    {
     "name": "stderr",
     "output_type": "stream",
     "text": [
      " 75%|███████▌  | 75/100 [08:14<02:51,  6.86s/it]"
     ]
    },
    {
     "name": "stdout",
     "output_type": "stream",
     "text": [
      "translation:   USA Gymnastik støtter en uafhængig undersøgelse, som kan give lys på, hvordan en efterfølgende af det proportioner, som så modigt er blevet beskrevet af ofrene for Larry Nassar kunne være gået ubemærket hen i så lang tid, og omfavner enhver nødvendig og passende ændringer.\n",
      "correction:   USA Gymnastics støtter en uafhængig undersøgelse, som kan kaste lys over, hvordan en forbrydelse af de proportioner, som så modigt er blevet beskrevet af Larry Nassars ofre kunne være gået ubemærket hen i så lang tid, og de imødeser alle nødvendige og passende ændringer.\n"
     ]
    },
    {
     "name": "stderr",
     "output_type": "stream",
     "text": [
      " 76%|███████▌  | 76/100 [08:19<02:29,  6.22s/it]"
     ]
    },
    {
     "name": "stdout",
     "output_type": "stream",
     "text": [
      "translation:   USA Gymnastik støtter en uafhængig undersøgelse, som kan kaste lys over, hvordan misbruget af den proportioner af dimensionerne kan have undgået opdagelse og omfavner alle nødvendige og passende ændringer.\n",
      "correction:   USA Gymnastics støtter en uafhængig undersøgelse, som kan kaste lys over, hvordan misbrug af de beskrevne dimensioner kan have undgået at blive opdaget, og de imødeser alle nødvendige og passende ændringer.\n"
     ]
    },
    {
     "name": "stderr",
     "output_type": "stream",
     "text": [
      " 77%|███████▋  | 77/100 [08:27<02:32,  6.65s/it]"
     ]
    },
    {
     "name": "stdout",
     "output_type": "stream",
     "text": [
      "translation:   USA Gymnastik støtter en uafhængig undersøgelse, som måske vil kaste lys over, hvordan misbrug inden for de proportioner beskrevet så modigt af ofrene for Larry Nassar kunne have forgået i så lang tid, og går ind for alle nødvendige og passende ændringer.\n",
      "correction:   USA Gymnastics støtter en uafhængig undersøgelse, som måske vil kaste lys over, hvordan misbrug af de proportioner beskrevet så modigt af Larry Nassars ofre kunne have forgået i så lang tid, og går ind for alle nødvendige og passende ændringer.\n"
     ]
    },
    {
     "name": "stderr",
     "output_type": "stream",
     "text": [
      " 78%|███████▊  | 78/100 [08:33<02:21,  6.44s/it]"
     ]
    },
    {
     "name": "stdout",
     "output_type": "stream",
     "text": [
      "translation:   Fjerstrukturen tyder på, at de ikke blev brugt til flyvning, men for regulering af temperaturen eller udseendet. Forskerne foreslog, at selv om dette er halen fra en ung dinosaur, viser prøven voksen fjerdragt og ikke en kyllingsensdown.\n",
      "correction:   Fjerstrukturen tyder på, at de ikke blev brugt til flyvning, men til regulering af temperaturen eller pga. udseendet. Forskerne mente, at selv om dette er halen fra en ung dinosaur, viser prøven voksen fjerdragt og ikke dun from en unge.\n"
     ]
    },
    {
     "name": "stderr",
     "output_type": "stream",
     "text": [
      " 79%|███████▉  | 79/100 [08:38<02:06,  6.02s/it]"
     ]
    },
    {
     "name": "stdout",
     "output_type": "stream",
     "text": [
      "translation:   Fjerenes struktur hentyder til, at de ikke er blevet benyttet under flugten, men derimod til kropstemperaturregulering eller udstilling. Forskerne foreslog, at selvom dette er halen på en ung dinosaur, viser prøven voksen håndpuld og ikke unge totter.\n",
      "correction:   Fjerenes struktur tyder på, at de ikke er blevet benyttet til flyvning, men derimod til regulering af kropstemperaturen eller til pynt. Forskerne sagde, at selvom dette er halen på en ung dinosaur, viser prøven voksen fjerdragt og ikke en unges dun.\n"
     ]
    },
    {
     "name": "stderr",
     "output_type": "stream",
     "text": [
      " 80%|████████  | 80/100 [08:46<02:13,  6.70s/it]"
     ]
    },
    {
     "name": "stdout",
     "output_type": "stream",
     "text": [
      "translation:   Fjerstrukturerne antyder, at de ikke var i brug under flyvningen, men snarere til temperaturregulering eller visning. Forskerne foreslog, at selv om dette er halen på en ung dinosaur, så viser prøven voksen fjerdragt og ikke en kyllings dun.\n",
      "correction:   Fjerstrukturerne antyder, at de ikke var i brug under flyvningen, men snarere til temperaturregulering eller pynt. Forskerne foreslog, at selv om dette er halen på en ung dinosaur, så viser prøven voksen fjerdragt og ikke en unges dun.\n"
     ]
    },
    {
     "name": "stderr",
     "output_type": "stream",
     "text": [
      " 81%|████████  | 81/100 [08:55<02:17,  7.25s/it]"
     ]
    },
    {
     "name": "stdout",
     "output_type": "stream",
     "text": [
      "translation:   Strukturen på fjerene tyder på, at de ikke blev brugt i flyvning, men snarere til regulering af temperaturen eller fremvisning. Forskerne foreslog, at selv om dette er halen på en ung dinosaur, viser prøven voksenfjær, ikke en uges fjer.\n",
      "correction:   Strukturen på fjerene tyder på, at de ikke blev brugt til flyvning, men snarere til regulering af temperaturen eller pynt. Forskerne udtalte, at selv om dette er halen på en ung dinosaur, viser prøven voksenfjer, ikke en unges fjer.\n"
     ]
    },
    {
     "name": "stderr",
     "output_type": "stream",
     "text": [
      " 82%|████████▏ | 82/100 [08:59<01:54,  6.35s/it]"
     ]
    },
    {
     "name": "stdout",
     "output_type": "stream",
     "text": [
      "translation:   Fjerstrukturens design antyder, at de ikke blev brugt under flyvning, men snarere til at regulere temperaturen eller som standere. Forskerne foreslog, at selv om dette er en unge fra en ung dinosaur, inkluderer prøven voksen fjerdragt og ikke en yngles fjer.\n",
      "correction:   Fjerstrukturens design antyder, at de ikke blev brugt til flyvning, men snarere til at regulere temperaturen eller for udseendets skyld. Forskerne mente, at selv om det er halen fra en ung dinosaur, viser prøven voksen fjerdragt og ikke en unges fjer.\n"
     ]
    },
    {
     "name": "stderr",
     "output_type": "stream",
     "text": [
      " 83%|████████▎ | 83/100 [09:08<02:00,  7.11s/it]"
     ]
    },
    {
     "name": "stdout",
     "output_type": "stream",
     "text": [
      "translation:   Undersøgelsen af fjerenes struktur antyder, at de ikke blev brugt i flugten, men snarere til temperaturregulering eller visning. Forskerne foreslog, at selvom dette er halen på en ung dinosaur, viser prøven voksen fjerdragt frem for en ungefugl.\n",
      "correction:   Undersøgelsen af fjerenes struktur antyder, at de ikke blev brugt til at flyve med, men snarere til temperaturregulering eller pynt. Forskerne udtalte, at selvom dette er halen på en ung dinosaur, viser prøven voksen fjerdragt frem for dunene fra en ungfugl.\n"
     ]
    },
    {
     "name": "stderr",
     "output_type": "stream",
     "text": [
      " 84%|████████▍ | 84/100 [09:16<02:00,  7.52s/it]"
     ]
    },
    {
     "name": "stdout",
     "output_type": "stream",
     "text": [
      "translation:   Fjerenes struktur tyder på, at den ikke var brugt i flyvning, men snarere for temperaturregulering eller visning. Forskerne foreslog, at selv om dette er halen på en ung dinosaur, viser prøven voksen fældning og ikke en babys fjer.\n",
      "correction:   Fjerenes struktur tyder på, at de ikke var brugt i flyvning, men snarere til temperaturregulering eller pynt. Forskerne sagde, at selv om dette er halen på en ung dinosaur, viser prøven voksenfjer og ikke dun fra en unge.\n"
     ]
    },
    {
     "name": "stderr",
     "output_type": "stream",
     "text": [
      " 85%|████████▌ | 85/100 [09:23<01:49,  7.30s/it]"
     ]
    },
    {
     "name": "stdout",
     "output_type": "stream",
     "text": [
      "translation:   Fjerenes struktur antyder, at de ikke var i brug til at flyve med, men snarere til regulering af temperaturen eller visning. Forskerne antog, at selv om det her er halen af en ung dinosaur, så viste prøven voksenplumage og ikke en kyllings udstødte.\n",
      "correction:   Fjerenes struktur antyder, at de ikke var i brug til at flyve med, men snarere til regulering af temperaturen eller pynt. Forskerne har udtalt, at selv om det her er halen af en ung dinosaur, så viste prøven voksenfjerdragt og ikke en unges dun.\n"
     ]
    },
    {
     "name": "stderr",
     "output_type": "stream",
     "text": [
      " 86%|████████▌ | 86/100 [09:29<01:36,  6.92s/it]"
     ]
    },
    {
     "name": "stdout",
     "output_type": "stream",
     "text": [
      "translation:   Fjers struktur tyder på, at de ikke blev brugt i flyveprocessen, men snarere til regulering af temperaturen og fremtrædning. Forskerne foreslog, at selvom det er ryggen af en ung dinosaurus, viser prøverne også voksen fjerdragt og ikke en kyllings.\n",
      "correction:   Fjerenes struktur tyder på, at de ikke blev brugt til at flyve med, men snarere til regulering af temperaturen og pynt. Forskerne udtalte, at selvom det er halen af en ung dinosaurus, viser prøverne en voksen fjerdragt og ikke en unges.\n"
     ]
    },
    {
     "name": "stderr",
     "output_type": "stream",
     "text": [
      " 87%|████████▋ | 87/100 [09:35<01:26,  6.62s/it]"
     ]
    },
    {
     "name": "stdout",
     "output_type": "stream",
     "text": [
      "translation:   Fjerstrukturen antyder, at de ikke blev brugt i flyvning, men snarere til temperaturregulering eller fremvisning. Forskerne foreslog, at selv om det er halen på et ungt dyr, så viser prøven voksen fjerdragt og ikke en babys dun.\n",
      "correction:   Fjerstrukturen antyder, at de ikke blev brugt til flyvning, men snarere til temperaturregulering eller pynt. Forskerne foreslog, at selv om det er halen på et ungt dyr, så viser prøven voksen fjerdragt og ikke en unges dun.\n"
     ]
    },
    {
     "name": "stderr",
     "output_type": "stream",
     "text": [
      " 88%|████████▊ | 88/100 [09:42<01:19,  6.61s/it]"
     ]
    },
    {
     "name": "stdout",
     "output_type": "stream",
     "text": [
      "translation:   Dr. Balasubramanian, 29, blev fundet i Blue Ash, Ohio, en forstad til Cincinnati, ca. 15 miles nord for Cincinnati, på jorden ved siden af vejen i en T-shirt og undertøj i tilsyneladende alvorlig medicinering.\n",
      "correction:   Dr. Balasubramanian, 29, blev fundet i Blue Ash, Ohio, en forstad ca. 15 miles nord for Cincinnati, på jorden ved siden af vejen i en T-shirt og undertøj i tilsyneladende stærkt medicineret tilstand.\n"
     ]
    },
    {
     "name": "stderr",
     "output_type": "stream",
     "text": [
      " 89%|████████▉ | 89/100 [09:46<01:05,  5.92s/it]"
     ]
    },
    {
     "name": "stdout",
     "output_type": "stream",
     "text": [
      "translation:   Dr. Malar Balasubramanian, 29 år, blev fundet i Blue Ash, Ohio, en forstad cirka 15 kilometer nord for Cincinnati, liggende på jorden ved vejen i en T-shirt og undertøj i en tilsyneladende kraftigt medicineret tilstand.\n",
      "correction:   Dr. Malar Balasubramanian, 29 år, blev fundet i Blue Ash, Ohio, en forstad cirka 15 mil nord for Cincinnati, liggende på jorden ved vejen i en T-shirt og undertøj i en tilsyneladende kraftigt medicineret tilstand.\n"
     ]
    },
    {
     "name": "stderr",
     "output_type": "stream",
     "text": [
      " 90%|█████████ | 90/100 [09:54<01:04,  6.48s/it]"
     ]
    },
    {
     "name": "stdout",
     "output_type": "stream",
     "text": [
      "translation:   Dr. Malar Balasubramanian, 29, blev fundet i Blue Ash, Ohio, en forstad ca. 15 km nord for Cincinnati på jorden ved siden af ​​vejen i en t-shirt og undertøj tilsyneladende i en højt medicin tilstand.\n",
      "correction:   Dr. Malar Balasubramanian, 29, blev fundet i Blue Ash, Ohio, en forstad ca. 15 mil nord for Cincinnati, på jorden ved siden af ​​vejen i en t-shirt og undertøj tilsyneladende stærkt medicineret.\n"
     ]
    },
    {
     "name": "stderr",
     "output_type": "stream",
     "text": [
      " 91%|█████████ | 91/100 [10:01<01:01,  6.79s/it]"
     ]
    },
    {
     "name": "stdout",
     "output_type": "stream",
     "text": [
      "translation:   Dr. Malar Balasubramanian, 29, blev fundet i Blue Ash, Ohio, en forstad ca. 15 km nord for Cincinnati liggende på jorden ved siden af vejen i en T-shirt og undertøj i en tilsyneladende stærkt medicineret tilstand.\n",
      "correction:   Dr. Malar Balasubramanian, 29, blev fundet i Blue Ash, Ohio, en forstad ca. 15 mil nord for Cincinnati, liggende på jorden ved siden af vejen i en T-shirt og undertøj i en tilsyneladende stærkt medicineret tilstand.\n"
     ]
    },
    {
     "name": "stderr",
     "output_type": "stream",
     "text": [
      " 92%|█████████▏| 92/100 [10:08<00:53,  6.71s/it]"
     ]
    },
    {
     "name": "stdout",
     "output_type": "stream",
     "text": [
      "translation:   Dr. Malar Balasubramaniam, 29, blev fundet i Blue Ash, Ohio, en forstad ca. 15 mil nord for Cincinnati, liggende på jorden ved siden af vejen i T-shirt og undertøj i en tilsyneladende kraftigt medicineret tilstand.\n",
      "correction:   Dr. Malar Balasubramaniam, 29, blev fundet i Blue Ash, Ohio, en forstad ca. 15 mil nord for Cincinnati, liggende på jorden ved siden af vejen i T-shirt og undertøj i en tilsyneladende kraftigt medicineret tilstand.\n"
     ]
    },
    {
     "name": "stderr",
     "output_type": "stream",
     "text": [
      " 93%|█████████▎| 93/100 [10:16<00:49,  7.05s/it]"
     ]
    },
    {
     "name": "stdout",
     "output_type": "stream",
     "text": [
      "translation:   Dr. Malar Balasubramanian blev fundet i Blue Ash, Ohio, et nabolag 15 miles nord for Cincinnati, liggende på jorden ved siden af vejen i en T-shirt og underbukser i en tilsyneladende kraftigt medicineret tilstand.\n",
      "correction:   Dr. Malar Balasubramanian blev fundet i Blue Ash, Ohio, en forstad 15 mil nord for Cincinnati, liggende på jorden ved siden af vejen i en T-shirt og underbukser i en tilsyneladende kraftigt medicineret tilstand.\n"
     ]
    },
    {
     "name": "stderr",
     "output_type": "stream",
     "text": [
      " 94%|█████████▍| 94/100 [10:21<00:38,  6.47s/it]"
     ]
    },
    {
     "name": "stdout",
     "output_type": "stream",
     "text": [
      "translation:   Dr. Malar Balasubramanian, 29, blev fundet i Blue Ash, Ohio, en forstad ca. 15 km nord for Cincinnati ved vejen i T-shirt og undertøj i en tilsyneladende stærkt medicineret tilstand.\n",
      "correction:   Dr. Malar Balasubramanian, 29, blev fundet i Blue Ash, Ohio, en forstad ca. 15 mil nord for Cincinnati ved vejen i T-shirt og undertøj i en tilsyneladende stærkt medicineret tilstand.\n"
     ]
    },
    {
     "name": "stderr",
     "output_type": "stream",
     "text": [
      " 95%|█████████▌| 95/100 [10:25<00:29,  5.90s/it]"
     ]
    },
    {
     "name": "stdout",
     "output_type": "stream",
     "text": [
      "translation:   Dr. Balasubramanian blev 29 år og blev fundet i Blue Ash, Ohio, en forstad 20 kilometer nord for Cincinnati, liggende på jorden nær vejen i en t-shirt og underbukser i tilsyneladende stærkt medicinpåvirket tilstand.\n",
      "correction:   Dr. Balasubramanian blev 29 år og blev fundet i Blue Ash, Ohio, en forstad 20 kilometer nord for Cincinnati, liggende på jorden nær vejen i en t-shirt og underbukser i tilsyneladende stærkt medicinpåvirket tilstand.\n"
     ]
    },
    {
     "name": "stderr",
     "output_type": "stream",
     "text": [
      " 96%|█████████▌| 96/100 [10:32<00:24,  6.13s/it]"
     ]
    },
    {
     "name": "stdout",
     "output_type": "stream",
     "text": [
      "translation:   Dr. Malar Balasubramanian, 29 år, er fundet i Blue Ash, Ohio, en forstad 15 miles nord for Cincinatti liggende på jorden ved landevejen i T-shirt og undertøj i en tilsyneladende dybt medicinoverdoseret tilstand.\n",
      "correction:   Dr. Malar Balasubramanian, 29 år, er fundet i Blue Ash, Ohio, en forstad 15 miles nord for Cincinatti, liggende på jorden ved landevejen i T-shirt og undertøj i en tilsyneladende dybt medicineret tilstand.\n"
     ]
    },
    {
     "name": "stderr",
     "output_type": "stream",
     "text": [
      " 97%|█████████▋| 97/100 [10:41<00:20,  6.93s/it]"
     ]
    },
    {
     "name": "stdout",
     "output_type": "stream",
     "text": [
      "translation:   Dr. Balasubramanian, på 29, blev fundet i Blue Ash, Ohio, en forstad ca. 15 miles nord for Cincinnati på gaden i en T-shirt og underbukser tilsyneladende i en stærkt medicineret tilstand.\n",
      "correction:   Dr. Balasubramanian, 29, blev fundet i Blue Ash, Ohio, en forstad ca. 15 miles nord for Cincinnati, på gaden i en T-shirt og underbukser tilsyneladende i en stærkt medicineret tilstand.\n"
     ]
    },
    {
     "name": "stderr",
     "output_type": "stream",
     "text": [
      " 98%|█████████▊| 98/100 [10:51<00:15,  7.92s/it]"
     ]
    },
    {
     "name": "stdout",
     "output_type": "stream",
     "text": [
      "translation:   Dr. Malar Balasubramanian, 29, blev fundet i Blue Ash, Ohio, en forstad 15 miles nord for Cincinnati liggende på jorden ved siden af vejen i en T-shirt og undertøj i en tilsyneladende stærkt medicineret tilstand.\n",
      "correction:   Dr. Malar Balasubramanian, 29, blev fundet i Blue Ash, Ohio, en forstad 15 miles nord for Cincinnati, liggende på jorden ved siden af vejen i en T-shirt og undertøj i en tilsyneladende stærkt medicineret tilstand.\n"
     ]
    },
    {
     "name": "stderr",
     "output_type": "stream",
     "text": [
      " 99%|█████████▉| 99/100 [10:56<00:07,  7.05s/it]"
     ]
    },
    {
     "name": "stdout",
     "output_type": "stream",
     "text": [
      "translation:   Dr. Malar Balasubramanian, på 29 år, var funden i Blue Ash, Ohio, en forstad omkring 15 miles nord for Cincinnati liggende på jorden ved siden af vejen i en T-shirt og undertøj på en tydeligt medicinpåvirket måde.\n",
      "correction:   Dr. Malar Balasubramanian, 29 år, blev fundet i Blue Ash, Ohio, en forstad omkring 15 miles nord for Cincinnati, liggende på jorden i vejkanten i en T-shirt og undertøj, øjensynligt medicinpåvirket.\n"
     ]
    },
    {
     "name": "stderr",
     "output_type": "stream",
     "text": [
      "100%|██████████| 100/100 [11:01<00:00,  6.49s/it]"
     ]
    },
    {
     "name": "stdout",
     "output_type": "stream",
     "text": [
      "translation:   Dr. Malar Balasubramanian, 29, blev fundet i Blue Ash, Ohio, en forstad ca. 15 km nord for Cincinnati liggende på jorden nær vejen i en T-shirt og undertøj i en tilsyneladende stærkt medicineret tilstand.\n",
      "correction:   Dr. Malar Balasubramanian, 29, blev fundet i Blue Ash, Ohio, en forstad ca. 15 km nord for Cincinnati liggende på jorden nær vejen i en T-shirt og undertøj i en tilsyneladende stærkt medicineret tilstand.\n"
     ]
    },
    {
     "name": "stderr",
     "output_type": "stream",
     "text": [
      "100%|██████████| 100/100 [11:06<00:00,  6.67s/it]\n",
      "  0%|          | 0/100 [00:00<?, ?it/s]"
     ]
    },
    {
     "name": "stdout",
     "output_type": "stream",
     "text": [
      "translation:   Senere rapporter siger at flyet modtog end bomb trussel og måtte gøre en kvantespring tilbage til Afghanistan, hvorfra det landede i Kandahar.\n",
      "correction:   Senere rapporter sagde så at flyet modtog en bombetrussel og måtte omdirigeres tilbage til Afghanistan, hvor det landede i Kandahar.\n"
     ]
    },
    {
     "name": "stderr",
     "output_type": "stream",
     "text": [
      "  2%|▏         | 2/100 [00:02<02:22,  1.45s/it]"
     ]
    },
    {
     "name": "stdout",
     "output_type": "stream",
     "text": [
      "translation:   Senere rapporterer angiver, at flyet modtog en bombetrussel og blev omdirigeret hjem til Afghanistan, der lander i Kandahar.\n",
      "correction:   Senere rapporterer angav så, at flyet modtog en bombetrussel og blev omdirigeret tilbage til Afghanistan, hvor det landede i Kandahar.\n"
     ]
    },
    {
     "name": "stderr",
     "output_type": "stream",
     "text": [
      "  3%|▎         | 3/100 [00:05<03:18,  2.04s/it]"
     ]
    },
    {
     "name": "stdout",
     "output_type": "stream",
     "text": [
      "translation:   Senere rapporter sagde derefter, at flyet modtog en bombetrussel og blev omdirigeret til Afghanistan, hvor det landede i Kandahar.\n",
      "correction:   Senere rapporter sagde derefter, at flyet modtog en bombetrussel og blev omdirigeret til Afghanistan, hvor det landede i Kandahar.\n"
     ]
    },
    {
     "name": "stderr",
     "output_type": "stream",
     "text": [
      "  4%|▍         | 4/100 [00:08<03:57,  2.48s/it]"
     ]
    },
    {
     "name": "stdout",
     "output_type": "stream",
     "text": [
      "translation:   Senere rapporterer om ændrede de, at flyet var blevet advaret om et muligt bombeanslag og vendte derefter tilbage til Afghanistan og landede i Kandahar.\n",
      "correction:   Senere rapporter sagde så, at flyet var blevet advaret om et muligt bombeangreb og det vendte derefter tilbage til Afghanistan og landede i Kandahar.\n"
     ]
    },
    {
     "name": "stderr",
     "output_type": "stream",
     "text": [
      "  5%|▌         | 5/100 [00:15<06:05,  3.84s/it]"
     ]
    },
    {
     "name": "stdout",
     "output_type": "stream",
     "text": [
      "translation:   Senere rapporterede man om et bombetrussel, hvorefter flyet blev omdirigeret tilbage til Afghanistan og landede i Kandahar.\n",
      "correction:   Senere rapporterede man om en bombetrussel, hvorefter flyet blev omdirigeret tilbage til Afghanistan og landede i Kandahar.\n"
     ]
    },
    {
     "name": "stderr",
     "output_type": "stream",
     "text": [
      "  6%|▌         | 6/100 [00:18<05:40,  3.63s/it]"
     ]
    },
    {
     "name": "stdout",
     "output_type": "stream",
     "text": [
      "translation:   Senere rapporter erklærede, at flyet modtog en bombetrussel og blev omdirigeret tilbage til Afghanistan, landing i Kandahar.\n",
      "correction:   Senere rapporter erklærede, at flyet modtog en bombetrussel og blev omdirigeret tilbage til Afghanistan, hvor det landede i Kandahar.\n"
     ]
    },
    {
     "name": "stderr",
     "output_type": "stream",
     "text": [
      "  7%|▋         | 7/100 [00:21<05:27,  3.52s/it]"
     ]
    },
    {
     "name": "stdout",
     "output_type": "stream",
     "text": [
      "translation:   Efterretninger tilføjede yderligere og sagde senere, at flyet fik en bombe trussel og blev afledt tilbage til Afghanistan, landing i Kandahar.\n",
      "correction:   Efterretninger tilføjede yderligere, at flyet modtog en bombetrussel og blev omdirigeret tilbage til Afghanistan, hvor det landede i Kandahar.\n"
     ]
    },
    {
     "name": "stderr",
     "output_type": "stream",
     "text": [
      "  8%|▊         | 8/100 [00:24<04:59,  3.25s/it]"
     ]
    },
    {
     "name": "stdout",
     "output_type": "stream",
     "text": [
      "translation:   Senere rapporter bekræftede, at flyet modtog en bombetrussel og blev omdirigeret til Afghanistan, hvorefter det landede i Kandahar.\n",
      "correction:   Senere rapporter bekræftede, at flyet modtog en bombetrussel og blev omdirigeret til Afghanistan, hvorefter det landede i Kandahar.\n"
     ]
    },
    {
     "name": "stderr",
     "output_type": "stream",
     "text": [
      "  9%|▉         | 9/100 [00:27<04:36,  3.04s/it]"
     ]
    },
    {
     "name": "stdout",
     "output_type": "stream",
     "text": [
      "translation:   Senere rapporter siger, at flyet modtog en bombetrussel og blev omdirigeret tilbage til Afghanistan, hvor det landede i Kandahar.\n",
      "correction:   Senere rapporter sagde, at flyet modtog en bombetrussel og blev omdirigeret tilbage til Afghanistan, hvor det landede i Kandahar.\n"
     ]
    },
    {
     "name": "stderr",
     "output_type": "stream",
     "text": [
      " 10%|█         | 10/100 [00:29<04:24,  2.94s/it]"
     ]
    },
    {
     "name": "stdout",
     "output_type": "stream",
     "text": [
      "translation:   Senere var der rapporter om, at flyet modtog en bombetruende melding og blev omdirigeret tilbage til Afghanistan, og landede i Kandahar.\n",
      "correction:   Senere var der rapporter om, at flyet modtog en bombetrussel og blev omdirigeret tilbage til Afghanistan, og landede i Kandahar.\n"
     ]
    },
    {
     "name": "stderr",
     "output_type": "stream",
     "text": [
      " 11%|█         | 11/100 [00:32<04:18,  2.91s/it]"
     ]
    },
    {
     "name": "stdout",
     "output_type": "stream",
     "text": [
      "translation:   Bekendtgørelsen kom efter, at Trump havde haft en telefonsamtale med den tyrkiske præsident Recep Tayyip Erdoğan.\n",
      "correction:   Bekendtgørelsen kom efter, at Trump havde haft en telefonsamtale med den tyrkiske præsident Recep Tayyip Erdoğan.\n"
     ]
    },
    {
     "name": "stderr",
     "output_type": "stream",
     "text": [
      " 12%|█▏        | 12/100 [00:35<04:25,  3.02s/it]"
     ]
    },
    {
     "name": "stdout",
     "output_type": "stream",
     "text": [
      "translation:   Udmeldelsen kom, efter Trump havde en telefonsamtale med Tyrkiets præsident, Recep Tayyip Erdoğan.\n",
      "correction:   Udmeldingen kom, efter Trump havde en telefonsamtale med Tyrkiets præsident, Recep Tayyip Erdoğan.\n"
     ]
    },
    {
     "name": "stderr",
     "output_type": "stream",
     "text": [
      " 13%|█▎        | 13/100 [00:39<04:37,  3.19s/it]"
     ]
    },
    {
     "name": "stdout",
     "output_type": "stream",
     "text": [
      "translation:   Bekendtgørelsen blev foretaget, efter at Trump havde en telefonsamtale med Tyrkiets præsident Recep Tayyip Erdoğan.\n",
      "correction:   Bekendtgørelsen blev givet, efter at Trump havde en telefonsamtale med Tyrkiets præsident Recep Tayyip Erdoğan.\n"
     ]
    },
    {
     "name": "stderr",
     "output_type": "stream",
     "text": [
      " 14%|█▍        | 14/100 [00:44<05:15,  3.66s/it]"
     ]
    },
    {
     "name": "stdout",
     "output_type": "stream",
     "text": [
      "translation:   Erklæringen blev fremsat efter, at Trump havde haft en telefonsamtale med Tyrkiets præsident, Recep Tayyip Erdoğan.\n",
      "correction:  Udmeldingen blev givet, efter at Trump havde haft en telefonsamtale med Tyrkiets præsident, Recep Tayyip Erdoğan.\n"
     ]
    },
    {
     "name": "stderr",
     "output_type": "stream",
     "text": [
      " 15%|█▌        | 15/100 [00:47<05:03,  3.57s/it]"
     ]
    },
    {
     "name": "stdout",
     "output_type": "stream",
     "text": [
      "translation:   Meddelelsen kom efter, at Trump havde en telefonsamtale med den tyrkiske præsident Recep Tayyip Erdoğan.\n",
      "correction:   Meddelelsen kom efter, at Trump havde en telefonsamtale med den tyrkiske præsident Recep Tayyip Erdoğan.\n"
     ]
    },
    {
     "name": "stderr",
     "output_type": "stream",
     "text": [
      " 16%|█▌        | 16/100 [00:50<04:46,  3.41s/it]"
     ]
    },
    {
     "name": "stdout",
     "output_type": "stream",
     "text": [
      "translation:   Nyheden blev offentliggjort efter, at Trump havde haft en telefonsamtale med Tyrkiets præsident Recep Tayyip Erdoğan.\n",
      "correction:   Nyheden blev offentliggjort efter, at Trump havde haft en telefonsamtale med Tyrkiets præsident Recep Tayyip Erdoğan.\n"
     ]
    },
    {
     "name": "stderr",
     "output_type": "stream",
     "text": [
      " 17%|█▋        | 17/100 [00:54<04:59,  3.61s/it]"
     ]
    },
    {
     "name": "stdout",
     "output_type": "stream",
     "text": [
      "translation:   Udmeldingen blev foretaget, efter Trump havde en telefonsamtale med Tyrkiets præsident Recep Tayyip Erdoğan.\n",
      "correction:   Udmeldingen blev foretaget, efter Trump havde en telefonsamtale med Tyrkiets præsident Recep Tayyip Erdoğan.\n"
     ]
    },
    {
     "name": "stderr",
     "output_type": "stream",
     "text": [
      " 18%|█▊        | 18/100 [00:58<04:47,  3.51s/it]"
     ]
    },
    {
     "name": "stdout",
     "output_type": "stream",
     "text": [
      "translation:   Budskabet kom, da Trump havde telefonisk kontakt med Tyrkiets præsident Recep Tayyip Erdoğan.\n",
      "correction:   Udmeldingen  kom efter Trump havde telefonisk kontakt med Tyrkiets præsident Recep Tayyip Erdoğan.\n"
     ]
    },
    {
     "name": "stderr",
     "output_type": "stream",
     "text": [
      " 19%|█▉        | 19/100 [01:00<04:31,  3.35s/it]"
     ]
    },
    {
     "name": "stdout",
     "output_type": "stream",
     "text": [
      "translation:   Meddelelsen kom efter, at Trump havde foretaget en telefonisk samtale med Tyrkiets præsident, Recep Tayyip Erdoğan.\n",
      "correction:   Meddelelsen kom efter, at Trump havde foretaget en telefonsamtale med Tyrkiets præsident, Recep Tayyip Erdoğan.\n"
     ]
    },
    {
     "name": "stderr",
     "output_type": "stream",
     "text": [
      " 20%|██        | 20/100 [01:04<04:31,  3.39s/it]"
     ]
    },
    {
     "name": "stdout",
     "output_type": "stream",
     "text": [
      "translation:   Deres termiske ​​adfærd er ikke så stabil som store huler på jorden, der ofte holder en forholdsvis konstant temperatur, men det er konsistent, at hulerne her er dybe huller i jorden\", sagde Glenn Cushing fra USGS Astrogeology Team og fra Northern Arizona University, lokaliseret i Flagstaff, Arizona.\n",
      "correction:   Deres termiske ​​opførsel er ikke så stabil som store huler på jorden, der ofte holder en forholdsvis konstant temperatur, men det passer med at hulerne her er dybe huller i jorden\", sagde Glenn Cushing fra USGS Astrogeology Team og fra Northern Arizona University, Flagstaff, Arizona.\n"
     ]
    },
    {
     "name": "stderr",
     "output_type": "stream",
     "text": [
      " 21%|██        | 21/100 [01:08<04:42,  3.57s/it]"
     ]
    },
    {
     "name": "stdout",
     "output_type": "stream",
     "text": [
      "translation:   Deres termiske adfærd er ikke så stabil som dybe huler på jorden, som ofte har en nogenlunde konstant temperatur, men det er i overensstemmelse med at disse er dybe huller i jorden, sagde Glen Cushing fra den amerikanske Geologiske Undersøgelses (USGS) Astrogeologi Team og fra Northern Arizona University med base i Flagstaff, Arizona.\n",
      "correction:   Deres termiske opførsel er ikke så stabil som dybe huler på jorden, som ofte har en nogenlunde konstant temperatur, men det er i overensstemmelse med at disse er dybe huller i jorden, sagde Glen Cushing fra den amerikanske Geologiske Undersøgelses (USGS) Astrogeologi Team og fra Northern Arizona University, Flagstaff, Arizona.\n"
     ]
    },
    {
     "name": "stderr",
     "output_type": "stream",
     "text": [
      " 22%|██▏       | 22/100 [01:11<04:27,  3.43s/it]"
     ]
    },
    {
     "name": "stdout",
     "output_type": "stream",
     "text": [
      "translation:   Deres termiske adfærd er ikke så fast som på Jordens store huler (cave), som ofte har en forholdsvis konstant temperatur, men det stemmer overens med, at der er tale om dybgrave i jorden,\" sagde Glen Cushing, fra USGS' Astrogeologi-gruppe, og fra Northern Arizona Universitet i Flagstaff, Arizona.\n",
      "correction:  Deres termiske opførsel er ikke så konsistent som i Jordens store huler, som ofte har en forholdsvis konstant temperatur, men det stemmer overens med, at der er tale om dybe huller i jorden,\" sagde Glen Cushing, fra USGS' Astrogeologi-gruppe, og fra Northern Arizona Universitet i Flagstaff, Arizona.\n"
     ]
    },
    {
     "name": "stderr",
     "output_type": "stream",
     "text": [
      " 23%|██▎       | 23/100 [01:17<05:16,  4.12s/it]"
     ]
    },
    {
     "name": "stdout",
     "output_type": "stream",
     "text": [
      "translation:   Deres termiske adfærd er ikke så stabil som de store huler på Jorden, som ofte opretholder en næsten konstant temperatur, men det er konsekvent med, at disse er dybe huller i jorden,\" sagde Glen Cushing fra USGS Astrogeologi Team og fra Northern Arizona University, som ligger i Flagstaff, Arizona.\n",
      "correction:   Deres termiske opførsel er ikke så stabil som de store huler på Jorden, som ofte opretholder en næsten konstant temperatur, men det passer med, at disse er dybe huller i jorden,\" sagde Glen Cushing fra USGS Astrogeologi Team og fra Northern Arizona University, Flagstaff, Arizona.\n"
     ]
    },
    {
     "name": "stderr",
     "output_type": "stream",
     "text": [
      " 24%|██▍       | 24/100 [01:24<06:29,  5.13s/it]"
     ]
    },
    {
     "name": "stdout",
     "output_type": "stream",
     "text": [
      "translation:   Deres termiske adfærd (temperaturudvikling) er ikke så konstant som i store huler på Jorden, som ofte opretholder en rimelig konstant temperatur, men den er i overensstemmelse med, at disse er dybe huller i jorden.\n",
      "correction:  Deres termiske opførsel er ikke så konstant som i store huler på Jorden, som ofte opretholder en rimelig konstant temperatur, men den er i overensstemmelse med, at disse er dybe huller i jorden, sagde Glen Cushing fra USGS Astrogeologi Team og fra Northern Arizona University, Flagstaff, Arizona..\n"
     ]
    },
    {
     "name": "stderr",
     "output_type": "stream",
     "text": [
      " 25%|██▌       | 25/100 [01:28<05:44,  4.60s/it]"
     ]
    },
    {
     "name": "stdout",
     "output_type": "stream",
     "text": [
      "translation:   Temperaturen svinger ikke lige så meget i dem som i store huler på Jorden, men den er i tråd med det, at de har været dybe gruber i jorden,” fortalte Glen Cushing fra USGS Astrogeology Team og Northern Arizona University, som har base i Flagstaff, Arizona.\n",
      "correction:   Temperaturen svinger mere i dem end i store huler på Jorden, men den er i tråd med det, at de er dybe gruber i jorden,” fortalte Glen Cushing fra USGS Astrogeology Team og Northern Arizona University, Flagstaff, Arizona.\n"
     ]
    },
    {
     "name": "stderr",
     "output_type": "stream",
     "text": [
      " 26%|██▌       | 26/100 [01:32<05:35,  4.54s/it]"
     ]
    },
    {
     "name": "stdout",
     "output_type": "stream",
     "text": [
      "translation:   Deres termiske adfærd er ikke så konstant som de store huler på jorden, der ofte opretholder en forholdsvis konstant temperatur, men det er i overensstemmelse med disse er dybe huler i jorden, \"sagde Glen Cushing af den amerikanske Geological Survey (USGS) starfelt team og North Arizona University, der ligger i Flagstaff , Arizona.\n",
      "correction:   Deres termiske opførsel er ikke så konstant som de store huler på jorden, der ofte opretholder en forholdsvis konstant temperatur, men det er i overensstemmelse med at disse er dybe huler i jorden, \"sagde Glen Cushing af den amerikanske Geological Survey (USGS) starfelt team og North Arizona University, Flagstaff , Arizona.\n"
     ]
    },
    {
     "name": "stderr",
     "output_type": "stream",
     "text": [
      " 27%|██▋       | 27/100 [01:36<05:14,  4.31s/it]"
     ]
    },
    {
     "name": "stdout",
     "output_type": "stream",
     "text": [
      "translation:   Den termiske adfærd er ikke så stabil som hulerne på Jorden, som ofte fastholder en næsten konstant temperatur, men det er i overensstemmelse med disse dybhuller i jorden,« siger Glen Cushing fra USGS Astrogeology Team og fra Northern Arizona University beliggende i Flagstaff, Arizona.\n",
      "correction:   De termiske observationer er ikke så stabile som i de store huler på Jorden, som ofte opretholder en næsten konstant temperatur, men det er i overensstemmelse med at disse er dybe huller i jorden,« siger Glen Cushing fra USGS Astrogeology Team og fra Northern Arizona University, Flagstaff, Arizona.\n"
     ]
    },
    {
     "name": "stderr",
     "output_type": "stream",
     "text": [
      " 28%|██▊       | 28/100 [01:40<05:13,  4.36s/it]"
     ]
    },
    {
     "name": "stdout",
     "output_type": "stream",
     "text": [
      "translation:   Den termiske adfærd er ikke så stabil som store huler på Jorden, der ofte opretholder en forholdsvis konstant temperatur, men det er i tråd med dem er dybe huller i jorden,\" sagde Glen Cushing fra de Forenede USA Geologiske Survey (USGS) Astrogeologi Team og på Northern Arizona University beliggende i Flagstaff, Arizona.\n",
      "correction:   Den termiske opførsel er ikke så stabil som store huler på Jorden, der ofte opretholder en forholdsvis konstant temperatur, men det er i tråd med at disse er dybe huller i jorden,\" sagde Glen Cushing fra USA's Geologiske Survey (USGS) Astrogeologi Team og fra Northern Arizona University, Flagstaff, Arizona.\n"
     ]
    },
    {
     "name": "stderr",
     "output_type": "stream",
     "text": [
      " 29%|██▉       | 29/100 [01:44<04:54,  4.14s/it]"
     ]
    },
    {
     "name": "stdout",
     "output_type": "stream",
     "text": [
      "translation:   Deres termiske adfærd er ikke så stabil som store huler på Jorden, som ofte holder en forholdsvis konstant temperatur, men det er i overensstemmelse med disse at være dybe huller i jorden,\" siger Glen Cushing fra USAs Geologiske Undersøgelse (USGS) Astrogeologi Hold og fra Northern Arizona Universitet ligger i Flagstaf, Arizona.\n",
      "correction:   Deres termiske opførsel er ikke så stabil som store huler på Jorden, som ofte holder en forholdsvis konstant temperatur, men det er i overensstemmelse med at disse er dybe huller i jorden,\" siger Glen Cushing fra USAs Geologiske Undersøgelse (USGS) Astrogeologi Team og fra Northern Arizona Universitet, Flagstaf, Arizona.\n"
     ]
    },
    {
     "name": "stderr",
     "output_type": "stream",
     "text": [
      " 30%|███       | 30/100 [01:47<04:28,  3.84s/it]"
     ]
    },
    {
     "name": "stdout",
     "output_type": "stream",
     "text": [
      "translation:   Deres termiske opførsel er ikke så konstant som dybe, store huler på Jorden, som ofte opretholder en forholdsvis konstant temperatur, men de stemmer overens med, at dette er dybe, huler i jorden, sagde Glen Cushing fra USGS’s Astrogeology Team og fra Northern Arizona University i Flagstaff, Arizona.\n",
      "correction:   Deres termiske opførsel er ikke så konstant som dybe, store huler på Jorden, som ofte opretholder en forholdsvis konstant temperatur, men de stemmer overens med, at dette er dybe huler i jorden, sagde Glen Cushing fra USGS’s Astrogeology Team og fra Northern Arizona University i Flagstaff, Arizona.\n"
     ]
    },
    {
     "name": "stderr",
     "output_type": "stream",
     "text": [
      " 31%|███       | 31/100 [01:51<04:21,  3.79s/it]"
     ]
    },
    {
     "name": "stdout",
     "output_type": "stream",
     "text": [
      "translation:   Deres termiske opførsel er ikke så stabil som større huler på Jorden, som ofte opretholder en forholdsvis konstant temperatur, men er i overensstemmelse med disse er dybe huller i jorden, \"sagde Glen Cushing fra United States Geological Survey (USGS) Astrogeology Team og fra Northern Arizona University beliggende i Flagstaff, Arizona.\n",
      "correction:   Deres termiske opførsel er ikke så stabil som større huler på Jorden, som ofte opretholder en forholdsvis konstant temperatur, men er i overensstemmelse med disse er dybe huller i jorden, \"sagde Glen Cushing fra United States Geological Survey (USGS) Astrogeology Team og fra Northern Arizona University, Flagstaff, Arizona.\n"
     ]
    },
    {
     "name": "stderr",
     "output_type": "stream",
     "text": [
      " 32%|███▏      | 32/100 [01:55<04:24,  3.88s/it]"
     ]
    },
    {
     "name": "stdout",
     "output_type": "stream",
     "text": [
      "translation:   Den faste sekretær for Nobelkomiteen for Litteratur ved den Svenske Akademi, Sara Danius, offentliggjorde på mandag under et radioprogram for Sveriges Radio i Sverige på Sveriges Radio, at komiteen, som manglede evne til at rette kontakten til Bob Dylan for at gratulere ham med Nobelprisen i Litteratur for 2016et, havde opgivet forsøgene på at nå ham.\n",
      "correction:   Den permanente sekretær for Nobelkomiteen for Litteratur ved den Svenske Akademi, Sara Danius, offentliggjorde i mandags under et radioprogram for Sveriges Radio, at komiteen, som ikke havde kunnet få kontakt til Bob Dylan for at lykønske ham med Nobelprisen i Litteratur i 2016, havde opgivet forsøgene på at kontakte ham.\n"
     ]
    },
    {
     "name": "stderr",
     "output_type": "stream",
     "text": [
      " 33%|███▎      | 33/100 [01:58<04:06,  3.68s/it]"
     ]
    },
    {
     "name": "stdout",
     "output_type": "stream",
     "text": [
      "translation:   På mandag meddelte Sara Danius, permanent sekretær ved den Svenske Akademis Nobelkomite, offentligt i et radioprogram på Sveriges radio i Sverige, at komiteen, der ikke kunne komme i kontakt med 2016 Nobel-prismodtageren Dylan, opgav at videreføre sine bestræbelser på at nå ham.\n",
      "correction:  I mandags meddelte Sara Danius, permanent sekretær ved den Svenske Akademis Nobelkomite, offentligt i et radioprogram på Sveriges Radio, at komiteen, der ikke kunne komme i kontakt med 2016 Nobel-prismodtageren Bob Dylan, havde opgivet at kontake ham ham.\n"
     ]
    },
    {
     "name": "stderr",
     "output_type": "stream",
     "text": [
      " 34%|███▍      | 34/100 [02:01<03:53,  3.53s/it]"
     ]
    },
    {
     "name": "stdout",
     "output_type": "stream",
     "text": [
      "translation:   MANDAG offentliggjorde Sara Danius, permanent sekretær for Nobelkomiteen for Litteratur ved det svenske Akademi, på en radiosending på Sveriges Radio i Sverige, at Nobelkomiteen for Litteratur, ude af stand til at få fat i Bob Dylan direkte, for at overrække ham Nobelprisen i litteratur for 2016, havde ladet sine anstrengelser for at få fat i ham falde.\n",
      "correction:   MANDAG offentliggjorde Sara Danius, permanent sekretær for Nobelkomiteen for Litteratur ved det Svenske Akademi, i en radioudsendelse på Sveriges Radio, at Nobelkomiteen for Litteratur, der var ude af stand til at få fat i Bob Dylan for at overrække ham Nobelprisen i litteratur for 2016, havde opgivet at kontakte ham.\n"
     ]
    },
    {
     "name": "stderr",
     "output_type": "stream",
     "text": [
      " 35%|███▌      | 35/100 [02:05<03:46,  3.48s/it]"
     ]
    },
    {
     "name": "stdout",
     "output_type": "stream",
     "text": [
      "translation:   Sara Danius, permanent sekretær for Nobelkomiteen for litteratur ved Svenska Akademin, meddelte på et radioprogram af Sveriges Radio i Sverige, at Nobelkomiteen, ude af stand til at nå Bob Dylan direkte angående indsættelsen af Nobelprisen for 2016, havde opgivet at kontakte ham.\n",
      "correction:   Sara Danius, permanent sekretær for Nobelkomiteen for litteratur ved Svenska Akademien, meddelte på et radioprogram af Sveriges Radio, at Nobelkomiteen, der var ude af stand til at kontakte Bob Dylan angående overrækkelsen af Nobelprisen for 2016, havde opgivet at kontakte ham.\n"
     ]
    },
    {
     "name": "stderr",
     "output_type": "stream",
     "text": [
      " 36%|███▌      | 36/100 [02:07<03:30,  3.28s/it]"
     ]
    },
    {
     "name": "stdout",
     "output_type": "stream",
     "text": [
      "translation:   Sara Danius, sekretær permanent i Nobelkomitéen for Litteratur ved Svenska Akademien, offentliggjorde mandag i radioen Sveriges radio, at komitéen, ikke var i stand til at snakke med Bob Dylan vedrørende Nobelprisen i litteratur 2016, havde opgivet sit forsøg på at snakke med ham.\n",
      "correction:   Sara Danius, permanent sekretær i Nobelkomitéen for Litteratur ved Svenska Akademien, offentliggjorde mandag i Sveriges Radio, at komitéen ikke var i stand til at kontakte med Bob Dylan vedrørende Nobelprisen i litteratur 2016, og nu havde opgivet sit forsøg på at komme i kontakt med ham.\n"
     ]
    },
    {
     "name": "stderr",
     "output_type": "stream",
     "text": [
      " 37%|███▋      | 37/100 [02:11<03:35,  3.42s/it]"
     ]
    },
    {
     "name": "stdout",
     "output_type": "stream",
     "text": [
      "translation:   På mandag offentliggjorde Sara Danius, permanent sekretær for Nobelpris-komitéen for litteratur ved den Svenske Akademi, offentligt i et radioprogram på Sveriges Radio i Sverige, at komitéen, der ikke har haft mulighed for at nå Bob Dylan direkte vedrørende hans modtagelse af Nobelprisen i litteratur i 2016, derfor havde opgivet at gøre dette.\n",
      "correction:   Mandag offentliggjorde Sara Danius, permanent sekretær for Nobelpris-komitéen for litteratur ved det Svenske Akademi, offentligt i et radioprogram på Sveriges Radio, at komitéen, der ikke har formået at komme i kontakt med Bob Dylan vedrørende hans modtagelse af Nobelprisen i litteratur i 2016, nu har opgivet dette.\n"
     ]
    },
    {
     "name": "stderr",
     "output_type": "stream",
     "text": [
      " 38%|███▊      | 38/100 [02:15<03:31,  3.42s/it]"
     ]
    },
    {
     "name": "stdout",
     "output_type": "stream",
     "text": [
      "translation:   Mandag annoncerede Sara Danius, permanent sekretær for Nobelkomitéen for Litteratur hos den Svenske Akademi, offentligt i et radioprogram på Sveriges Radio i Sverige, at komitéen, ude af stand til at komme i kontakt med Bob Dylan, opgav at forsøge at kontakte ham.\n",
      "correction:   Mandag annoncerede Sara Danius, permanent sekretær for Nobelkomitéen for Litteratur hos det Svenske Akademi, offentligt i et radioprogram på Sveriges Radio, at komitéen, ude af stand til at komme i kontakt med Bob Dylan, nu opgav at forsøge at kontakte ham.\n"
     ]
    },
    {
     "name": "stderr",
     "output_type": "stream",
     "text": [
      " 39%|███▉      | 39/100 [02:18<03:29,  3.43s/it]"
     ]
    },
    {
     "name": "stdout",
     "output_type": "stream",
     "text": [
      "translation:   Sara Danius, permanent sekretær i Nobelkomiteen for Litteratur hos det Svenske Akademi, bekendtgjorde under et radioprogram på Sveriges Radio i Sverige, at komiteen, der ikke kunne komme i kontakt med Bob Dylan direkte om Nobelprisen i litteratur 2016, havde opgivet at kontakte ham.\n",
      "correction:   Sara Danius, permanent sekretær i Nobelkomiteen for Litteratur hos det Svenske Akademi, bekendtgjorde under et radioprogram på Sveriges Radio, at komiteen, der ikke kunne komme i kontakt med Bob Dylan direkte om Nobelprisen i litteratur 2016, havde opgivet at kontakte ham.\n"
     ]
    },
    {
     "name": "stderr",
     "output_type": "stream",
     "text": [
      " 40%|████      | 40/100 [02:21<03:15,  3.25s/it]"
     ]
    },
    {
     "name": "stdout",
     "output_type": "stream",
     "text": [
      "translation:   Mandag offentliggjorde Sara Danius, permanent sekretær for Nobelpriskomitéen for Litteratur i Svenska Akademien, på Sveriges Radio i Sverige, i et radioprogram, at komitéen, som ikke var i stand til at komme i kontakt med Bob Dylan, havde opgivet forsøget på at genoprette kontakten med ham.\n",
      "correction:   Mandag offentliggjorde Sara Danius, permanent sekretær for Nobelpriskomitéen for Litteratur i Svenska Akademien, på Sveriges Radio, i et radioprogram, at komitéen, som ikke var i stand til at komme i kontakt med Bob Dylan, havde opgivet forsøget på at opnå kontakt til ham.\n"
     ]
    },
    {
     "name": "stderr",
     "output_type": "stream",
     "text": [
      " 41%|████      | 41/100 [02:25<03:19,  3.38s/it]"
     ]
    },
    {
     "name": "stdout",
     "output_type": "stream",
     "text": [
      "translation:   Mandag meddelte Sara Danius, permanent sekretær for Nobelkomitéen for litteratur hos den Svenske Akademien, offentligt i et radioprogram på Sveriges Radio i Sverige, at komitéen, ikke i stand til direkte at få kontakt til Bob Dylan, havde opgivet sit forsøg på at kontakte ham.\n",
      "correction:   Mandag meddelte Sara Danius, permanent sekretær for Nobelkomitéen for litteratur hos det Svenske Akademi, offentligt i et radioprogram på Sveriges Radio, at komitéen, der ikke var i stand til at få kontakt til Bob Dylan, havde opgivet sit forsøg på at kontakte ham.\n"
     ]
    },
    {
     "name": "stderr",
     "output_type": "stream",
     "text": [
      " 42%|████▏     | 42/100 [02:28<03:09,  3.26s/it]"
     ]
    },
    {
     "name": "stdout",
     "output_type": "stream",
     "text": [
      "translation:   Som NSA assisterede Carter i diplomatisk håndtering af verdens anliggender, såsom Camp David-aftalerne i 1978, normaliseringen af forholdet mellem USA og Kina i slutningen af 1970erne; den iranske revolution, der førte til gidselkrisen i Iran i 1979; og den sovjetiske invasion i Afghanistan i 1979.\n",
      "correction:   Som NSA assisterede han Carter i diplomatisk håndtering af verdens anliggender, såsom Camp David-aftalerne i 1978, normaliseringen af forholdet mellem USA og Kina i slutningen af 1970erne; den iranske revolution, der førte til Iran-gidsel-affæren i 1979; og den sovjetiske invasion i Afghanistan i 1979.\n"
     ]
    },
    {
     "name": "stderr",
     "output_type": "stream",
     "text": [
      " 43%|████▎     | 43/100 [02:31<03:10,  3.33s/it]"
     ]
    },
    {
     "name": "stdout",
     "output_type": "stream",
     "text": [
      "translation:   Som NSA, hjalp han Carter med diplomatisk at styre verdenssager, såsom Camp David-aftalerne i 1978; at normalisere relationerne mellem USA og Kina i slutningen af 70erne; den iranske revolution, som led til den iranske gidselsituation i 1979; og den sovjetiske invasion i Afghanistan i 1979.\n",
      "correction:   Som NSA, hjalp han Carter med diplomatisk at styre verdensanliggender, såsom Camp David-aftalerne i 1978; at normalisere relationerne mellem USA og Kina i slutningen af 70erne; den iranske revolution, som førte  til Iran-gidsel-affæren i 1979; og den sovjetiske invasion i Afghanistan i 1979.\n"
     ]
    },
    {
     "name": "stderr",
     "output_type": "stream",
     "text": [
      " 44%|████▍     | 44/100 [02:34<03:03,  3.27s/it]"
     ]
    },
    {
     "name": "stdout",
     "output_type": "stream",
     "text": [
      "translation:   Som NSA, hjalp han Carter i diplomatisk håndteringen af verdens anliggender, såsom forhandlinger i Camp David, 1978; normaliseringen af de amerikanske og kinesiske relationer omkring slutningen af 1970erne; den iranske revolution, som førte til Iransk gidseldrama i 1979; og den sovjetiske invasion i Afghanistan, 1979.\n",
      "correction:   Som NSA, hjalp han Carter i diplomatisk håndteringen af verdens anliggender, såsom forhandlinger i Camp David, 1978; normaliseringen af de amerikanske og kinesiske relationer omkring slutningen af 1970erne; den iranske revolution, som førte til Iran-gidsel-affæren i 1979; og den sovjetiske invasion i Afghanistan, 1979.\n"
     ]
    },
    {
     "name": "stderr",
     "output_type": "stream",
     "text": [
      " 45%|████▌     | 45/100 [02:37<02:51,  3.11s/it]"
     ]
    },
    {
     "name": "stdout",
     "output_type": "stream",
     "text": [
      "translation:   Som NSA samarbejdede han med Carter om at håndtere verdensanliggender diplomatisk, som f.eks. Camp David-aftalen, 1978; om at normalisere USA–Kina forhold i slutningen af 1970'erne; den iranske revolution, som førte til Iran-gisler-situationen i 1979; og den sovjetiske invasion i 1979.\n",
      "correction:   Som NSA samarbejdede han med Carter om at håndtere verdensanliggender diplomatisk, som f.eks. Camp David-aftalen, 1978; om at normalisere USA–Kina forhold i slutningen af 1970'erne; den iranske revolution, som førte til Iran-gidsel-affæren i 1979; og den sovjetiske invasion af Afghanistan i 1979.\n"
     ]
    },
    {
     "name": "stderr",
     "output_type": "stream",
     "text": [
      " 46%|████▌     | 46/100 [02:41<02:56,  3.27s/it]"
     ]
    },
    {
     "name": "stdout",
     "output_type": "stream",
     "text": [
      "translation:   Som NSA, han bistod Carter med håndtering diplomatiske anliggender i verden, såsom Camp David-aftalerne, 1978; at normalisere USA-Kina relationer i slutningen af 1970'erne; den iranske revolution, der førte til Irans gidseldrama, 1979; og den sovjetiske invasion i Afghanistan, 1979.\n",
      "correction:   Som NSA, bistod han Carter med håndtering diplomatiske anliggender i verden, såsom Camp David-aftalen, 1978; at normalisere USA-Kina-relationen i slutningen af 1970'erne; den iranske revolution, der førte til Iran-gidsel-affæren, 1979; og den sovjetiske invasion i Afghanistan, 1979.\n"
     ]
    },
    {
     "name": "stderr",
     "output_type": "stream",
     "text": [
      " 47%|████▋     | 47/100 [02:44<02:52,  3.25s/it]"
     ]
    },
    {
     "name": "stdout",
     "output_type": "stream",
     "text": [
      "translation:   Som NSA, hjalp han Carter med at manipulere diplomatiske forhold i verden, som for eksempel Camp David-aftalen i 1978; med hensyn til at normalisere americanaftale med Kina i slutningen af 1970'erne; den iranske revolution i 1979, som resulterede i Den iranske gidselikrise og en sovjetisk invasion i Afghanistan i 1979.\n",
      "correction:   Som NSA, hjalp han Carter med at håndtere diplomatiske forhold i verden, som for eksempel Camp David-aftalen i 1978; normalisere forholdet mellem  USA og Kina  i slutningen af 1970'erne; den iranske revolution i 1979, som resulterede i Den iranske gidselkrise og den sovjetiske invasion i Afghanistan i 1979.\n"
     ]
    },
    {
     "name": "stderr",
     "output_type": "stream",
     "text": [
      " 48%|████▊     | 48/100 [02:47<02:45,  3.18s/it]"
     ]
    },
    {
     "name": "stdout",
     "output_type": "stream",
     "text": [
      "translation:   Som NSA, bidrog han til Carters diplomatiske håndtering af internationale problemer såsom Camp David-aftalerne fra 1978; normaliseringen af US-China-forbindelser i slutningen af 1970'erne; den iranske revolution, der førte til den iranske gidselkrise fra 1979; og Sovjetunionens invasion af Afghanistan i 1979.\n",
      "correction:   Som NSA, bidrog han til Carters diplomatiske håndtering af internationale problemer såsom Camp David-aftalen i 1978; normaliseringen af US-China-forbindelser i slutningen af 1970'erne; den iranske revolution, der førte til den iranske gidselkrise fra 1979; og Sovjetunionens invasion af Afghanistan i 1979.\n"
     ]
    },
    {
     "name": "stderr",
     "output_type": "stream",
     "text": [
      " 49%|████▉     | 49/100 [02:51<03:05,  3.65s/it]"
     ]
    },
    {
     "name": "stdout",
     "output_type": "stream",
     "text": [
      "translation:   Perry sagde, at han ville \"vende tilbage til Texas for at vurdere resultaterne af aftenens caucus og afgøre, hvorvidt der er en vej frem for mig i dette løb\", men sagde senere, at han ville blive i racet og konkurrere i South Carolina primærvalget den 21. januar.\n",
      "correction:   Perry sagde, at han ville \"vende tilbage til Texas for at vurdere resultaterne af aftenens caucus og afgøre, hvorvidt der er en vej frem for mig i denne valgkamp\", men sagde senere, at han ville fortsætte sin kampagne og stille op i South Carolina primærvalget den 21. januar.\n"
     ]
    },
    {
     "name": "stderr",
     "output_type": "stream",
     "text": [
      " 50%|█████     | 50/100 [02:55<02:55,  3.51s/it]"
     ]
    },
    {
     "name": "stdout",
     "output_type": "stream",
     "text": [
      "translation:   Perry sagde, at han ville \"vende tilbage til Texas for at vurdere resultatet af aftenens caucus, bestemme om der er en vej frem for mig i dette valg og\" senere sagde, at han ville blive og konkurrere i primærvalget i South Carolina den 21. januar.\n",
      "correction:   Perry sagde, at han ville \"vende tilbage til Texas for at vurdere resultatet af aftenens caucus, og se om der er en vej frem for mig i dette valg og\" senere sagde han, at han ville blive og stille op i primærvalget i South Carolina den 21. januar.\n"
     ]
    },
    {
     "name": "stderr",
     "output_type": "stream",
     "text": [
      " 51%|█████     | 51/100 [02:58<02:47,  3.43s/it]"
     ]
    },
    {
     "name": "stdout",
     "output_type": "stream",
     "text": [
      "translation:   Perry sagde, at han ville \"vende tilbage til Texas for at vurdere resultaterne af aftenens caucus, finde ud af, om der er en vej frem for mig til dette løb,\" men han fortalte senere, han ville blive i løbet og konkurrere i den indledende runde i South Carolina den 21 januar.\n",
      "correction:   Perry sagde, at han ville \"vende tilbage til Texas for at vurdere resultaterne af aftenens caucus, finde ud af, om der er en vej frem for mig til denne valgkamp,\" men han fortalte senere, han ville blive i valgkampen og stille op i den indledende runde i South Carolina den 21 januar.\n"
     ]
    },
    {
     "name": "stderr",
     "output_type": "stream",
     "text": [
      " 52%|█████▏    | 52/100 [03:01<02:44,  3.44s/it]"
     ]
    },
    {
     "name": "stdout",
     "output_type": "stream",
     "text": [
      "translation:   Perry udtalte, at han ville \"vende tilbage til Texas for at evaluere resultaterne af aftenens valgmøde, for at finde ud af, om der findes en vej frem for mig i dette valg\", men udtalte senere, at han ville fortsætte i valget og konkurrere i primærvalget i South Carolina den 21. januar).\n",
      "correction:   Perry udtalte, at han ville \"vende tilbage til Texas for at evaluere resultaterne af aftenens valgmøde, for at finde ud af, om der findes en vej frem for mig i dette valg\", men udtalte senere, at han ville fortsætte i valget og gå efter sejren i primærvalget i South Carolina den 21. januar.\n"
     ]
    },
    {
     "name": "stderr",
     "output_type": "stream",
     "text": [
      " 53%|█████▎    | 53/100 [03:05<02:40,  3.42s/it]"
     ]
    },
    {
     "name": "stdout",
     "output_type": "stream",
     "text": [
      "translation:   Perry sagde, at han ville \"vende tilbage til Texas for at vurdere resultaterne af aftenens caucus og fastlægge, om der er en vej for mig selv i dette løb\", men sagdere senere, at han ville blive i løbet og ville deltage i primærvalget den 21. januar i South Carolina.\n",
      "correction:   Perry sagde, at han ville \"vende tilbage til Texas for at vurdere resultaterne af aftenens caucus og beslutte, om der er en vej for mig selv i dette valg\", men sagde senere, at han ville blive i løbet og ville deltage i primærvalget den 21. januar i South Carolina.\n"
     ]
    },
    {
     "name": "stderr",
     "output_type": "stream",
     "text": [
      " 54%|█████▍    | 54/100 [03:10<03:04,  4.01s/it]"
     ]
    },
    {
     "name": "stdout",
     "output_type": "stream",
     "text": [
      "translation:   Perry angav, at han ville \"vende tilbage til Texas for at bedømme resultaterne af natternes caucus, for at fastslå om der er en sti frem for mig i denne valgkamp\", men sagde senere, at han ville blive i løbet og stille op i den 21. januar i Syd Carolina.\n",
      "correction:   Perry angav, at han ville \"vende tilbage til Texas for at bedømme resultaterne af natternes caucus, for at fastslå om der er en vej frem for mig i denne valgkamp\", men sagde senere, at han ville blive i valgkampen og stille op i den 21. januar i South Carolina.\n"
     ]
    },
    {
     "name": "stderr",
     "output_type": "stream",
     "text": [
      " 55%|█████▌    | 55/100 [03:14<02:56,  3.92s/it]"
     ]
    },
    {
     "name": "stdout",
     "output_type": "stream",
     "text": [
      "translation:   Perry erklærede, at han ville \"vende tilbage til Texas for at vurdere resultaterne af tonight's caucus, bestemme om der er en vej fremad for mig i løbet\", men han senere ville forblive i indtrækningen og konkurrere i den South Carolina primær den 21. januar.\n",
      "correction:   Perry erklærede, at han ville \"vende tilbage til Texas for at vurdere resultaterne af aftenens caucus, bestemme om der er en vej fremad for mig i valgkampen\", men han sagde senere ville forblive i valgkampen og stille op i  South Carolina primærvalg den 21. januar.\n"
     ]
    },
    {
     "name": "stderr",
     "output_type": "stream",
     "text": [
      " 56%|█████▌    | 56/100 [03:17<02:44,  3.73s/it]"
     ]
    },
    {
     "name": "stdout",
     "output_type": "stream",
     "text": [
      "translation:   Perry meddelte, at han ville \"komme tilbage til Texas for at evaluere resultaterne af aftenens caucus, afgøre, om der var er en mulig sti for mig i denne valgkamp\", men senere meddelte at han ville blive i valgkampen og konkurrere i den 21. januars primærvalg i South Carolina.\n",
      "correction:   Perry meddelte, at han ville \"tage tilbage til Texas for at evaluere resultaterne af aftenens caucus, afgøre om der var er en mulig vej frem for mig i denne valgkamp\", men senere meddelte at han ville blive i valgkampen om primærvalget i South Carolina d. 21. januar.\n"
     ]
    },
    {
     "name": "stderr",
     "output_type": "stream",
     "text": [
      " 57%|█████▋    | 57/100 [03:21<02:39,  3.71s/it]"
     ]
    },
    {
     "name": "stdout",
     "output_type": "stream",
     "text": [
      "translation:   Perry sagde at hun ville \"returne to Texas to assess te outcomes of tonight's caucus, determine whether there is a path forward for myself in this race\", men senere sagde hun at hun ville blive i konkurrencen og deltage i den Syd Carolina vælgerkonvent den 21 januar.\n",
      "correction:   Perry sagde at han ville \"tage tilbage til Texas for at evaluere resultaterne af aftenens caucus, afgøre om der var er en mulig vej frem for mig i denne valgkamp\", men senere sagde han at han ville blive i valgkampen og deltage i primærvalget i South Carolina d. 21 januar.\n"
     ]
    },
    {
     "name": "stderr",
     "output_type": "stream",
     "text": [
      " 58%|█████▊    | 58/100 [03:24<02:26,  3.48s/it]"
     ]
    },
    {
     "name": "stdout",
     "output_type": "stream",
     "text": [
      "translation:   Perry oplyste, at han ville \"vende tilbage til Texas for at vurdere resultaterne fra aftenens caucus, bestemme hvorvidt der er en fremgangsmåde for mig i dette løb, men har senere udtalt, at han ville blive i løbet og ville deltage i primærvalget i South Carolina den 21 januar.\n",
      "correction:   Perry oplyste, at han ville \"vende tilbage til Texas for at vurdere resultaterne fra aftenens caucus, bestemme hvorvidt der er en fremtid for mig i denne valgkamp, men har senere udtalt, at han ville blive i kampen deltage i primærvalget i South Carolina den 21 januar.\n"
     ]
    },
    {
     "name": "stderr",
     "output_type": "stream",
     "text": [
      " 59%|█████▉    | 59/100 [03:27<02:22,  3.47s/it]"
     ]
    },
    {
     "name": "stdout",
     "output_type": "stream",
     "text": [
      "translation:   Siden da det føderale styre har grebet ind for at overtage finansieringen af Mersey hospitalet i Devonport, Tasmanien, har delstatsstaten Australien og nogle føderale medlemmer af parlamentet hævdet, at det er en gennemført stunt i begyndelsen på en planlagt zvezds-kampagne til valget til Repræsentanternes Hus, som afholdes i november.\n",
      "correction:   Siden det føderale styre greb ind for at overtage finansieringen af Mersey Hospitalet i Devonport, Tasmanien, har delstatsstaten og nogle parlamentetsmedlemmer hævdet, at det er et gennemført stunt inden valget til Repræsentanternes Hus, som afholdes i november.\n"
     ]
    },
    {
     "name": "stderr",
     "output_type": "stream",
     "text": [
      " 60%|██████    | 60/100 [03:30<02:15,  3.40s/it]"
     ]
    },
    {
     "name": "stdout",
     "output_type": "stream",
     "text": [
      "translation:   Siden den føderale regering trådte ind for at overtage finansieringen af Mersey hospitalet i Devonport, Tasmanien, har delstatsregeringen og enkelte fællesrepræsentanter kritiseret denne handling som et stunt i prelude til det føderale valg til at blive indkaldt til november.\n",
      "correction:   Siden den føderale regering trådte ind for at overtage finansieringen af Mersey-hospitalet i Devonport, Tasmanien, har delstatsregeringen og enkelte parlamentsmedlemmer kritiseret denne handling som et stunt i optakten til det føderale valg i november.\n"
     ]
    },
    {
     "name": "stderr",
     "output_type": "stream",
     "text": [
      " 61%|██████    | 61/100 [03:33<02:07,  3.27s/it]"
     ]
    },
    {
     "name": "stdout",
     "output_type": "stream",
     "text": [
      "translation:   Siden forbundsregeringen trådte til og overtog statens fortsatte støtte til Mersey Hospital i Devonport i Tasmanien, har delstatsregeringen og nogle føderale parlamentsmedlemmer kritiseret denne handling som en slags stunt i optakten til det føderale valg, der skal afholdes inden november.\n",
      "correction:   Siden forbundsregeringen trådte til og overtog statens fortsatte støtte til Mersey Hospital i Devonport i Tasmanien, har delstatsregeringen og nogle føderale parlamentsmedlemmer kritiseret denne handling som en slags stunt i optakten til det føderale valg, der skal afholdes inden november.\n"
     ]
    },
    {
     "name": "stderr",
     "output_type": "stream",
     "text": [
      " 62%|██████▏   | 62/100 [03:36<02:01,  3.21s/it]"
     ]
    },
    {
     "name": "stdout",
     "output_type": "stream",
     "text": [
      "translation:   Siden den føderale regering trådte til for at overtage finansieringen af Mersey hospitalet i Devonport, Tasmanien, har delstatsregeringen og nogle føderale medlemmer af parlamentet kritiseret denne handling som en del af peronævnelsen til de føderale valg, der vil blive afholdt inden november.\n",
      "correction:   Siden den føderale regering trådte til for at overtage finansieringen af Mersey Hospitalet i Devonport, Tasmanien, har delstatsregeringen og nogle føderale medlemmer af parlamentet kritiseret denne handling som et stunt inden de føderale valg, der vil blive afholdt inden november.\n"
     ]
    },
    {
     "name": "stderr",
     "output_type": "stream",
     "text": [
      " 63%|██████▎   | 63/100 [03:40<02:00,  3.25s/it]"
     ]
    },
    {
     "name": "stdout",
     "output_type": "stream",
     "text": [
      "translation:   Siden den føderale regering overtog finansieringen af Mersey sygehuset i Devonport, Tasmanien, har delstatens regering og nogle føderale lovgivere været ude og stramme munden med kritik af dette stunt som en bebuden aktion i forspillet til et valg til november.\n",
      "correction:   Siden den føderale regering overtog finansieringen af Mersey sygehuset i Devonport, Tasmanien, har delstatens regering og nogle føderale lovgivere været ude med kritik af dette stunt som et forspil til et valg til november.\n"
     ]
    },
    {
     "name": "stderr",
     "output_type": "stream",
     "text": [
      " 64%|██████▍   | 64/100 [03:43<01:57,  3.26s/it]"
     ]
    },
    {
     "name": "stdout",
     "output_type": "stream",
     "text": [
      "translation:   Siden den føderale regering trådte til for at overtage finansieringen af Mersey hospitalet i Devonport, Tasmanien, har delstatsregeringen og nogle af føderale parlamentsmedlemmer kritiseret denne handling som et statmandstrick foran den føderalvalg, der skal finde sted i november.\n",
      "correction:   Siden den føderale regering trådte til for at overtage finansieringen af Mersey hospitalet i Devonport, Tasmanien, har delstatsregeringen og nogle af føderale parlamentsmedlemmer kritiseret denne handling som et stunt foran den føderalvalg, der skal finde sted i november.\n"
     ]
    },
    {
     "name": "stderr",
     "output_type": "stream",
     "text": [
      " 65%|██████▌   | 65/100 [03:47<01:56,  3.32s/it]"
     ]
    },
    {
     "name": "stdout",
     "output_type": "stream",
     "text": [
      "translation:   Siden den føderale regering trådte til for at overtage finansieringen af ​​Mersey hospitalet i Devonport, Tasmania, har delstatsregeringen og nogle føderale medlemmer af parlamentet kritiseret denne handling som et stunt for at vise flaget i indledningen til det føderale valg til at blive kaldt inden november.\n",
      "correction:   Siden den føderale regering trådte til for at overtage finansieringen af ​​Mersey hospitalet i Devonport, Tasmania, har delstatsregeringen og nogle føderale medlemmer af parlamentet kritiseret denne handling som et stunt for at vise flaget inden det føderale valg, der skal udskrives inden november.\n"
     ]
    },
    {
     "name": "stderr",
     "output_type": "stream",
     "text": [
      " 66%|██████▌   | 66/100 [03:50<01:54,  3.38s/it]"
     ]
    },
    {
     "name": "stdout",
     "output_type": "stream",
     "text": [
      "translation:   Siden forbundsregeringen trådte til for at overtage finansieringen af Mersey-hospitalet i Devonport, Tasmanien, har delstatsregeringen og nogle føderale parlamentsmedlemmer kritiseret denne handling som et stunt i overdækket til forbundsvalget bliver er det kan det.\n",
      "correction:   Siden forbundsregeringen trådte til for at overtage finansieringen af Mersey-hospitalet i Devonport, Tasmanien, har delstatsregeringen og nogle føderale parlamentsmedlemmer kritiseret denne handling som et stunt inden det føderale valg, der skal udskrives inden november.\n"
     ]
    },
    {
     "name": "stderr",
     "output_type": "stream",
     "text": [
      " 67%|██████▋   | 67/100 [03:53<01:49,  3.33s/it]"
     ]
    },
    {
     "name": "stdout",
     "output_type": "stream",
     "text": [
      "translation:   Siden det føderale regering siden er trådte i at overtage finansiering af Mersey hospitalet i Devonport, Tasmanien, har delstatsregeringen og nogle føderale parlamentsmedlemmer kritiseret dette som et stunt i overblikket over den føderale valg, der skal kaldes af november.\n",
      "correction:  Lige siden det føderale regering trådte til for at overtage finansiering af Mersey Hospitalet i Devonport, Tasmanien, har delstatsregeringen og nogle føderale parlamentsmedlemmer kritiseret dette som et stunt i kølvandet på det  føderale valg, der skal udskrives inden november.\n"
     ]
    },
    {
     "name": "stderr",
     "output_type": "stream",
     "text": [
      " 68%|██████▊   | 68/100 [03:57<01:50,  3.45s/it]"
     ]
    },
    {
     "name": "stdout",
     "output_type": "stream",
     "text": [
      "translation:   Siden den føderale regering trådte til for at overtage finansieringen af Mersey-hospitalet i Devonport Tasmanien, har delstatsregeringen og nogle føderale parlamentariske repræsentanter kritiseret dette som en manøvre for at aflede opmærksomhed frem mod det føderale valg, der skal afholdes inden november.\n",
      "correction:   Siden den føderale regering trådte til for at overtage finansieringen af Mersey-hospitalet i Devonport Tasmanien, har delstatsregeringen og nogle føderale parlamentariske repræsentanter kritiseret dette som en manøvre for at aflede opmærksomhed frem mod det føderale valg, der skal afholdes inden november.\n"
     ]
    },
    {
     "name": "stderr",
     "output_type": "stream",
     "text": [
      " 69%|██████▉   | 69/100 [04:00<01:45,  3.39s/it]"
     ]
    },
    {
     "name": "stdout",
     "output_type": "stream",
     "text": [
      "translation:   American Gymnastik bakket en uafhængig undersøgelse, som kan sætte lys over, hvordan misbrug af de forhold, der er beskrevet så modigt af ofrene for Larry Nassar kan have gået ubemærket for så længe og omfavne ethvert nødvendigt og passende ændringer.\n",
      "correction:   USA Gymnastics bakker op en uafhængig undersøgelse, som kan kaste lys over, hvordan misbrug i den størrelsesorden, der er beskrevet så modigt af Larry Nassars ofre, kan være gået ubemærket hen så længe, og de hilser ethver nødvendig og passende ændring velkommen.\n"
     ]
    },
    {
     "name": "stderr",
     "output_type": "stream",
     "text": [
      " 70%|███████   | 70/100 [04:04<01:42,  3.43s/it]"
     ]
    },
    {
     "name": "stdout",
     "output_type": "stream",
     "text": [
      "translation:   US Gymnastik støtter en uafhængig undersøgelse, der kan kaste lys over, hvordan misbrug af arrangementet, som anskueliggjort så modigt af ofrene for Larry Nassar, kunne gå uopdaget i så lang tid og er indstillede på, at nødvendige og passende ændringer sker.\n",
      "correction:   USA Gymnastics støtter en uafhængig undersøgelse, der kan kaste lys over, hvordan misbrug i den skala, som er anskueliggjort så modigt af Larry Nassars ofre, kunne gå uopdaget i så lang tid og de er indstillede på nødvendige og passende ændringer.\n"
     ]
    },
    {
     "name": "stderr",
     "output_type": "stream",
     "text": [
      " 71%|███████   | 71/100 [04:07<01:38,  3.40s/it]"
     ]
    },
    {
     "name": "stdout",
     "output_type": "stream",
     "text": [
      "translation:   USA Gymnastik lægger vægt på en uafhængig efterforskning, som måske kan kaste lys over, hvordan de voldshandlinger, der blev nedtegnet så modigt af overleverne fra Larry Nassars misbrug, kunne være undsluppet afsløring så længe, og accepterer alle nødvendige og passende ændringer.\n",
      "correction:   USA Gymnastics lægger vægt på en uafhængig efterforskning, som måske kan kaste lys over, hvordan de voldshandlinger, der blev så modigt beskrevet af overleverne fra Larry Nassars misbrug, kunne gå under radaren så længe, og de accepterer alle nødvendige og passende ændringer.\n"
     ]
    },
    {
     "name": "stderr",
     "output_type": "stream",
     "text": [
      " 72%|███████▏  | 72/100 [04:10<01:35,  3.40s/it]"
     ]
    },
    {
     "name": "stdout",
     "output_type": "stream",
     "text": [
      "translation:   USA Gymnastik støtter en uafhængig undersøgelse, der kan kaste lys over, hvordan misbrug af den proportionalitet, beskrevet så modigt af ofrene for Larry Nassar kunne have gået uanmeldt så længe, og overgiver sig til enhver nødvendige og passende ændringer.\n",
      "correction:   USA Gymnastics støtter en uafhængig undersøgelse, der kan kaste lys over, hvordan misbrug i de proportioner, beskrevet så modigt af Larry Nassars ofre, kunne have gået upåagtet hen så længe, og de overgiver sig til alle nødvendige og passende ændringer.\n"
     ]
    },
    {
     "name": "stderr",
     "output_type": "stream",
     "text": [
      " 73%|███████▎  | 73/100 [04:14<01:33,  3.45s/it]"
     ]
    },
    {
     "name": "stdout",
     "output_type": "stream",
     "text": [
      "translation:   USA Gymnastics støtter en uafhængig undersøgelse, der kan bringe lys over, hvordan misbrug af procentdelen beskrevet så modigt af overleverne af Larry Nassar, kunne have gået uopdaget så længe, og omfavner eventuelle nødvendige og passende forandringer.\n",
      "correction:   USA Gymnastics støtter en uafhængig undersøgelse, der kan kaste lys over, hvordan misbrug i den størrelsesorden, der er beskrevet så modigt af Larry Nassars ofre, kunne have gået uopdaget så længe, og de omfavner eventuelle nødvendige og passende forandringer.\n"
     ]
    },
    {
     "name": "stderr",
     "output_type": "stream",
     "text": [
      " 74%|███████▍  | 74/100 [04:17<01:29,  3.44s/it]"
     ]
    },
    {
     "name": "stdout",
     "output_type": "stream",
     "text": [
      "translation:   USA Gymnastik støtter en uafhængig undersøgelse som kan kaste lys over, at overgreb af den af ofrene for Larry Nassar skildrede ret hurtige form kunne være gået ustraffede i så lang tid og støtter alle nødvendige og passende forandringer\n",
      "correction:   USA Gymnastics bakker op om en uafhængig undersøgelse som kan kaste lys over, hvordan overgreb, i det omfang som Larry Nassars ofre skildrede, kunne gå ustraffede i så lang tid og de støtter alle nødvendige og passende forandringer\n"
     ]
    },
    {
     "name": "stderr",
     "output_type": "stream",
     "text": [
      " 75%|███████▌  | 75/100 [04:24<01:50,  4.43s/it]"
     ]
    },
    {
     "name": "stdout",
     "output_type": "stream",
     "text": [
      "translation:   USA Gymnastik støtter en uafhængig undersøgelse, som kan give lys på, hvordan en efterfølgende af det proportioner, som så modigt er blevet beskrevet af ofrene for Larry Nassar kunne være gået ubemærket hen i så lang tid, og omfavner enhver nødvendig og passende ændringer.\n",
      "correction:   USA Gymnastics støtter en uafhængig undersøgelse, som kan kaste lys over, hvordan en forbrydelse af de proportioner, som så modigt er blevet beskrevet af Larry Nassars ofre kunne være gået ubemærket hen i så lang tid, og de imødeser alle nødvendige og passende ændringer.\n"
     ]
    },
    {
     "name": "stderr",
     "output_type": "stream",
     "text": [
      " 76%|███████▌  | 76/100 [04:28<01:38,  4.11s/it]"
     ]
    },
    {
     "name": "stdout",
     "output_type": "stream",
     "text": [
      "translation:   USA Gymnastik støtter en uafhængig undersøgelse, som kan kaste lys over, hvordan misbruget af den proportioner af dimensionerne kan have undgået opdagelse og omfavner alle nødvendige og passende ændringer.\n",
      "correction:   USA Gymnastics støtter en uafhængig undersøgelse, som kan kaste lys over, hvordan misbrug af de beskrevne dimensioner kan have undgået at blive opdaget, og de imødeser alle nødvendige og passende ændringer.\n"
     ]
    },
    {
     "name": "stderr",
     "output_type": "stream",
     "text": [
      " 77%|███████▋  | 77/100 [04:30<01:26,  3.74s/it]"
     ]
    },
    {
     "name": "stdout",
     "output_type": "stream",
     "text": [
      "translation:   USA Gymnastik støtter en uafhængig undersøgelse, som måske vil kaste lys over, hvordan misbrug inden for de proportioner beskrevet så modigt af ofrene for Larry Nassar kunne have forgået i så lang tid, og går ind for alle nødvendige og passende ændringer.\n",
      "correction:   USA Gymnastics støtter en uafhængig undersøgelse, som måske vil kaste lys over, hvordan misbrug af de proportioner beskrevet så modigt af Larry Nassars ofre kunne have forgået i så lang tid, og går ind for alle nødvendige og passende ændringer.\n"
     ]
    },
    {
     "name": "stderr",
     "output_type": "stream",
     "text": [
      " 78%|███████▊  | 78/100 [04:34<01:19,  3.62s/it]"
     ]
    },
    {
     "name": "stdout",
     "output_type": "stream",
     "text": [
      "translation:   Fjerstrukturen tyder på, at de ikke blev brugt til flyvning, men for regulering af temperaturen eller udseendet. Forskerne foreslog, at selv om dette er halen fra en ung dinosaur, viser prøven voksen fjerdragt og ikke en kyllingsensdown.\n",
      "correction:   Fjerstrukturen tyder på, at de ikke blev brugt til flyvning, men til regulering af temperaturen eller pga. udseendet. Forskerne mente, at selv om dette er halen fra en ung dinosaur, viser prøven voksen fjerdragt og ikke dun from en unge.\n"
     ]
    },
    {
     "name": "stderr",
     "output_type": "stream",
     "text": [
      " 79%|███████▉  | 79/100 [04:38<01:20,  3.82s/it]"
     ]
    },
    {
     "name": "stdout",
     "output_type": "stream",
     "text": [
      "translation:   Fjerenes struktur hentyder til, at de ikke er blevet benyttet under flugten, men derimod til kropstemperaturregulering eller udstilling. Forskerne foreslog, at selvom dette er halen på en ung dinosaur, viser prøven voksen håndpuld og ikke unge totter.\n",
      "correction:   Fjerenes struktur tyder på, at de ikke er blevet benyttet til flyvning, men derimod til regulering af kropstemperaturen eller til pynt. Forskerne sagde, at selvom dette er halen på en ung dinosaur, viser prøven voksen fjerdragt og ikke en unges dun.\n"
     ]
    },
    {
     "name": "stderr",
     "output_type": "stream",
     "text": [
      " 80%|████████  | 80/100 [04:41<01:12,  3.64s/it]"
     ]
    },
    {
     "name": "stdout",
     "output_type": "stream",
     "text": [
      "translation:   Fjerstrukturerne antyder, at de ikke var i brug under flyvningen, men snarere til temperaturregulering eller visning. Forskerne foreslog, at selv om dette er halen på en ung dinosaur, så viser prøven voksen fjerdragt og ikke en kyllings dun.\n",
      "correction:   Fjerstrukturerne antyder, at de ikke var i brug under flyvningen, men snarere til temperaturregulering eller pynt. Forskerne foreslog, at selv om dette er halen på en ung dinosaur, så viser prøven voksen fjerdragt og ikke en unges dun.\n"
     ]
    },
    {
     "name": "stderr",
     "output_type": "stream",
     "text": [
      " 81%|████████  | 81/100 [04:45<01:10,  3.69s/it]"
     ]
    },
    {
     "name": "stdout",
     "output_type": "stream",
     "text": [
      "translation:   Strukturen på fjerene tyder på, at de ikke blev brugt i flyvning, men snarere til regulering af temperaturen eller fremvisning. Forskerne foreslog, at selv om dette er halen på en ung dinosaur, viser prøven voksenfjær, ikke en uges fjer.\n",
      "correction:   Strukturen på fjerene tyder på, at de ikke blev brugt til flyvning, men snarere til regulering af temperaturen eller pynt. Forskerne udtalte, at selv om dette er halen på en ung dinosaur, viser prøven voksenfjer, ikke en unges fjer.\n"
     ]
    },
    {
     "name": "stderr",
     "output_type": "stream",
     "text": [
      " 82%|████████▏ | 82/100 [04:49<01:04,  3.61s/it]"
     ]
    },
    {
     "name": "stdout",
     "output_type": "stream",
     "text": [
      "translation:   Fjerstrukturens design antyder, at de ikke blev brugt under flyvning, men snarere til at regulere temperaturen eller som standere. Forskerne foreslog, at selv om dette er en unge fra en ung dinosaur, inkluderer prøven voksen fjerdragt og ikke en yngles fjer.\n",
      "correction:   Fjerstrukturens design antyder, at de ikke blev brugt til flyvning, men snarere til at regulere temperaturen eller for udseendets skyld. Forskerne mente, at selv om det er halen fra en ung dinosaur, viser prøven voksen fjerdragt og ikke en unges fjer.\n"
     ]
    },
    {
     "name": "stderr",
     "output_type": "stream",
     "text": [
      " 83%|████████▎ | 83/100 [04:52<01:00,  3.57s/it]"
     ]
    },
    {
     "name": "stdout",
     "output_type": "stream",
     "text": [
      "translation:   Undersøgelsen af fjerenes struktur antyder, at de ikke blev brugt i flugten, men snarere til temperaturregulering eller visning. Forskerne foreslog, at selvom dette er halen på en ung dinosaur, viser prøven voksen fjerdragt frem for en ungefugl.\n",
      "correction:   Undersøgelsen af fjerenes struktur antyder, at de ikke blev brugt til at flyve med, men snarere til temperaturregulering eller pynt. Forskerne udtalte, at selvom dette er halen på en ung dinosaur, viser prøven voksen fjerdragt frem for dunene fra en ungfugl.\n"
     ]
    },
    {
     "name": "stderr",
     "output_type": "stream",
     "text": [
      " 84%|████████▍ | 84/100 [04:55<00:56,  3.54s/it]"
     ]
    },
    {
     "name": "stdout",
     "output_type": "stream",
     "text": [
      "translation:   Fjerenes struktur tyder på, at den ikke var brugt i flyvning, men snarere for temperaturregulering eller visning. Forskerne foreslog, at selv om dette er halen på en ung dinosaur, viser prøven voksen fældning og ikke en babys fjer.\n",
      "correction:   Fjerenes struktur tyder på, at de ikke var brugt i flyvning, men snarere til temperaturregulering eller pynt. Forskerne sagde, at selv om dette er halen på en ung dinosaur, viser prøven voksenfjer og ikke dun fra en unge.\n"
     ]
    },
    {
     "name": "stderr",
     "output_type": "stream",
     "text": [
      " 85%|████████▌ | 85/100 [04:59<00:52,  3.53s/it]"
     ]
    },
    {
     "name": "stdout",
     "output_type": "stream",
     "text": [
      "translation:   Fjerenes struktur antyder, at de ikke var i brug til at flyve med, men snarere til regulering af temperaturen eller visning. Forskerne antog, at selv om det her er halen af en ung dinosaur, så viste prøven voksenplumage og ikke en kyllings udstødte.\n",
      "correction:   Fjerenes struktur antyder, at de ikke var i brug til at flyve med, men snarere til regulering af temperaturen eller pynt. Forskerne har udtalt, at selv om det her er halen af en ung dinosaur, så viste prøven voksenfjerdragt og ikke en unges dun.\n"
     ]
    },
    {
     "name": "stderr",
     "output_type": "stream",
     "text": [
      " 86%|████████▌ | 86/100 [05:03<00:50,  3.58s/it]"
     ]
    },
    {
     "name": "stdout",
     "output_type": "stream",
     "text": [
      "translation:   Fjers struktur tyder på, at de ikke blev brugt i flyveprocessen, men snarere til regulering af temperaturen og fremtrædning. Forskerne foreslog, at selvom det er ryggen af en ung dinosaurus, viser prøverne også voksen fjerdragt og ikke en kyllings.\n",
      "correction:   Fjerenes struktur tyder på, at de ikke blev brugt til at flyve med, men snarere til regulering af temperaturen og pynt. Forskerne udtalte, at selvom det er halen af en ung dinosaurus, viser prøverne en voksen fjerdragt og ikke en unges.\n"
     ]
    },
    {
     "name": "stderr",
     "output_type": "stream",
     "text": [
      " 87%|████████▋ | 87/100 [05:06<00:45,  3.52s/it]"
     ]
    },
    {
     "name": "stdout",
     "output_type": "stream",
     "text": [
      "translation:   Fjerstrukturen antyder, at de ikke blev brugt i flyvning, men snarere til temperaturregulering eller fremvisning. Forskerne foreslog, at selv om det er halen på et ungt dyr, så viser prøven voksen fjerdragt og ikke en babys dun.\n",
      "correction:   Fjerstrukturen antyder, at de ikke blev brugt til flyvning, men snarere til temperaturregulering eller pynt. Forskerne foreslog, at selv om det er halen på et ungt dyr, så viser prøven voksen fjerdragt og ikke en unges dun.\n"
     ]
    },
    {
     "name": "stderr",
     "output_type": "stream",
     "text": [
      " 88%|████████▊ | 88/100 [05:10<00:43,  3.64s/it]"
     ]
    },
    {
     "name": "stdout",
     "output_type": "stream",
     "text": [
      "translation:   Dr. Balasubramanian, 29, blev fundet i Blue Ash, Ohio, en forstad til Cincinnati, ca. 15 miles nord for Cincinnati, på jorden ved siden af vejen i en T-shirt og undertøj i tilsyneladende alvorlig medicinering.\n",
      "correction:   Dr. Balasubramanian, 29, blev fundet i Blue Ash, Ohio, en forstad ca. 15 miles nord for Cincinnati, på jorden ved siden af vejen i en T-shirt og undertøj i tilsyneladende stærkt medicineret tilstand.\n"
     ]
    },
    {
     "name": "stderr",
     "output_type": "stream",
     "text": [
      " 89%|████████▉ | 89/100 [05:17<00:50,  4.58s/it]"
     ]
    },
    {
     "name": "stdout",
     "output_type": "stream",
     "text": [
      "translation:   Dr. Malar Balasubramanian, 29 år, blev fundet i Blue Ash, Ohio, en forstad cirka 15 kilometer nord for Cincinnati, liggende på jorden ved vejen i en T-shirt og undertøj i en tilsyneladende kraftigt medicineret tilstand.\n",
      "correction:   Dr. Malar Balasubramanian, 29 år, blev fundet i Blue Ash, Ohio, en forstad cirka 15 mil nord for Cincinnati, liggende på jorden ved vejen i en T-shirt og undertøj i en tilsyneladende kraftigt medicineret tilstand.\n"
     ]
    },
    {
     "name": "stderr",
     "output_type": "stream",
     "text": [
      " 90%|█████████ | 90/100 [05:20<00:40,  4.07s/it]"
     ]
    },
    {
     "name": "stdout",
     "output_type": "stream",
     "text": [
      "translation:   Dr. Malar Balasubramanian, 29, blev fundet i Blue Ash, Ohio, en forstad ca. 15 km nord for Cincinnati på jorden ved siden af ​​vejen i en t-shirt og undertøj tilsyneladende i en højt medicin tilstand.\n",
      "correction:   Dr. Malar Balasubramanian, 29, blev fundet i Blue Ash, Ohio, en forstad ca. 15 mil nord for Cincinnati, på jorden ved siden af ​​vejen i en t-shirt og undertøj tilsyneladende stærkt medicineret.\n"
     ]
    },
    {
     "name": "stderr",
     "output_type": "stream",
     "text": [
      " 91%|█████████ | 91/100 [05:23<00:34,  3.79s/it]"
     ]
    },
    {
     "name": "stdout",
     "output_type": "stream",
     "text": [
      "translation:   Dr. Malar Balasubramanian, 29, blev fundet i Blue Ash, Ohio, en forstad ca. 15 km nord for Cincinnati liggende på jorden ved siden af vejen i en T-shirt og undertøj i en tilsyneladende stærkt medicineret tilstand.\n",
      "correction:   Dr. Malar Balasubramanian, 29, blev fundet i Blue Ash, Ohio, en forstad ca. 15 mil nord for Cincinnati, liggende på jorden ved siden af vejen i en T-shirt og undertøj i en tilsyneladende stærkt medicineret tilstand.\n"
     ]
    },
    {
     "name": "stderr",
     "output_type": "stream",
     "text": [
      " 92%|█████████▏| 92/100 [05:26<00:28,  3.57s/it]"
     ]
    },
    {
     "name": "stdout",
     "output_type": "stream",
     "text": [
      "translation:   Dr. Malar Balasubramaniam, 29, blev fundet i Blue Ash, Ohio, en forstad ca. 15 mil nord for Cincinnati, liggende på jorden ved siden af vejen i T-shirt og undertøj i en tilsyneladende kraftigt medicineret tilstand.\n",
      "correction:   Dr. Malar Balasubramaniam, 29, blev fundet i Blue Ash, Ohio, en forstad ca. 15 mil nord for Cincinnati, liggende på jorden ved siden af vejen i T-shirt og undertøj i en tilsyneladende kraftigt medicineret tilstand.\n"
     ]
    },
    {
     "name": "stderr",
     "output_type": "stream",
     "text": [
      " 93%|█████████▎| 93/100 [05:29<00:24,  3.45s/it]"
     ]
    },
    {
     "name": "stdout",
     "output_type": "stream",
     "text": [
      "translation:   Dr. Malar Balasubramanian blev fundet i Blue Ash, Ohio, et nabolag 15 miles nord for Cincinnati, liggende på jorden ved siden af vejen i en T-shirt og underbukser i en tilsyneladende kraftigt medicineret tilstand.\n",
      "correction:   Dr. Malar Balasubramanian blev fundet i Blue Ash, Ohio, en forstad 15 mil nord for Cincinnati, liggende på jorden ved siden af vejen i en T-shirt og underbukser i en tilsyneladende kraftigt medicineret tilstand.\n"
     ]
    },
    {
     "name": "stderr",
     "output_type": "stream",
     "text": [
      " 94%|█████████▍| 94/100 [05:32<00:20,  3.34s/it]"
     ]
    },
    {
     "name": "stdout",
     "output_type": "stream",
     "text": [
      "translation:   Dr. Malar Balasubramanian, 29, blev fundet i Blue Ash, Ohio, en forstad ca. 15 km nord for Cincinnati ved vejen i T-shirt og undertøj i en tilsyneladende stærkt medicineret tilstand.\n",
      "correction:   Dr. Malar Balasubramanian, 29, blev fundet i Blue Ash, Ohio, en forstad ca. 15 mil nord for Cincinnati ved vejen i T-shirt og undertøj i en tilsyneladende stærkt medicineret tilstand.\n"
     ]
    },
    {
     "name": "stderr",
     "output_type": "stream",
     "text": [
      " 95%|█████████▌| 95/100 [05:36<00:16,  3.38s/it]"
     ]
    },
    {
     "name": "stdout",
     "output_type": "stream",
     "text": [
      "translation:   Dr. Balasubramanian blev 29 år og blev fundet i Blue Ash, Ohio, en forstad 20 kilometer nord for Cincinnati, liggende på jorden nær vejen i en t-shirt og underbukser i tilsyneladende stærkt medicinpåvirket tilstand.\n",
      "correction:   Dr. Balasubramanian blev 29 år og blev fundet i Blue Ash, Ohio, en forstad 20 kilometer nord for Cincinnati, liggende på jorden nær vejen i en t-shirt og underbukser i tilsyneladende stærkt medicinpåvirket tilstand.\n"
     ]
    },
    {
     "name": "stderr",
     "output_type": "stream",
     "text": [
      " 96%|█████████▌| 96/100 [05:39<00:13,  3.28s/it]"
     ]
    },
    {
     "name": "stdout",
     "output_type": "stream",
     "text": [
      "translation:   Dr. Malar Balasubramanian, 29 år, er fundet i Blue Ash, Ohio, en forstad 15 miles nord for Cincinatti liggende på jorden ved landevejen i T-shirt og undertøj i en tilsyneladende dybt medicinoverdoseret tilstand.\n",
      "correction:   Dr. Malar Balasubramanian, 29 år, er fundet i Blue Ash, Ohio, en forstad 15 miles nord for Cincinatti, liggende på jorden ved landevejen i T-shirt og undertøj i en tilsyneladende dybt medicineret tilstand.\n"
     ]
    },
    {
     "name": "stderr",
     "output_type": "stream",
     "text": [
      " 97%|█████████▋| 97/100 [05:42<00:10,  3.36s/it]"
     ]
    },
    {
     "name": "stdout",
     "output_type": "stream",
     "text": [
      "translation:   Dr. Balasubramanian, på 29, blev fundet i Blue Ash, Ohio, en forstad ca. 15 miles nord for Cincinnati på gaden i en T-shirt og underbukser tilsyneladende i en stærkt medicineret tilstand.\n",
      "correction:   Dr. Balasubramanian, 29, blev fundet i Blue Ash, Ohio, en forstad ca. 15 miles nord for Cincinnati, på gaden i en T-shirt og underbukser tilsyneladende i en stærkt medicineret tilstand.\n"
     ]
    },
    {
     "name": "stderr",
     "output_type": "stream",
     "text": [
      " 98%|█████████▊| 98/100 [05:45<00:06,  3.30s/it]"
     ]
    },
    {
     "name": "stdout",
     "output_type": "stream",
     "text": [
      "translation:   Dr. Malar Balasubramanian, 29, blev fundet i Blue Ash, Ohio, en forstad 15 miles nord for Cincinnati liggende på jorden ved siden af vejen i en T-shirt og undertøj i en tilsyneladende stærkt medicineret tilstand.\n",
      "correction:   Dr. Malar Balasubramanian, 29, blev fundet i Blue Ash, Ohio, en forstad 15 miles nord for Cincinnati, liggende på jorden ved siden af vejen i en T-shirt og undertøj i en tilsyneladende stærkt medicineret tilstand.\n"
     ]
    },
    {
     "name": "stderr",
     "output_type": "stream",
     "text": [
      " 99%|█████████▉| 99/100 [05:50<00:03,  3.68s/it]"
     ]
    },
    {
     "name": "stdout",
     "output_type": "stream",
     "text": [
      "translation:   Dr. Malar Balasubramanian, på 29 år, var funden i Blue Ash, Ohio, en forstad omkring 15 miles nord for Cincinnati liggende på jorden ved siden af vejen i en T-shirt og undertøj på en tydeligt medicinpåvirket måde.\n",
      "correction:   Dr. Malar Balasubramanian, 29 år, blev fundet i Blue Ash, Ohio, en forstad omkring 15 miles nord for Cincinnati, liggende på jorden i vejkanten i en T-shirt og undertøj, øjensynligt medicinpåvirket.\n"
     ]
    },
    {
     "name": "stderr",
     "output_type": "stream",
     "text": [
      "100%|██████████| 100/100 [05:53<00:00,  3.48s/it]"
     ]
    },
    {
     "name": "stdout",
     "output_type": "stream",
     "text": [
      "translation:   Dr. Malar Balasubramanian, 29, blev fundet i Blue Ash, Ohio, en forstad ca. 15 km nord for Cincinnati liggende på jorden nær vejen i en T-shirt og undertøj i en tilsyneladende stærkt medicineret tilstand.\n",
      "correction:   Dr. Malar Balasubramanian, 29, blev fundet i Blue Ash, Ohio, en forstad ca. 15 km nord for Cincinnati liggende på jorden nær vejen i en T-shirt og undertøj i en tilsyneladende stærkt medicineret tilstand.\n"
     ]
    },
    {
     "name": "stderr",
     "output_type": "stream",
     "text": [
      "100%|██████████| 100/100 [05:57<00:00,  3.57s/it]\n",
      "  0%|          | 0/100 [00:00<?, ?it/s]"
     ]
    },
    {
     "name": "stdout",
     "output_type": "stream",
     "text": [
      "translation:   Senere rapporter siger at flyet modtog end bomb trussel og måtte gøre en kvantespring tilbage til Afghanistan, hvorfra det landede i Kandahar.\n",
      "correction:   Senere rapporter sagde så at flyet modtog en bombetrussel og måtte omdirigeres tilbage til Afghanistan, hvor det landede i Kandahar.\n"
     ]
    },
    {
     "name": "stderr",
     "output_type": "stream",
     "text": [
      "  2%|▏         | 2/100 [00:04<03:36,  2.21s/it]"
     ]
    },
    {
     "name": "stdout",
     "output_type": "stream",
     "text": [
      "translation:   Senere rapporterer angiver, at flyet modtog en bombetrussel og blev omdirigeret hjem til Afghanistan, der lander i Kandahar.\n",
      "correction:   Senere rapporterer angav så, at flyet modtog en bombetrussel og blev omdirigeret tilbage til Afghanistan, hvor det landede i Kandahar.\n"
     ]
    },
    {
     "name": "stderr",
     "output_type": "stream",
     "text": [
      "  3%|▎         | 3/100 [00:08<04:35,  2.84s/it]"
     ]
    },
    {
     "name": "stdout",
     "output_type": "stream",
     "text": [
      "translation:   Senere rapporter sagde derefter, at flyet modtog en bombetrussel og blev omdirigeret til Afghanistan, hvor det landede i Kandahar.\n",
      "correction:   Senere rapporter sagde derefter, at flyet modtog en bombetrussel og blev omdirigeret til Afghanistan, hvor det landede i Kandahar.\n"
     ]
    },
    {
     "name": "stderr",
     "output_type": "stream",
     "text": [
      "  4%|▍         | 4/100 [00:12<05:10,  3.23s/it]"
     ]
    },
    {
     "name": "stdout",
     "output_type": "stream",
     "text": [
      "translation:   Senere rapporterer om ændrede de, at flyet var blevet advaret om et muligt bombeanslag og vendte derefter tilbage til Afghanistan og landede i Kandahar.\n",
      "correction:   Senere rapporter sagde så, at flyet var blevet advaret om et muligt bombeangreb og det vendte derefter tilbage til Afghanistan og landede i Kandahar.\n"
     ]
    },
    {
     "name": "stderr",
     "output_type": "stream",
     "text": [
      "  5%|▌         | 5/100 [00:16<05:36,  3.55s/it]"
     ]
    },
    {
     "name": "stdout",
     "output_type": "stream",
     "text": [
      "translation:   Senere rapporterede man om et bombetrussel, hvorefter flyet blev omdirigeret tilbage til Afghanistan og landede i Kandahar.\n",
      "correction:   Senere rapporterede man om en bombetrussel, hvorefter flyet blev omdirigeret tilbage til Afghanistan og landede i Kandahar.\n"
     ]
    },
    {
     "name": "stderr",
     "output_type": "stream",
     "text": [
      "  6%|▌         | 6/100 [00:20<05:46,  3.69s/it]"
     ]
    },
    {
     "name": "stdout",
     "output_type": "stream",
     "text": [
      "translation:   Senere rapporter erklærede, at flyet modtog en bombetrussel og blev omdirigeret tilbage til Afghanistan, landing i Kandahar.\n",
      "correction:   Senere rapporter erklærede, at flyet modtog en bombetrussel og blev omdirigeret tilbage til Afghanistan, hvor det landede i Kandahar.\n"
     ]
    },
    {
     "name": "stderr",
     "output_type": "stream",
     "text": [
      "  7%|▋         | 7/100 [00:24<06:01,  3.89s/it]"
     ]
    },
    {
     "name": "stdout",
     "output_type": "stream",
     "text": [
      "translation:   Efterretninger tilføjede yderligere og sagde senere, at flyet fik en bombe trussel og blev afledt tilbage til Afghanistan, landing i Kandahar.\n",
      "correction:   Efterretninger tilføjede yderligere, at flyet modtog en bombetrussel og blev omdirigeret tilbage til Afghanistan, hvor det landede i Kandahar.\n"
     ]
    },
    {
     "name": "stderr",
     "output_type": "stream",
     "text": [
      "  8%|▊         | 8/100 [00:28<06:00,  3.92s/it]"
     ]
    },
    {
     "name": "stdout",
     "output_type": "stream",
     "text": [
      "translation:   Senere rapporter bekræftede, at flyet modtog en bombetrussel og blev omdirigeret til Afghanistan, hvorefter det landede i Kandahar.\n",
      "correction:   Senere rapporter bekræftede, at flyet modtog en bombetrussel og blev omdirigeret til Afghanistan, hvorefter det landede i Kandahar.\n"
     ]
    },
    {
     "name": "stderr",
     "output_type": "stream",
     "text": [
      "  9%|▉         | 9/100 [00:34<07:10,  4.73s/it]"
     ]
    },
    {
     "name": "stdout",
     "output_type": "stream",
     "text": [
      "translation:   Senere rapporter siger, at flyet modtog en bombetrussel og blev omdirigeret tilbage til Afghanistan, hvor det landede i Kandahar.\n",
      "correction:   Senere rapporter sagde, at flyet modtog en bombetrussel og blev omdirigeret tilbage til Afghanistan, hvor det landede i Kandahar.\n"
     ]
    },
    {
     "name": "stderr",
     "output_type": "stream",
     "text": [
      " 10%|█         | 10/100 [00:39<06:49,  4.55s/it]"
     ]
    },
    {
     "name": "stdout",
     "output_type": "stream",
     "text": [
      "translation:   Senere var der rapporter om, at flyet modtog en bombetruende melding og blev omdirigeret tilbage til Afghanistan, og landede i Kandahar.\n",
      "correction:   Senere var der rapporter om, at flyet modtog en bombetrussel og blev omdirigeret tilbage til Afghanistan, og landede i Kandahar.\n"
     ]
    },
    {
     "name": "stderr",
     "output_type": "stream",
     "text": [
      " 11%|█         | 11/100 [00:43<06:32,  4.41s/it]"
     ]
    },
    {
     "name": "stdout",
     "output_type": "stream",
     "text": [
      "translation:   Bekendtgørelsen kom efter, at Trump havde haft en telefonsamtale med den tyrkiske præsident Recep Tayyip Erdoğan.\n",
      "correction:   Bekendtgørelsen kom efter, at Trump havde haft en telefonsamtale med den tyrkiske præsident Recep Tayyip Erdoğan.\n"
     ]
    },
    {
     "name": "stderr",
     "output_type": "stream",
     "text": [
      " 12%|█▏        | 12/100 [00:48<07:04,  4.83s/it]"
     ]
    },
    {
     "name": "stdout",
     "output_type": "stream",
     "text": [
      "translation:   Udmeldelsen kom, efter Trump havde en telefonsamtale med Tyrkiets præsident, Recep Tayyip Erdoğan.\n",
      "correction:   Udmeldingen kom, efter Trump havde en telefonsamtale med Tyrkiets præsident, Recep Tayyip Erdoğan.\n"
     ]
    },
    {
     "name": "stderr",
     "output_type": "stream",
     "text": [
      " 13%|█▎        | 13/100 [00:53<06:46,  4.67s/it]"
     ]
    },
    {
     "name": "stdout",
     "output_type": "stream",
     "text": [
      "translation:   Bekendtgørelsen blev foretaget, efter at Trump havde en telefonsamtale med Tyrkiets præsident Recep Tayyip Erdoğan.\n",
      "correction:   Bekendtgørelsen blev givet, efter at Trump havde en telefonsamtale med Tyrkiets præsident Recep Tayyip Erdoğan.\n"
     ]
    },
    {
     "name": "stderr",
     "output_type": "stream",
     "text": [
      " 14%|█▍        | 14/100 [00:57<06:28,  4.52s/it]"
     ]
    },
    {
     "name": "stdout",
     "output_type": "stream",
     "text": [
      "translation:   Erklæringen blev fremsat efter, at Trump havde haft en telefonsamtale med Tyrkiets præsident, Recep Tayyip Erdoğan.\n",
      "correction:  Udmeldingen blev givet, efter at Trump havde haft en telefonsamtale med Tyrkiets præsident, Recep Tayyip Erdoğan.\n"
     ]
    },
    {
     "name": "stderr",
     "output_type": "stream",
     "text": [
      " 15%|█▌        | 15/100 [01:02<06:39,  4.70s/it]"
     ]
    },
    {
     "name": "stdout",
     "output_type": "stream",
     "text": [
      "translation:   Meddelelsen kom efter, at Trump havde en telefonsamtale med den tyrkiske præsident Recep Tayyip Erdoğan.\n",
      "correction:   Meddelelsen kom efter, at Trump havde en telefonsamtale med den tyrkiske præsident Recep Tayyip Erdoğan.\n"
     ]
    },
    {
     "name": "stderr",
     "output_type": "stream",
     "text": [
      " 16%|█▌        | 16/100 [01:06<06:24,  4.58s/it]"
     ]
    },
    {
     "name": "stdout",
     "output_type": "stream",
     "text": [
      "translation:   Nyheden blev offentliggjort efter, at Trump havde haft en telefonsamtale med Tyrkiets præsident Recep Tayyip Erdoğan.\n",
      "correction:   Nyheden blev offentliggjort efter, at Trump havde haft en telefonsamtale med Tyrkiets præsident Recep Tayyip Erdoğan.\n"
     ]
    },
    {
     "name": "stderr",
     "output_type": "stream",
     "text": [
      " 17%|█▋        | 17/100 [01:11<06:22,  4.61s/it]"
     ]
    },
    {
     "name": "stdout",
     "output_type": "stream",
     "text": [
      "translation:   Udmeldingen blev foretaget, efter Trump havde en telefonsamtale med Tyrkiets præsident Recep Tayyip Erdoğan.\n",
      "correction:   Udmeldingen blev foretaget, efter Trump havde en telefonsamtale med Tyrkiets præsident Recep Tayyip Erdoğan.\n"
     ]
    },
    {
     "name": "stderr",
     "output_type": "stream",
     "text": [
      " 18%|█▊        | 18/100 [01:16<06:14,  4.57s/it]"
     ]
    },
    {
     "name": "stdout",
     "output_type": "stream",
     "text": [
      "translation:   Budskabet kom, da Trump havde telefonisk kontakt med Tyrkiets præsident Recep Tayyip Erdoğan.\n",
      "correction:   Udmeldingen  kom efter Trump havde telefonisk kontakt med Tyrkiets præsident Recep Tayyip Erdoğan.\n"
     ]
    },
    {
     "name": "stderr",
     "output_type": "stream",
     "text": [
      " 19%|█▉        | 19/100 [01:23<07:23,  5.48s/it]"
     ]
    },
    {
     "name": "stdout",
     "output_type": "stream",
     "text": [
      "translation:   Meddelelsen kom efter, at Trump havde foretaget en telefonisk samtale med Tyrkiets præsident, Recep Tayyip Erdoğan.\n",
      "correction:   Meddelelsen kom efter, at Trump havde foretaget en telefonsamtale med Tyrkiets præsident, Recep Tayyip Erdoğan.\n"
     ]
    },
    {
     "name": "stderr",
     "output_type": "stream",
     "text": [
      " 20%|██        | 20/100 [01:28<07:05,  5.31s/it]"
     ]
    },
    {
     "name": "stdout",
     "output_type": "stream",
     "text": [
      "translation:   Deres termiske ​​adfærd er ikke så stabil som store huler på jorden, der ofte holder en forholdsvis konstant temperatur, men det er konsistent, at hulerne her er dybe huller i jorden\", sagde Glenn Cushing fra USGS Astrogeology Team og fra Northern Arizona University, lokaliseret i Flagstaff, Arizona.\n",
      "correction:   Deres termiske ​​opførsel er ikke så stabil som store huler på jorden, der ofte holder en forholdsvis konstant temperatur, men det passer med at hulerne her er dybe huller i jorden\", sagde Glenn Cushing fra USGS Astrogeology Team og fra Northern Arizona University, Flagstaff, Arizona.\n"
     ]
    },
    {
     "name": "stderr",
     "output_type": "stream",
     "text": [
      " 21%|██        | 21/100 [01:33<06:50,  5.20s/it]"
     ]
    },
    {
     "name": "stdout",
     "output_type": "stream",
     "text": [
      "translation:   Deres termiske adfærd er ikke så stabil som dybe huler på jorden, som ofte har en nogenlunde konstant temperatur, men det er i overensstemmelse med at disse er dybe huller i jorden, sagde Glen Cushing fra den amerikanske Geologiske Undersøgelses (USGS) Astrogeologi Team og fra Northern Arizona University med base i Flagstaff, Arizona.\n",
      "correction:   Deres termiske opførsel er ikke så stabil som dybe huler på jorden, som ofte har en nogenlunde konstant temperatur, men det er i overensstemmelse med at disse er dybe huller i jorden, sagde Glen Cushing fra den amerikanske Geologiske Undersøgelses (USGS) Astrogeologi Team og fra Northern Arizona University, Flagstaff, Arizona.\n"
     ]
    },
    {
     "name": "stderr",
     "output_type": "stream",
     "text": [
      " 22%|██▏       | 22/100 [01:38<06:34,  5.06s/it]"
     ]
    },
    {
     "name": "stdout",
     "output_type": "stream",
     "text": [
      "translation:   Deres termiske adfærd er ikke så fast som på Jordens store huler (cave), som ofte har en forholdsvis konstant temperatur, men det stemmer overens med, at der er tale om dybgrave i jorden,\" sagde Glen Cushing, fra USGS' Astrogeologi-gruppe, og fra Northern Arizona Universitet i Flagstaff, Arizona.\n",
      "correction:  Deres termiske opførsel er ikke så konsistent som i Jordens store huler, som ofte har en forholdsvis konstant temperatur, men det stemmer overens med, at der er tale om dybe huller i jorden,\" sagde Glen Cushing, fra USGS' Astrogeologi-gruppe, og fra Northern Arizona Universitet i Flagstaff, Arizona.\n"
     ]
    },
    {
     "name": "stderr",
     "output_type": "stream",
     "text": [
      " 23%|██▎       | 23/100 [01:42<06:15,  4.88s/it]"
     ]
    },
    {
     "name": "stdout",
     "output_type": "stream",
     "text": [
      "translation:   Deres termiske adfærd er ikke så stabil som de store huler på Jorden, som ofte opretholder en næsten konstant temperatur, men det er konsekvent med, at disse er dybe huller i jorden,\" sagde Glen Cushing fra USGS Astrogeologi Team og fra Northern Arizona University, som ligger i Flagstaff, Arizona.\n",
      "correction:   Deres termiske opførsel er ikke så stabil som de store huler på Jorden, som ofte opretholder en næsten konstant temperatur, men det passer med, at disse er dybe huller i jorden,\" sagde Glen Cushing fra USGS Astrogeologi Team og fra Northern Arizona University, Flagstaff, Arizona.\n"
     ]
    },
    {
     "name": "stderr",
     "output_type": "stream",
     "text": [
      " 24%|██▍       | 24/100 [01:48<06:20,  5.01s/it]"
     ]
    },
    {
     "name": "stdout",
     "output_type": "stream",
     "text": [
      "translation:   Deres termiske adfærd (temperaturudvikling) er ikke så konstant som i store huler på Jorden, som ofte opretholder en rimelig konstant temperatur, men den er i overensstemmelse med, at disse er dybe huller i jorden.\n",
      "correction:  Deres termiske opførsel er ikke så konstant som i store huler på Jorden, som ofte opretholder en rimelig konstant temperatur, men den er i overensstemmelse med, at disse er dybe huller i jorden, sagde Glen Cushing fra USGS Astrogeologi Team og fra Northern Arizona University, Flagstaff, Arizona..\n"
     ]
    },
    {
     "name": "stderr",
     "output_type": "stream",
     "text": [
      " 25%|██▌       | 25/100 [01:51<05:51,  4.69s/it]"
     ]
    },
    {
     "name": "stdout",
     "output_type": "stream",
     "text": [
      "translation:   Temperaturen svinger ikke lige så meget i dem som i store huler på Jorden, men den er i tråd med det, at de har været dybe gruber i jorden,” fortalte Glen Cushing fra USGS Astrogeology Team og Northern Arizona University, som har base i Flagstaff, Arizona.\n",
      "correction:   Temperaturen svinger mere i dem end i store huler på Jorden, men den er i tråd med det, at de er dybe gruber i jorden,” fortalte Glen Cushing fra USGS Astrogeology Team og Northern Arizona University, Flagstaff, Arizona.\n"
     ]
    },
    {
     "name": "stderr",
     "output_type": "stream",
     "text": [
      " 26%|██▌       | 26/100 [01:55<05:26,  4.41s/it]"
     ]
    },
    {
     "name": "stdout",
     "output_type": "stream",
     "text": [
      "translation:   Deres termiske adfærd er ikke så konstant som de store huler på jorden, der ofte opretholder en forholdsvis konstant temperatur, men det er i overensstemmelse med disse er dybe huler i jorden, \"sagde Glen Cushing af den amerikanske Geological Survey (USGS) starfelt team og North Arizona University, der ligger i Flagstaff , Arizona.\n",
      "correction:   Deres termiske opførsel er ikke så konstant som de store huler på jorden, der ofte opretholder en forholdsvis konstant temperatur, men det er i overensstemmelse med at disse er dybe huler i jorden, \"sagde Glen Cushing af den amerikanske Geological Survey (USGS) starfelt team og North Arizona University, Flagstaff , Arizona.\n"
     ]
    },
    {
     "name": "stderr",
     "output_type": "stream",
     "text": [
      " 27%|██▋       | 27/100 [01:59<05:09,  4.24s/it]"
     ]
    },
    {
     "name": "stdout",
     "output_type": "stream",
     "text": [
      "translation:   Den termiske adfærd er ikke så stabil som hulerne på Jorden, som ofte fastholder en næsten konstant temperatur, men det er i overensstemmelse med disse dybhuller i jorden,« siger Glen Cushing fra USGS Astrogeology Team og fra Northern Arizona University beliggende i Flagstaff, Arizona.\n",
      "correction:   De termiske observationer er ikke så stabile som i de store huler på Jorden, som ofte opretholder en næsten konstant temperatur, men det er i overensstemmelse med at disse er dybe huller i jorden,« siger Glen Cushing fra USGS Astrogeology Team og fra Northern Arizona University, Flagstaff, Arizona.\n"
     ]
    },
    {
     "name": "stderr",
     "output_type": "stream",
     "text": [
      " 28%|██▊       | 28/100 [02:03<05:01,  4.18s/it]"
     ]
    },
    {
     "name": "stdout",
     "output_type": "stream",
     "text": [
      "translation:   Den termiske adfærd er ikke så stabil som store huler på Jorden, der ofte opretholder en forholdsvis konstant temperatur, men det er i tråd med dem er dybe huller i jorden,\" sagde Glen Cushing fra de Forenede USA Geologiske Survey (USGS) Astrogeologi Team og på Northern Arizona University beliggende i Flagstaff, Arizona.\n",
      "correction:   Den termiske opførsel er ikke så stabil som store huler på Jorden, der ofte opretholder en forholdsvis konstant temperatur, men det er i tråd med at disse er dybe huller i jorden,\" sagde Glen Cushing fra USA's Geologiske Survey (USGS) Astrogeologi Team og fra Northern Arizona University, Flagstaff, Arizona.\n"
     ]
    },
    {
     "name": "stderr",
     "output_type": "stream",
     "text": [
      " 29%|██▉       | 29/100 [02:07<04:45,  4.02s/it]"
     ]
    },
    {
     "name": "stdout",
     "output_type": "stream",
     "text": [
      "translation:   Deres termiske adfærd er ikke så stabil som store huler på Jorden, som ofte holder en forholdsvis konstant temperatur, men det er i overensstemmelse med disse at være dybe huller i jorden,\" siger Glen Cushing fra USAs Geologiske Undersøgelse (USGS) Astrogeologi Hold og fra Northern Arizona Universitet ligger i Flagstaf, Arizona.\n",
      "correction:   Deres termiske opførsel er ikke så stabil som store huler på Jorden, som ofte holder en forholdsvis konstant temperatur, men det er i overensstemmelse med at disse er dybe huller i jorden,\" siger Glen Cushing fra USAs Geologiske Undersøgelse (USGS) Astrogeologi Team og fra Northern Arizona Universitet, Flagstaf, Arizona.\n"
     ]
    },
    {
     "name": "stderr",
     "output_type": "stream",
     "text": [
      " 30%|███       | 30/100 [02:10<04:35,  3.94s/it]"
     ]
    },
    {
     "name": "stdout",
     "output_type": "stream",
     "text": [
      "translation:   Deres termiske opførsel er ikke så konstant som dybe, store huler på Jorden, som ofte opretholder en forholdsvis konstant temperatur, men de stemmer overens med, at dette er dybe, huler i jorden, sagde Glen Cushing fra USGS’s Astrogeology Team og fra Northern Arizona University i Flagstaff, Arizona.\n",
      "correction:   Deres termiske opførsel er ikke så konstant som dybe, store huler på Jorden, som ofte opretholder en forholdsvis konstant temperatur, men de stemmer overens med, at dette er dybe huler i jorden, sagde Glen Cushing fra USGS’s Astrogeology Team og fra Northern Arizona University i Flagstaff, Arizona.\n"
     ]
    },
    {
     "name": "stderr",
     "output_type": "stream",
     "text": [
      " 31%|███       | 31/100 [02:16<04:55,  4.29s/it]"
     ]
    },
    {
     "name": "stdout",
     "output_type": "stream",
     "text": [
      "translation:   Deres termiske opførsel er ikke så stabil som større huler på Jorden, som ofte opretholder en forholdsvis konstant temperatur, men er i overensstemmelse med disse er dybe huller i jorden, \"sagde Glen Cushing fra United States Geological Survey (USGS) Astrogeology Team og fra Northern Arizona University beliggende i Flagstaff, Arizona.\n",
      "correction:   Deres termiske opførsel er ikke så stabil som større huler på Jorden, som ofte opretholder en forholdsvis konstant temperatur, men er i overensstemmelse med disse er dybe huller i jorden, \"sagde Glen Cushing fra United States Geological Survey (USGS) Astrogeology Team og fra Northern Arizona University, Flagstaff, Arizona.\n"
     ]
    },
    {
     "name": "stderr",
     "output_type": "stream",
     "text": [
      " 32%|███▏      | 32/100 [02:20<04:55,  4.35s/it]"
     ]
    },
    {
     "name": "stdout",
     "output_type": "stream",
     "text": [
      "translation:   Den faste sekretær for Nobelkomiteen for Litteratur ved den Svenske Akademi, Sara Danius, offentliggjorde på mandag under et radioprogram for Sveriges Radio i Sverige på Sveriges Radio, at komiteen, som manglede evne til at rette kontakten til Bob Dylan for at gratulere ham med Nobelprisen i Litteratur for 2016et, havde opgivet forsøgene på at nå ham.\n",
      "correction:   Den permanente sekretær for Nobelkomiteen for Litteratur ved den Svenske Akademi, Sara Danius, offentliggjorde i mandags under et radioprogram for Sveriges Radio, at komiteen, som ikke havde kunnet få kontakt til Bob Dylan for at lykønske ham med Nobelprisen i Litteratur i 2016, havde opgivet forsøgene på at kontakte ham.\n"
     ]
    },
    {
     "name": "stderr",
     "output_type": "stream",
     "text": [
      " 33%|███▎      | 33/100 [02:24<04:47,  4.29s/it]"
     ]
    },
    {
     "name": "stdout",
     "output_type": "stream",
     "text": [
      "translation:   På mandag meddelte Sara Danius, permanent sekretær ved den Svenske Akademis Nobelkomite, offentligt i et radioprogram på Sveriges radio i Sverige, at komiteen, der ikke kunne komme i kontakt med 2016 Nobel-prismodtageren Dylan, opgav at videreføre sine bestræbelser på at nå ham.\n",
      "correction:  I mandags meddelte Sara Danius, permanent sekretær ved den Svenske Akademis Nobelkomite, offentligt i et radioprogram på Sveriges Radio, at komiteen, der ikke kunne komme i kontakt med 2016 Nobel-prismodtageren Bob Dylan, havde opgivet at kontake ham ham.\n"
     ]
    },
    {
     "name": "stderr",
     "output_type": "stream",
     "text": [
      " 34%|███▍      | 34/100 [02:29<04:45,  4.33s/it]"
     ]
    },
    {
     "name": "stdout",
     "output_type": "stream",
     "text": [
      "translation:   MANDAG offentliggjorde Sara Danius, permanent sekretær for Nobelkomiteen for Litteratur ved det svenske Akademi, på en radiosending på Sveriges Radio i Sverige, at Nobelkomiteen for Litteratur, ude af stand til at få fat i Bob Dylan direkte, for at overrække ham Nobelprisen i litteratur for 2016, havde ladet sine anstrengelser for at få fat i ham falde.\n",
      "correction:   MANDAG offentliggjorde Sara Danius, permanent sekretær for Nobelkomiteen for Litteratur ved det Svenske Akademi, i en radioudsendelse på Sveriges Radio, at Nobelkomiteen for Litteratur, der var ude af stand til at få fat i Bob Dylan for at overrække ham Nobelprisen i litteratur for 2016, havde opgivet at kontakte ham.\n"
     ]
    },
    {
     "name": "stderr",
     "output_type": "stream",
     "text": [
      " 35%|███▌      | 35/100 [02:33<04:43,  4.36s/it]"
     ]
    },
    {
     "name": "stdout",
     "output_type": "stream",
     "text": [
      "translation:   Sara Danius, permanent sekretær for Nobelkomiteen for litteratur ved Svenska Akademin, meddelte på et radioprogram af Sveriges Radio i Sverige, at Nobelkomiteen, ude af stand til at nå Bob Dylan direkte angående indsættelsen af Nobelprisen for 2016, havde opgivet at kontakte ham.\n",
      "correction:   Sara Danius, permanent sekretær for Nobelkomiteen for litteratur ved Svenska Akademien, meddelte på et radioprogram af Sveriges Radio, at Nobelkomiteen, der var ude af stand til at kontakte Bob Dylan angående overrækkelsen af Nobelprisen for 2016, havde opgivet at kontakte ham.\n"
     ]
    },
    {
     "name": "stderr",
     "output_type": "stream",
     "text": [
      " 36%|███▌      | 36/100 [02:38<04:40,  4.39s/it]"
     ]
    },
    {
     "name": "stdout",
     "output_type": "stream",
     "text": [
      "translation:   Sara Danius, sekretær permanent i Nobelkomitéen for Litteratur ved Svenska Akademien, offentliggjorde mandag i radioen Sveriges radio, at komitéen, ikke var i stand til at snakke med Bob Dylan vedrørende Nobelprisen i litteratur 2016, havde opgivet sit forsøg på at snakke med ham.\n",
      "correction:   Sara Danius, permanent sekretær i Nobelkomitéen for Litteratur ved Svenska Akademien, offentliggjorde mandag i Sveriges Radio, at komitéen ikke var i stand til at kontakte med Bob Dylan vedrørende Nobelprisen i litteratur 2016, og nu havde opgivet sit forsøg på at komme i kontakt med ham.\n"
     ]
    },
    {
     "name": "stderr",
     "output_type": "stream",
     "text": [
      " 37%|███▋      | 37/100 [02:45<05:28,  5.21s/it]"
     ]
    },
    {
     "name": "stdout",
     "output_type": "stream",
     "text": [
      "translation:   På mandag offentliggjorde Sara Danius, permanent sekretær for Nobelpris-komitéen for litteratur ved den Svenske Akademi, offentligt i et radioprogram på Sveriges Radio i Sverige, at komitéen, der ikke har haft mulighed for at nå Bob Dylan direkte vedrørende hans modtagelse af Nobelprisen i litteratur i 2016, derfor havde opgivet at gøre dette.\n",
      "correction:   Mandag offentliggjorde Sara Danius, permanent sekretær for Nobelpris-komitéen for litteratur ved det Svenske Akademi, offentligt i et radioprogram på Sveriges Radio, at komitéen, der ikke har formået at komme i kontakt med Bob Dylan vedrørende hans modtagelse af Nobelprisen i litteratur i 2016, nu har opgivet dette.\n"
     ]
    },
    {
     "name": "stderr",
     "output_type": "stream",
     "text": [
      " 38%|███▊      | 38/100 [02:49<05:00,  4.85s/it]"
     ]
    },
    {
     "name": "stdout",
     "output_type": "stream",
     "text": [
      "translation:   Mandag annoncerede Sara Danius, permanent sekretær for Nobelkomitéen for Litteratur hos den Svenske Akademi, offentligt i et radioprogram på Sveriges Radio i Sverige, at komitéen, ude af stand til at komme i kontakt med Bob Dylan, opgav at forsøge at kontakte ham.\n",
      "correction:   Mandag annoncerede Sara Danius, permanent sekretær for Nobelkomitéen for Litteratur hos det Svenske Akademi, offentligt i et radioprogram på Sveriges Radio, at komitéen, ude af stand til at komme i kontakt med Bob Dylan, nu opgav at forsøge at kontakte ham.\n"
     ]
    },
    {
     "name": "stderr",
     "output_type": "stream",
     "text": [
      " 39%|███▉      | 39/100 [02:53<04:46,  4.69s/it]"
     ]
    },
    {
     "name": "stdout",
     "output_type": "stream",
     "text": [
      "translation:   Sara Danius, permanent sekretær i Nobelkomiteen for Litteratur hos det Svenske Akademi, bekendtgjorde under et radioprogram på Sveriges Radio i Sverige, at komiteen, der ikke kunne komme i kontakt med Bob Dylan direkte om Nobelprisen i litteratur 2016, havde opgivet at kontakte ham.\n",
      "correction:   Sara Danius, permanent sekretær i Nobelkomiteen for Litteratur hos det Svenske Akademi, bekendtgjorde under et radioprogram på Sveriges Radio, at komiteen, der ikke kunne komme i kontakt med Bob Dylan direkte om Nobelprisen i litteratur 2016, havde opgivet at kontakte ham.\n"
     ]
    },
    {
     "name": "stderr",
     "output_type": "stream",
     "text": [
      " 40%|████      | 40/100 [02:58<04:42,  4.71s/it]"
     ]
    },
    {
     "name": "stdout",
     "output_type": "stream",
     "text": [
      "translation:   Mandag offentliggjorde Sara Danius, permanent sekretær for Nobelpriskomitéen for Litteratur i Svenska Akademien, på Sveriges Radio i Sverige, i et radioprogram, at komitéen, som ikke var i stand til at komme i kontakt med Bob Dylan, havde opgivet forsøget på at genoprette kontakten med ham.\n",
      "correction:   Mandag offentliggjorde Sara Danius, permanent sekretær for Nobelpriskomitéen for Litteratur i Svenska Akademien, på Sveriges Radio, i et radioprogram, at komitéen, som ikke var i stand til at komme i kontakt med Bob Dylan, havde opgivet forsøget på at opnå kontakt til ham.\n"
     ]
    },
    {
     "name": "stderr",
     "output_type": "stream",
     "text": [
      " 41%|████      | 41/100 [03:02<04:28,  4.56s/it]"
     ]
    },
    {
     "name": "stdout",
     "output_type": "stream",
     "text": [
      "translation:   Mandag meddelte Sara Danius, permanent sekretær for Nobelkomitéen for litteratur hos den Svenske Akademien, offentligt i et radioprogram på Sveriges Radio i Sverige, at komitéen, ikke i stand til direkte at få kontakt til Bob Dylan, havde opgivet sit forsøg på at kontakte ham.\n",
      "correction:   Mandag meddelte Sara Danius, permanent sekretær for Nobelkomitéen for litteratur hos det Svenske Akademi, offentligt i et radioprogram på Sveriges Radio, at komitéen, der ikke var i stand til at få kontakt til Bob Dylan, havde opgivet sit forsøg på at kontakte ham.\n"
     ]
    },
    {
     "name": "stderr",
     "output_type": "stream",
     "text": [
      " 42%|████▏     | 42/100 [03:06<04:19,  4.48s/it]"
     ]
    },
    {
     "name": "stdout",
     "output_type": "stream",
     "text": [
      "translation:   Som NSA assisterede Carter i diplomatisk håndtering af verdens anliggender, såsom Camp David-aftalerne i 1978, normaliseringen af forholdet mellem USA og Kina i slutningen af 1970erne; den iranske revolution, der førte til gidselkrisen i Iran i 1979; og den sovjetiske invasion i Afghanistan i 1979.\n",
      "correction:   Som NSA assisterede han Carter i diplomatisk håndtering af verdens anliggender, såsom Camp David-aftalerne i 1978, normaliseringen af forholdet mellem USA og Kina i slutningen af 1970erne; den iranske revolution, der førte til Iran-gidsel-affæren i 1979; og den sovjetiske invasion i Afghanistan i 1979.\n"
     ]
    },
    {
     "name": "stderr",
     "output_type": "stream",
     "text": [
      " 43%|████▎     | 43/100 [03:10<04:06,  4.32s/it]"
     ]
    },
    {
     "name": "stdout",
     "output_type": "stream",
     "text": [
      "translation:   Som NSA, hjalp han Carter med diplomatisk at styre verdenssager, såsom Camp David-aftalerne i 1978; at normalisere relationerne mellem USA og Kina i slutningen af 70erne; den iranske revolution, som led til den iranske gidselsituation i 1979; og den sovjetiske invasion i Afghanistan i 1979.\n",
      "correction:   Som NSA, hjalp han Carter med diplomatisk at styre verdensanliggender, såsom Camp David-aftalerne i 1978; at normalisere relationerne mellem USA og Kina i slutningen af 70erne; den iranske revolution, som førte  til Iran-gidsel-affæren i 1979; og den sovjetiske invasion i Afghanistan i 1979.\n"
     ]
    },
    {
     "name": "stderr",
     "output_type": "stream",
     "text": [
      " 44%|████▍     | 44/100 [03:15<04:02,  4.32s/it]"
     ]
    },
    {
     "name": "stdout",
     "output_type": "stream",
     "text": [
      "translation:   Som NSA, hjalp han Carter i diplomatisk håndteringen af verdens anliggender, såsom forhandlinger i Camp David, 1978; normaliseringen af de amerikanske og kinesiske relationer omkring slutningen af 1970erne; den iranske revolution, som førte til Iransk gidseldrama i 1979; og den sovjetiske invasion i Afghanistan, 1979.\n",
      "correction:   Som NSA, hjalp han Carter i diplomatisk håndteringen af verdens anliggender, såsom forhandlinger i Camp David, 1978; normaliseringen af de amerikanske og kinesiske relationer omkring slutningen af 1970erne; den iranske revolution, som førte til Iran-gidsel-affæren i 1979; og den sovjetiske invasion i Afghanistan, 1979.\n"
     ]
    },
    {
     "name": "stderr",
     "output_type": "stream",
     "text": [
      " 45%|████▌     | 45/100 [03:18<03:47,  4.14s/it]"
     ]
    },
    {
     "name": "stdout",
     "output_type": "stream",
     "text": [
      "translation:   Som NSA samarbejdede han med Carter om at håndtere verdensanliggender diplomatisk, som f.eks. Camp David-aftalen, 1978; om at normalisere USA–Kina forhold i slutningen af 1970'erne; den iranske revolution, som førte til Iran-gisler-situationen i 1979; og den sovjetiske invasion i 1979.\n",
      "correction:   Som NSA samarbejdede han med Carter om at håndtere verdensanliggender diplomatisk, som f.eks. Camp David-aftalen, 1978; om at normalisere USA–Kina forhold i slutningen af 1970'erne; den iranske revolution, som førte til Iran-gidsel-affæren i 1979; og den sovjetiske invasion af Afghanistan i 1979.\n"
     ]
    },
    {
     "name": "stderr",
     "output_type": "stream",
     "text": [
      " 46%|████▌     | 46/100 [03:23<03:47,  4.21s/it]"
     ]
    },
    {
     "name": "stdout",
     "output_type": "stream",
     "text": [
      "translation:   Som NSA, han bistod Carter med håndtering diplomatiske anliggender i verden, såsom Camp David-aftalerne, 1978; at normalisere USA-Kina relationer i slutningen af 1970'erne; den iranske revolution, der førte til Irans gidseldrama, 1979; og den sovjetiske invasion i Afghanistan, 1979.\n",
      "correction:   Som NSA, bistod han Carter med håndtering diplomatiske anliggender i verden, såsom Camp David-aftalen, 1978; at normalisere USA-Kina-relationen i slutningen af 1970'erne; den iranske revolution, der førte til Iran-gidsel-affæren, 1979; og den sovjetiske invasion i Afghanistan, 1979.\n"
     ]
    },
    {
     "name": "stderr",
     "output_type": "stream",
     "text": [
      " 47%|████▋     | 47/100 [03:29<04:18,  4.88s/it]"
     ]
    },
    {
     "name": "stdout",
     "output_type": "stream",
     "text": [
      "translation:   Som NSA, hjalp han Carter med at manipulere diplomatiske forhold i verden, som for eksempel Camp David-aftalen i 1978; med hensyn til at normalisere americanaftale med Kina i slutningen af 1970'erne; den iranske revolution i 1979, som resulterede i Den iranske gidselikrise og en sovjetisk invasion i Afghanistan i 1979.\n",
      "correction:   Som NSA, hjalp han Carter med at håndtere diplomatiske forhold i verden, som for eksempel Camp David-aftalen i 1978; normalisere forholdet mellem  USA og Kina  i slutningen af 1970'erne; den iranske revolution i 1979, som resulterede i Den iranske gidselkrise og den sovjetiske invasion i Afghanistan i 1979.\n"
     ]
    },
    {
     "name": "stderr",
     "output_type": "stream",
     "text": [
      " 48%|████▊     | 48/100 [03:33<04:01,  4.65s/it]"
     ]
    },
    {
     "name": "stdout",
     "output_type": "stream",
     "text": [
      "translation:   Som NSA, bidrog han til Carters diplomatiske håndtering af internationale problemer såsom Camp David-aftalerne fra 1978; normaliseringen af US-China-forbindelser i slutningen af 1970'erne; den iranske revolution, der førte til den iranske gidselkrise fra 1979; og Sovjetunionens invasion af Afghanistan i 1979.\n",
      "correction:   Som NSA, bidrog han til Carters diplomatiske håndtering af internationale problemer såsom Camp David-aftalen i 1978; normaliseringen af US-China-forbindelser i slutningen af 1970'erne; den iranske revolution, der førte til den iranske gidselkrise fra 1979; og Sovjetunionens invasion af Afghanistan i 1979.\n"
     ]
    },
    {
     "name": "stderr",
     "output_type": "stream",
     "text": [
      " 49%|████▉     | 49/100 [03:37<03:43,  4.39s/it]"
     ]
    },
    {
     "name": "stdout",
     "output_type": "stream",
     "text": [
      "translation:   Perry sagde, at han ville \"vende tilbage til Texas for at vurdere resultaterne af aftenens caucus og afgøre, hvorvidt der er en vej frem for mig i dette løb\", men sagde senere, at han ville blive i racet og konkurrere i South Carolina primærvalget den 21. januar.\n",
      "correction:   Perry sagde, at han ville \"vende tilbage til Texas for at vurdere resultaterne af aftenens caucus og afgøre, hvorvidt der er en vej frem for mig i denne valgkamp\", men sagde senere, at han ville fortsætte sin kampagne og stille op i South Carolina primærvalget den 21. januar.\n"
     ]
    },
    {
     "name": "stderr",
     "output_type": "stream",
     "text": [
      " 50%|█████     | 50/100 [03:41<03:37,  4.34s/it]"
     ]
    },
    {
     "name": "stdout",
     "output_type": "stream",
     "text": [
      "translation:   Perry sagde, at han ville \"vende tilbage til Texas for at vurdere resultatet af aftenens caucus, bestemme om der er en vej frem for mig i dette valg og\" senere sagde, at han ville blive og konkurrere i primærvalget i South Carolina den 21. januar.\n",
      "correction:   Perry sagde, at han ville \"vende tilbage til Texas for at vurdere resultatet af aftenens caucus, og se om der er en vej frem for mig i dette valg og\" senere sagde han, at han ville blive og stille op i primærvalget i South Carolina den 21. januar.\n"
     ]
    },
    {
     "name": "stderr",
     "output_type": "stream",
     "text": [
      " 51%|█████     | 51/100 [03:46<03:40,  4.49s/it]"
     ]
    },
    {
     "name": "stdout",
     "output_type": "stream",
     "text": [
      "translation:   Perry sagde, at han ville \"vende tilbage til Texas for at vurdere resultaterne af aftenens caucus, finde ud af, om der er en vej frem for mig til dette løb,\" men han fortalte senere, han ville blive i løbet og konkurrere i den indledende runde i South Carolina den 21 januar.\n",
      "correction:   Perry sagde, at han ville \"vende tilbage til Texas for at vurdere resultaterne af aftenens caucus, finde ud af, om der er en vej frem for mig til denne valgkamp,\" men han fortalte senere, han ville blive i valgkampen og stille op i den indledende runde i South Carolina den 21 januar.\n"
     ]
    },
    {
     "name": "stderr",
     "output_type": "stream",
     "text": [
      " 52%|█████▏    | 52/100 [03:50<03:27,  4.32s/it]"
     ]
    },
    {
     "name": "stdout",
     "output_type": "stream",
     "text": [
      "translation:   Perry udtalte, at han ville \"vende tilbage til Texas for at evaluere resultaterne af aftenens valgmøde, for at finde ud af, om der findes en vej frem for mig i dette valg\", men udtalte senere, at han ville fortsætte i valget og konkurrere i primærvalget i South Carolina den 21. januar).\n",
      "correction:   Perry udtalte, at han ville \"vende tilbage til Texas for at evaluere resultaterne af aftenens valgmøde, for at finde ud af, om der findes en vej frem for mig i dette valg\", men udtalte senere, at han ville fortsætte i valget og gå efter sejren i primærvalget i South Carolina den 21. januar.\n"
     ]
    },
    {
     "name": "stderr",
     "output_type": "stream",
     "text": [
      " 53%|█████▎    | 53/100 [03:54<03:24,  4.35s/it]"
     ]
    },
    {
     "name": "stdout",
     "output_type": "stream",
     "text": [
      "translation:   Perry sagde, at han ville \"vende tilbage til Texas for at vurdere resultaterne af aftenens caucus og fastlægge, om der er en vej for mig selv i dette løb\", men sagdere senere, at han ville blive i løbet og ville deltage i primærvalget den 21. januar i South Carolina.\n",
      "correction:   Perry sagde, at han ville \"vende tilbage til Texas for at vurdere resultaterne af aftenens caucus og beslutte, om der er en vej for mig selv i dette valg\", men sagde senere, at han ville blive i løbet og ville deltage i primærvalget den 21. januar i South Carolina.\n"
     ]
    },
    {
     "name": "stderr",
     "output_type": "stream",
     "text": [
      " 54%|█████▍    | 54/100 [03:59<03:22,  4.41s/it]"
     ]
    },
    {
     "name": "stdout",
     "output_type": "stream",
     "text": [
      "translation:   Perry angav, at han ville \"vende tilbage til Texas for at bedømme resultaterne af natternes caucus, for at fastslå om der er en sti frem for mig i denne valgkamp\", men sagde senere, at han ville blive i løbet og stille op i den 21. januar i Syd Carolina.\n",
      "correction:   Perry angav, at han ville \"vende tilbage til Texas for at bedømme resultaterne af natternes caucus, for at fastslå om der er en vej frem for mig i denne valgkamp\", men sagde senere, at han ville blive i valgkampen og stille op i den 21. januar i South Carolina.\n"
     ]
    },
    {
     "name": "stderr",
     "output_type": "stream",
     "text": [
      " 55%|█████▌    | 55/100 [04:03<03:15,  4.35s/it]"
     ]
    },
    {
     "name": "stdout",
     "output_type": "stream",
     "text": [
      "translation:   Perry erklærede, at han ville \"vende tilbage til Texas for at vurdere resultaterne af tonight's caucus, bestemme om der er en vej fremad for mig i løbet\", men han senere ville forblive i indtrækningen og konkurrere i den South Carolina primær den 21. januar.\n",
      "correction:   Perry erklærede, at han ville \"vende tilbage til Texas for at vurdere resultaterne af aftenens caucus, bestemme om der er en vej fremad for mig i valgkampen\", men han sagde senere ville forblive i valgkampen og stille op i  South Carolina primærvalg den 21. januar.\n"
     ]
    },
    {
     "name": "stderr",
     "output_type": "stream",
     "text": [
      " 56%|█████▌    | 56/100 [04:08<03:20,  4.55s/it]"
     ]
    },
    {
     "name": "stdout",
     "output_type": "stream",
     "text": [
      "translation:   Perry meddelte, at han ville \"komme tilbage til Texas for at evaluere resultaterne af aftenens caucus, afgøre, om der var er en mulig sti for mig i denne valgkamp\", men senere meddelte at han ville blive i valgkampen og konkurrere i den 21. januars primærvalg i South Carolina.\n",
      "correction:   Perry meddelte, at han ville \"tage tilbage til Texas for at evaluere resultaterne af aftenens caucus, afgøre om der var er en mulig vej frem for mig i denne valgkamp\", men senere meddelte at han ville blive i valgkampen om primærvalget i South Carolina d. 21. januar.\n"
     ]
    },
    {
     "name": "stderr",
     "output_type": "stream",
     "text": [
      " 57%|█████▋    | 57/100 [04:16<03:52,  5.41s/it]"
     ]
    },
    {
     "name": "stdout",
     "output_type": "stream",
     "text": [
      "translation:   Perry sagde at hun ville \"returne to Texas to assess te outcomes of tonight's caucus, determine whether there is a path forward for myself in this race\", men senere sagde hun at hun ville blive i konkurrencen og deltage i den Syd Carolina vælgerkonvent den 21 januar.\n",
      "correction:   Perry sagde at han ville \"tage tilbage til Texas for at evaluere resultaterne af aftenens caucus, afgøre om der var er en mulig vej frem for mig i denne valgkamp\", men senere sagde han at han ville blive i valgkampen og deltage i primærvalget i South Carolina d. 21 januar.\n"
     ]
    },
    {
     "name": "stderr",
     "output_type": "stream",
     "text": [
      " 58%|█████▊    | 58/100 [04:20<03:32,  5.06s/it]"
     ]
    },
    {
     "name": "stdout",
     "output_type": "stream",
     "text": [
      "translation:   Perry oplyste, at han ville \"vende tilbage til Texas for at vurdere resultaterne fra aftenens caucus, bestemme hvorvidt der er en fremgangsmåde for mig i dette løb, men har senere udtalt, at han ville blive i løbet og ville deltage i primærvalget i South Carolina den 21 januar.\n",
      "correction:   Perry oplyste, at han ville \"vende tilbage til Texas for at vurdere resultaterne fra aftenens caucus, bestemme hvorvidt der er en fremtid for mig i denne valgkamp, men har senere udtalt, at han ville blive i kampen deltage i primærvalget i South Carolina den 21 januar.\n"
     ]
    },
    {
     "name": "stderr",
     "output_type": "stream",
     "text": [
      " 59%|█████▉    | 59/100 [04:25<03:30,  5.13s/it]"
     ]
    },
    {
     "name": "stdout",
     "output_type": "stream",
     "text": [
      "translation:   Siden da det føderale styre har grebet ind for at overtage finansieringen af Mersey hospitalet i Devonport, Tasmanien, har delstatsstaten Australien og nogle føderale medlemmer af parlamentet hævdet, at det er en gennemført stunt i begyndelsen på en planlagt zvezds-kampagne til valget til Repræsentanternes Hus, som afholdes i november.\n",
      "correction:   Siden det føderale styre greb ind for at overtage finansieringen af Mersey Hospitalet i Devonport, Tasmanien, har delstatsstaten og nogle parlamentetsmedlemmer hævdet, at det er et gennemført stunt inden valget til Repræsentanternes Hus, som afholdes i november.\n"
     ]
    },
    {
     "name": "stderr",
     "output_type": "stream",
     "text": [
      " 60%|██████    | 60/100 [04:30<03:18,  4.96s/it]"
     ]
    },
    {
     "name": "stdout",
     "output_type": "stream",
     "text": [
      "translation:   Siden den føderale regering trådte ind for at overtage finansieringen af Mersey hospitalet i Devonport, Tasmanien, har delstatsregeringen og enkelte fællesrepræsentanter kritiseret denne handling som et stunt i prelude til det føderale valg til at blive indkaldt til november.\n",
      "correction:   Siden den føderale regering trådte ind for at overtage finansieringen af Mersey-hospitalet i Devonport, Tasmanien, har delstatsregeringen og enkelte parlamentsmedlemmer kritiseret denne handling som et stunt i optakten til det føderale valg i november.\n"
     ]
    },
    {
     "name": "stderr",
     "output_type": "stream",
     "text": [
      " 61%|██████    | 61/100 [04:34<03:05,  4.77s/it]"
     ]
    },
    {
     "name": "stdout",
     "output_type": "stream",
     "text": [
      "translation:   Siden forbundsregeringen trådte til og overtog statens fortsatte støtte til Mersey Hospital i Devonport i Tasmanien, har delstatsregeringen og nogle føderale parlamentsmedlemmer kritiseret denne handling som en slags stunt i optakten til det føderale valg, der skal afholdes inden november.\n",
      "correction:   Siden forbundsregeringen trådte til og overtog statens fortsatte støtte til Mersey Hospital i Devonport i Tasmanien, har delstatsregeringen og nogle føderale parlamentsmedlemmer kritiseret denne handling som en slags stunt i optakten til det føderale valg, der skal afholdes inden november.\n"
     ]
    },
    {
     "name": "stderr",
     "output_type": "stream",
     "text": [
      " 62%|██████▏   | 62/100 [04:39<03:00,  4.74s/it]"
     ]
    },
    {
     "name": "stdout",
     "output_type": "stream",
     "text": [
      "translation:   Siden den føderale regering trådte til for at overtage finansieringen af Mersey hospitalet i Devonport, Tasmanien, har delstatsregeringen og nogle føderale medlemmer af parlamentet kritiseret denne handling som en del af peronævnelsen til de føderale valg, der vil blive afholdt inden november.\n",
      "correction:   Siden den føderale regering trådte til for at overtage finansieringen af Mersey Hospitalet i Devonport, Tasmanien, har delstatsregeringen og nogle føderale medlemmer af parlamentet kritiseret denne handling som et stunt inden de føderale valg, der vil blive afholdt inden november.\n"
     ]
    },
    {
     "name": "stderr",
     "output_type": "stream",
     "text": [
      " 63%|██████▎   | 63/100 [04:43<02:46,  4.51s/it]"
     ]
    },
    {
     "name": "stdout",
     "output_type": "stream",
     "text": [
      "translation:   Siden den føderale regering overtog finansieringen af Mersey sygehuset i Devonport, Tasmanien, har delstatens regering og nogle føderale lovgivere været ude og stramme munden med kritik af dette stunt som en bebuden aktion i forspillet til et valg til november.\n",
      "correction:   Siden den føderale regering overtog finansieringen af Mersey sygehuset i Devonport, Tasmanien, har delstatens regering og nogle føderale lovgivere været ude med kritik af dette stunt som et forspil til et valg til november.\n"
     ]
    },
    {
     "name": "stderr",
     "output_type": "stream",
     "text": [
      " 64%|██████▍   | 64/100 [04:47<02:36,  4.35s/it]"
     ]
    },
    {
     "name": "stdout",
     "output_type": "stream",
     "text": [
      "translation:   Siden den føderale regering trådte til for at overtage finansieringen af Mersey hospitalet i Devonport, Tasmanien, har delstatsregeringen og nogle af føderale parlamentsmedlemmer kritiseret denne handling som et statmandstrick foran den føderalvalg, der skal finde sted i november.\n",
      "correction:   Siden den føderale regering trådte til for at overtage finansieringen af Mersey hospitalet i Devonport, Tasmanien, har delstatsregeringen og nogle af føderale parlamentsmedlemmer kritiseret denne handling som et stunt foran den føderalvalg, der skal finde sted i november.\n"
     ]
    },
    {
     "name": "stderr",
     "output_type": "stream",
     "text": [
      " 65%|██████▌   | 65/100 [04:51<02:34,  4.41s/it]"
     ]
    },
    {
     "name": "stdout",
     "output_type": "stream",
     "text": [
      "translation:   Siden den føderale regering trådte til for at overtage finansieringen af ​​Mersey hospitalet i Devonport, Tasmania, har delstatsregeringen og nogle føderale medlemmer af parlamentet kritiseret denne handling som et stunt for at vise flaget i indledningen til det føderale valg til at blive kaldt inden november.\n",
      "correction:   Siden den føderale regering trådte til for at overtage finansieringen af ​​Mersey hospitalet i Devonport, Tasmania, har delstatsregeringen og nogle føderale medlemmer af parlamentet kritiseret denne handling som et stunt for at vise flaget inden det føderale valg, der skal udskrives inden november.\n"
     ]
    },
    {
     "name": "stderr",
     "output_type": "stream",
     "text": [
      " 66%|██████▌   | 66/100 [04:55<02:23,  4.22s/it]"
     ]
    },
    {
     "name": "stdout",
     "output_type": "stream",
     "text": [
      "translation:   Siden forbundsregeringen trådte til for at overtage finansieringen af Mersey-hospitalet i Devonport, Tasmanien, har delstatsregeringen og nogle føderale parlamentsmedlemmer kritiseret denne handling som et stunt i overdækket til forbundsvalget bliver er det kan det.\n",
      "correction:   Siden forbundsregeringen trådte til for at overtage finansieringen af Mersey-hospitalet i Devonport, Tasmanien, har delstatsregeringen og nogle føderale parlamentsmedlemmer kritiseret denne handling som et stunt inden det føderale valg, der skal udskrives inden november.\n"
     ]
    },
    {
     "name": "stderr",
     "output_type": "stream",
     "text": [
      " 67%|██████▋   | 67/100 [04:59<02:18,  4.19s/it]"
     ]
    },
    {
     "name": "stdout",
     "output_type": "stream",
     "text": [
      "translation:   Siden det føderale regering siden er trådte i at overtage finansiering af Mersey hospitalet i Devonport, Tasmanien, har delstatsregeringen og nogle føderale parlamentsmedlemmer kritiseret dette som et stunt i overblikket over den føderale valg, der skal kaldes af november.\n",
      "correction:  Lige siden det føderale regering trådte til for at overtage finansiering af Mersey Hospitalet i Devonport, Tasmanien, har delstatsregeringen og nogle føderale parlamentsmedlemmer kritiseret dette som et stunt i kølvandet på det  føderale valg, der skal udskrives inden november.\n"
     ]
    },
    {
     "name": "stderr",
     "output_type": "stream",
     "text": [
      " 68%|██████▊   | 68/100 [05:03<02:14,  4.19s/it]"
     ]
    },
    {
     "name": "stdout",
     "output_type": "stream",
     "text": [
      "translation:   Siden den føderale regering trådte til for at overtage finansieringen af Mersey-hospitalet i Devonport Tasmanien, har delstatsregeringen og nogle føderale parlamentariske repræsentanter kritiseret dette som en manøvre for at aflede opmærksomhed frem mod det føderale valg, der skal afholdes inden november.\n",
      "correction:   Siden den føderale regering trådte til for at overtage finansieringen af Mersey-hospitalet i Devonport Tasmanien, har delstatsregeringen og nogle føderale parlamentariske repræsentanter kritiseret dette som en manøvre for at aflede opmærksomhed frem mod det føderale valg, der skal afholdes inden november.\n"
     ]
    },
    {
     "name": "stderr",
     "output_type": "stream",
     "text": [
      " 69%|██████▉   | 69/100 [05:08<02:16,  4.41s/it]"
     ]
    },
    {
     "name": "stdout",
     "output_type": "stream",
     "text": [
      "translation:   American Gymnastik bakket en uafhængig undersøgelse, som kan sætte lys over, hvordan misbrug af de forhold, der er beskrevet så modigt af ofrene for Larry Nassar kan have gået ubemærket for så længe og omfavne ethvert nødvendigt og passende ændringer.\n",
      "correction:   USA Gymnastics bakker op en uafhængig undersøgelse, som kan kaste lys over, hvordan misbrug i den størrelsesorden, der er beskrevet så modigt af Larry Nassars ofre, kan være gået ubemærket hen så længe, og de hilser ethver nødvendig og passende ændring velkommen.\n"
     ]
    },
    {
     "name": "stderr",
     "output_type": "stream",
     "text": [
      " 70%|███████   | 70/100 [05:12<02:10,  4.35s/it]"
     ]
    },
    {
     "name": "stdout",
     "output_type": "stream",
     "text": [
      "translation:   US Gymnastik støtter en uafhængig undersøgelse, der kan kaste lys over, hvordan misbrug af arrangementet, som anskueliggjort så modigt af ofrene for Larry Nassar, kunne gå uopdaget i så lang tid og er indstillede på, at nødvendige og passende ændringer sker.\n",
      "correction:   USA Gymnastics støtter en uafhængig undersøgelse, der kan kaste lys over, hvordan misbrug i den skala, som er anskueliggjort så modigt af Larry Nassars ofre, kunne gå uopdaget i så lang tid og de er indstillede på nødvendige og passende ændringer.\n"
     ]
    },
    {
     "name": "stderr",
     "output_type": "stream",
     "text": [
      " 71%|███████   | 71/100 [05:16<02:02,  4.23s/it]"
     ]
    },
    {
     "name": "stdout",
     "output_type": "stream",
     "text": [
      "translation:   USA Gymnastik lægger vægt på en uafhængig efterforskning, som måske kan kaste lys over, hvordan de voldshandlinger, der blev nedtegnet så modigt af overleverne fra Larry Nassars misbrug, kunne være undsluppet afsløring så længe, og accepterer alle nødvendige og passende ændringer.\n",
      "correction:   USA Gymnastics lægger vægt på en uafhængig efterforskning, som måske kan kaste lys over, hvordan de voldshandlinger, der blev så modigt beskrevet af overleverne fra Larry Nassars misbrug, kunne gå under radaren så længe, og de accepterer alle nødvendige og passende ændringer.\n"
     ]
    },
    {
     "name": "stderr",
     "output_type": "stream",
     "text": [
      " 72%|███████▏  | 72/100 [05:21<01:59,  4.26s/it]"
     ]
    },
    {
     "name": "stdout",
     "output_type": "stream",
     "text": [
      "translation:   USA Gymnastik støtter en uafhængig undersøgelse, der kan kaste lys over, hvordan misbrug af den proportionalitet, beskrevet så modigt af ofrene for Larry Nassar kunne have gået uanmeldt så længe, og overgiver sig til enhver nødvendige og passende ændringer.\n",
      "correction:   USA Gymnastics støtter en uafhængig undersøgelse, der kan kaste lys over, hvordan misbrug i de proportioner, beskrevet så modigt af Larry Nassars ofre, kunne have gået upåagtet hen så længe, og de overgiver sig til alle nødvendige og passende ændringer.\n"
     ]
    },
    {
     "name": "stderr",
     "output_type": "stream",
     "text": [
      " 73%|███████▎  | 73/100 [05:25<01:55,  4.27s/it]"
     ]
    },
    {
     "name": "stdout",
     "output_type": "stream",
     "text": [
      "translation:   USA Gymnastics støtter en uafhængig undersøgelse, der kan bringe lys over, hvordan misbrug af procentdelen beskrevet så modigt af overleverne af Larry Nassar, kunne have gået uopdaget så længe, og omfavner eventuelle nødvendige og passende forandringer.\n",
      "correction:   USA Gymnastics støtter en uafhængig undersøgelse, der kan kaste lys over, hvordan misbrug i den størrelsesorden, der er beskrevet så modigt af Larry Nassars ofre, kunne have gået uopdaget så længe, og de omfavner eventuelle nødvendige og passende forandringer.\n"
     ]
    },
    {
     "name": "stderr",
     "output_type": "stream",
     "text": [
      " 74%|███████▍  | 74/100 [05:29<01:47,  4.15s/it]"
     ]
    },
    {
     "name": "stdout",
     "output_type": "stream",
     "text": [
      "translation:   USA Gymnastik støtter en uafhængig undersøgelse som kan kaste lys over, at overgreb af den af ofrene for Larry Nassar skildrede ret hurtige form kunne være gået ustraffede i så lang tid og støtter alle nødvendige og passende forandringer\n",
      "correction:   USA Gymnastics bakker op om en uafhængig undersøgelse som kan kaste lys over, hvordan overgreb, i det omfang som Larry Nassars ofre skildrede, kunne gå ustraffede i så lang tid og de støtter alle nødvendige og passende forandringer\n"
     ]
    },
    {
     "name": "stderr",
     "output_type": "stream",
     "text": [
      " 75%|███████▌  | 75/100 [05:33<01:40,  4.00s/it]"
     ]
    },
    {
     "name": "stdout",
     "output_type": "stream",
     "text": [
      "translation:   USA Gymnastik støtter en uafhængig undersøgelse, som kan give lys på, hvordan en efterfølgende af det proportioner, som så modigt er blevet beskrevet af ofrene for Larry Nassar kunne være gået ubemærket hen i så lang tid, og omfavner enhver nødvendig og passende ændringer.\n",
      "correction:   USA Gymnastics støtter en uafhængig undersøgelse, som kan kaste lys over, hvordan en forbrydelse af de proportioner, som så modigt er blevet beskrevet af Larry Nassars ofre kunne være gået ubemærket hen i så lang tid, og de imødeser alle nødvendige og passende ændringer.\n"
     ]
    },
    {
     "name": "stderr",
     "output_type": "stream",
     "text": [
      " 76%|███████▌  | 76/100 [05:37<01:36,  4.02s/it]"
     ]
    },
    {
     "name": "stdout",
     "output_type": "stream",
     "text": [
      "translation:   USA Gymnastik støtter en uafhængig undersøgelse, som kan kaste lys over, hvordan misbruget af den proportioner af dimensionerne kan have undgået opdagelse og omfavner alle nødvendige og passende ændringer.\n",
      "correction:   USA Gymnastics støtter en uafhængig undersøgelse, som kan kaste lys over, hvordan misbrug af de beskrevne dimensioner kan have undgået at blive opdaget, og de imødeser alle nødvendige og passende ændringer.\n"
     ]
    },
    {
     "name": "stderr",
     "output_type": "stream",
     "text": [
      " 77%|███████▋  | 77/100 [05:43<01:50,  4.79s/it]"
     ]
    },
    {
     "name": "stdout",
     "output_type": "stream",
     "text": [
      "translation:   USA Gymnastik støtter en uafhængig undersøgelse, som måske vil kaste lys over, hvordan misbrug inden for de proportioner beskrevet så modigt af ofrene for Larry Nassar kunne have forgået i så lang tid, og går ind for alle nødvendige og passende ændringer.\n",
      "correction:   USA Gymnastics støtter en uafhængig undersøgelse, som måske vil kaste lys over, hvordan misbrug af de proportioner beskrevet så modigt af Larry Nassars ofre kunne have forgået i så lang tid, og går ind for alle nødvendige og passende ændringer.\n"
     ]
    },
    {
     "name": "stderr",
     "output_type": "stream",
     "text": [
      " 78%|███████▊  | 78/100 [05:48<01:44,  4.75s/it]"
     ]
    },
    {
     "name": "stdout",
     "output_type": "stream",
     "text": [
      "translation:   Fjerstrukturen tyder på, at de ikke blev brugt til flyvning, men for regulering af temperaturen eller udseendet. Forskerne foreslog, at selv om dette er halen fra en ung dinosaur, viser prøven voksen fjerdragt og ikke en kyllingsensdown.\n",
      "correction:   Fjerstrukturen tyder på, at de ikke blev brugt til flyvning, men til regulering af temperaturen eller pga. udseendet. Forskerne mente, at selv om dette er halen fra en ung dinosaur, viser prøven voksen fjerdragt og ikke dun from en unge.\n"
     ]
    },
    {
     "name": "stderr",
     "output_type": "stream",
     "text": [
      " 79%|███████▉  | 79/100 [05:52<01:38,  4.69s/it]"
     ]
    },
    {
     "name": "stdout",
     "output_type": "stream",
     "text": [
      "translation:   Fjerenes struktur hentyder til, at de ikke er blevet benyttet under flugten, men derimod til kropstemperaturregulering eller udstilling. Forskerne foreslog, at selvom dette er halen på en ung dinosaur, viser prøven voksen håndpuld og ikke unge totter.\n",
      "correction:   Fjerenes struktur tyder på, at de ikke er blevet benyttet til flyvning, men derimod til regulering af kropstemperaturen eller til pynt. Forskerne sagde, at selvom dette er halen på en ung dinosaur, viser prøven voksen fjerdragt og ikke en unges dun.\n"
     ]
    },
    {
     "name": "stderr",
     "output_type": "stream",
     "text": [
      " 80%|████████  | 80/100 [05:57<01:32,  4.62s/it]"
     ]
    },
    {
     "name": "stdout",
     "output_type": "stream",
     "text": [
      "translation:   Fjerstrukturerne antyder, at de ikke var i brug under flyvningen, men snarere til temperaturregulering eller visning. Forskerne foreslog, at selv om dette er halen på en ung dinosaur, så viser prøven voksen fjerdragt og ikke en kyllings dun.\n",
      "correction:   Fjerstrukturerne antyder, at de ikke var i brug under flyvningen, men snarere til temperaturregulering eller pynt. Forskerne foreslog, at selv om dette er halen på en ung dinosaur, så viser prøven voksen fjerdragt og ikke en unges dun.\n"
     ]
    },
    {
     "name": "stderr",
     "output_type": "stream",
     "text": [
      " 81%|████████  | 81/100 [06:01<01:26,  4.53s/it]"
     ]
    },
    {
     "name": "stdout",
     "output_type": "stream",
     "text": [
      "translation:   Strukturen på fjerene tyder på, at de ikke blev brugt i flyvning, men snarere til regulering af temperaturen eller fremvisning. Forskerne foreslog, at selv om dette er halen på en ung dinosaur, viser prøven voksenfjær, ikke en uges fjer.\n",
      "correction:   Strukturen på fjerene tyder på, at de ikke blev brugt til flyvning, men snarere til regulering af temperaturen eller pynt. Forskerne udtalte, at selv om dette er halen på en ung dinosaur, viser prøven voksenfjer, ikke en unges fjer.\n"
     ]
    },
    {
     "name": "stderr",
     "output_type": "stream",
     "text": [
      " 82%|████████▏ | 82/100 [06:06<01:21,  4.53s/it]"
     ]
    },
    {
     "name": "stdout",
     "output_type": "stream",
     "text": [
      "translation:   Fjerstrukturens design antyder, at de ikke blev brugt under flyvning, men snarere til at regulere temperaturen eller som standere. Forskerne foreslog, at selv om dette er en unge fra en ung dinosaur, inkluderer prøven voksen fjerdragt og ikke en yngles fjer.\n",
      "correction:   Fjerstrukturens design antyder, at de ikke blev brugt til flyvning, men snarere til at regulere temperaturen eller for udseendets skyld. Forskerne mente, at selv om det er halen fra en ung dinosaur, viser prøven voksen fjerdragt og ikke en unges fjer.\n"
     ]
    },
    {
     "name": "stderr",
     "output_type": "stream",
     "text": [
      " 83%|████████▎ | 83/100 [06:10<01:15,  4.43s/it]"
     ]
    },
    {
     "name": "stdout",
     "output_type": "stream",
     "text": [
      "translation:   Undersøgelsen af fjerenes struktur antyder, at de ikke blev brugt i flugten, men snarere til temperaturregulering eller visning. Forskerne foreslog, at selvom dette er halen på en ung dinosaur, viser prøven voksen fjerdragt frem for en ungefugl.\n",
      "correction:   Undersøgelsen af fjerenes struktur antyder, at de ikke blev brugt til at flyve med, men snarere til temperaturregulering eller pynt. Forskerne udtalte, at selvom dette er halen på en ung dinosaur, viser prøven voksen fjerdragt frem for dunene fra en ungfugl.\n"
     ]
    },
    {
     "name": "stderr",
     "output_type": "stream",
     "text": [
      " 84%|████████▍ | 84/100 [06:15<01:12,  4.55s/it]"
     ]
    },
    {
     "name": "stdout",
     "output_type": "stream",
     "text": [
      "translation:   Fjerenes struktur tyder på, at den ikke var brugt i flyvning, men snarere for temperaturregulering eller visning. Forskerne foreslog, at selv om dette er halen på en ung dinosaur, viser prøven voksen fældning og ikke en babys fjer.\n",
      "correction:   Fjerenes struktur tyder på, at de ikke var brugt i flyvning, men snarere til temperaturregulering eller pynt. Forskerne sagde, at selv om dette er halen på en ung dinosaur, viser prøven voksenfjer og ikke dun fra en unge.\n"
     ]
    },
    {
     "name": "stderr",
     "output_type": "stream",
     "text": [
      " 85%|████████▌ | 85/100 [06:19<01:06,  4.44s/it]"
     ]
    },
    {
     "name": "stdout",
     "output_type": "stream",
     "text": [
      "translation:   Fjerenes struktur antyder, at de ikke var i brug til at flyve med, men snarere til regulering af temperaturen eller visning. Forskerne antog, at selv om det her er halen af en ung dinosaur, så viste prøven voksenplumage og ikke en kyllings udstødte.\n",
      "correction:   Fjerenes struktur antyder, at de ikke var i brug til at flyve med, men snarere til regulering af temperaturen eller pynt. Forskerne har udtalt, at selv om det her er halen af en ung dinosaur, så viste prøven voksenfjerdragt og ikke en unges dun.\n"
     ]
    },
    {
     "name": "stderr",
     "output_type": "stream",
     "text": [
      " 86%|████████▌ | 86/100 [06:23<01:00,  4.30s/it]"
     ]
    },
    {
     "name": "stdout",
     "output_type": "stream",
     "text": [
      "translation:   Fjers struktur tyder på, at de ikke blev brugt i flyveprocessen, men snarere til regulering af temperaturen og fremtrædning. Forskerne foreslog, at selvom det er ryggen af en ung dinosaurus, viser prøverne også voksen fjerdragt og ikke en kyllings.\n",
      "correction:   Fjerenes struktur tyder på, at de ikke blev brugt til at flyve med, men snarere til regulering af temperaturen og pynt. Forskerne udtalte, at selvom det er halen af en ung dinosaurus, viser prøverne en voksen fjerdragt og ikke en unges.\n"
     ]
    },
    {
     "name": "stderr",
     "output_type": "stream",
     "text": [
      " 87%|████████▋ | 87/100 [06:27<00:54,  4.23s/it]"
     ]
    },
    {
     "name": "stdout",
     "output_type": "stream",
     "text": [
      "translation:   Fjerstrukturen antyder, at de ikke blev brugt i flyvning, men snarere til temperaturregulering eller fremvisning. Forskerne foreslog, at selv om det er halen på et ungt dyr, så viser prøven voksen fjerdragt og ikke en babys dun.\n",
      "correction:   Fjerstrukturen antyder, at de ikke blev brugt til flyvning, men snarere til temperaturregulering eller pynt. Forskerne foreslog, at selv om det er halen på et ungt dyr, så viser prøven voksen fjerdragt og ikke en unges dun.\n"
     ]
    },
    {
     "name": "stderr",
     "output_type": "stream",
     "text": [
      " 88%|████████▊ | 88/100 [06:31<00:48,  4.04s/it]"
     ]
    },
    {
     "name": "stdout",
     "output_type": "stream",
     "text": [
      "translation:   Dr. Balasubramanian, 29, blev fundet i Blue Ash, Ohio, en forstad til Cincinnati, ca. 15 miles nord for Cincinnati, på jorden ved siden af vejen i en T-shirt og undertøj i tilsyneladende alvorlig medicinering.\n",
      "correction:   Dr. Balasubramanian, 29, blev fundet i Blue Ash, Ohio, en forstad ca. 15 miles nord for Cincinnati, på jorden ved siden af vejen i en T-shirt og undertøj i tilsyneladende stærkt medicineret tilstand.\n"
     ]
    },
    {
     "name": "stderr",
     "output_type": "stream",
     "text": [
      " 89%|████████▉ | 89/100 [06:35<00:45,  4.14s/it]"
     ]
    },
    {
     "name": "stdout",
     "output_type": "stream",
     "text": [
      "translation:   Dr. Malar Balasubramanian, 29 år, blev fundet i Blue Ash, Ohio, en forstad cirka 15 kilometer nord for Cincinnati, liggende på jorden ved vejen i en T-shirt og undertøj i en tilsyneladende kraftigt medicineret tilstand.\n",
      "correction:   Dr. Malar Balasubramanian, 29 år, blev fundet i Blue Ash, Ohio, en forstad cirka 15 mil nord for Cincinnati, liggende på jorden ved vejen i en T-shirt og undertøj i en tilsyneladende kraftigt medicineret tilstand.\n"
     ]
    },
    {
     "name": "stderr",
     "output_type": "stream",
     "text": [
      " 90%|█████████ | 90/100 [06:41<00:48,  4.86s/it]"
     ]
    },
    {
     "name": "stdout",
     "output_type": "stream",
     "text": [
      "translation:   Dr. Malar Balasubramanian, 29, blev fundet i Blue Ash, Ohio, en forstad ca. 15 km nord for Cincinnati på jorden ved siden af ​​vejen i en t-shirt og undertøj tilsyneladende i en højt medicin tilstand.\n",
      "correction:   Dr. Malar Balasubramanian, 29, blev fundet i Blue Ash, Ohio, en forstad ca. 15 mil nord for Cincinnati, på jorden ved siden af ​​vejen i en t-shirt og undertøj tilsyneladende stærkt medicineret.\n"
     ]
    },
    {
     "name": "stderr",
     "output_type": "stream",
     "text": [
      " 91%|█████████ | 91/100 [06:45<00:40,  4.54s/it]"
     ]
    },
    {
     "name": "stdout",
     "output_type": "stream",
     "text": [
      "translation:   Dr. Malar Balasubramanian, 29, blev fundet i Blue Ash, Ohio, en forstad ca. 15 km nord for Cincinnati liggende på jorden ved siden af vejen i en T-shirt og undertøj i en tilsyneladende stærkt medicineret tilstand.\n",
      "correction:   Dr. Malar Balasubramanian, 29, blev fundet i Blue Ash, Ohio, en forstad ca. 15 mil nord for Cincinnati, liggende på jorden ved siden af vejen i en T-shirt og undertøj i en tilsyneladende stærkt medicineret tilstand.\n"
     ]
    },
    {
     "name": "stderr",
     "output_type": "stream",
     "text": [
      " 92%|█████████▏| 92/100 [06:50<00:35,  4.50s/it]"
     ]
    },
    {
     "name": "stdout",
     "output_type": "stream",
     "text": [
      "translation:   Dr. Malar Balasubramaniam, 29, blev fundet i Blue Ash, Ohio, en forstad ca. 15 mil nord for Cincinnati, liggende på jorden ved siden af vejen i T-shirt og undertøj i en tilsyneladende kraftigt medicineret tilstand.\n",
      "correction:   Dr. Malar Balasubramaniam, 29, blev fundet i Blue Ash, Ohio, en forstad ca. 15 mil nord for Cincinnati, liggende på jorden ved siden af vejen i T-shirt og undertøj i en tilsyneladende kraftigt medicineret tilstand.\n"
     ]
    },
    {
     "name": "stderr",
     "output_type": "stream",
     "text": [
      " 93%|█████████▎| 93/100 [06:54<00:30,  4.36s/it]"
     ]
    },
    {
     "name": "stdout",
     "output_type": "stream",
     "text": [
      "translation:   Dr. Malar Balasubramanian blev fundet i Blue Ash, Ohio, et nabolag 15 miles nord for Cincinnati, liggende på jorden ved siden af vejen i en T-shirt og underbukser i en tilsyneladende kraftigt medicineret tilstand.\n",
      "correction:   Dr. Malar Balasubramanian blev fundet i Blue Ash, Ohio, en forstad 15 mil nord for Cincinnati, liggende på jorden ved siden af vejen i en T-shirt og underbukser i en tilsyneladende kraftigt medicineret tilstand.\n"
     ]
    },
    {
     "name": "stderr",
     "output_type": "stream",
     "text": [
      " 94%|█████████▍| 94/100 [06:58<00:26,  4.35s/it]"
     ]
    },
    {
     "name": "stdout",
     "output_type": "stream",
     "text": [
      "translation:   Dr. Malar Balasubramanian, 29, blev fundet i Blue Ash, Ohio, en forstad ca. 15 km nord for Cincinnati ved vejen i T-shirt og undertøj i en tilsyneladende stærkt medicineret tilstand.\n",
      "correction:   Dr. Malar Balasubramanian, 29, blev fundet i Blue Ash, Ohio, en forstad ca. 15 mil nord for Cincinnati ved vejen i T-shirt og undertøj i en tilsyneladende stærkt medicineret tilstand.\n"
     ]
    },
    {
     "name": "stderr",
     "output_type": "stream",
     "text": [
      " 95%|█████████▌| 95/100 [07:02<00:21,  4.35s/it]"
     ]
    },
    {
     "name": "stdout",
     "output_type": "stream",
     "text": [
      "translation:   Dr. Balasubramanian blev 29 år og blev fundet i Blue Ash, Ohio, en forstad 20 kilometer nord for Cincinnati, liggende på jorden nær vejen i en t-shirt og underbukser i tilsyneladende stærkt medicinpåvirket tilstand.\n",
      "correction:   Dr. Balasubramanian blev 29 år og blev fundet i Blue Ash, Ohio, en forstad 20 kilometer nord for Cincinnati, liggende på jorden nær vejen i en t-shirt og underbukser i tilsyneladende stærkt medicinpåvirket tilstand.\n"
     ]
    },
    {
     "name": "stderr",
     "output_type": "stream",
     "text": [
      " 96%|█████████▌| 96/100 [07:06<00:16,  4.25s/it]"
     ]
    },
    {
     "name": "stdout",
     "output_type": "stream",
     "text": [
      "translation:   Dr. Malar Balasubramanian, 29 år, er fundet i Blue Ash, Ohio, en forstad 15 miles nord for Cincinatti liggende på jorden ved landevejen i T-shirt og undertøj i en tilsyneladende dybt medicinoverdoseret tilstand.\n",
      "correction:   Dr. Malar Balasubramanian, 29 år, er fundet i Blue Ash, Ohio, en forstad 15 miles nord for Cincinatti, liggende på jorden ved landevejen i T-shirt og undertøj i en tilsyneladende dybt medicineret tilstand.\n"
     ]
    },
    {
     "name": "stderr",
     "output_type": "stream",
     "text": [
      " 97%|█████████▋| 97/100 [07:10<00:12,  4.03s/it]"
     ]
    },
    {
     "name": "stdout",
     "output_type": "stream",
     "text": [
      "translation:   Dr. Balasubramanian, på 29, blev fundet i Blue Ash, Ohio, en forstad ca. 15 miles nord for Cincinnati på gaden i en T-shirt og underbukser tilsyneladende i en stærkt medicineret tilstand.\n",
      "correction:   Dr. Balasubramanian, 29, blev fundet i Blue Ash, Ohio, en forstad ca. 15 miles nord for Cincinnati, på gaden i en T-shirt og underbukser tilsyneladende i en stærkt medicineret tilstand.\n"
     ]
    },
    {
     "name": "stderr",
     "output_type": "stream",
     "text": [
      " 98%|█████████▊| 98/100 [07:14<00:08,  4.10s/it]"
     ]
    },
    {
     "name": "stdout",
     "output_type": "stream",
     "text": [
      "translation:   Dr. Malar Balasubramanian, 29, blev fundet i Blue Ash, Ohio, en forstad 15 miles nord for Cincinnati liggende på jorden ved siden af vejen i en T-shirt og undertøj i en tilsyneladende stærkt medicineret tilstand.\n",
      "correction:   Dr. Malar Balasubramanian, 29, blev fundet i Blue Ash, Ohio, en forstad 15 miles nord for Cincinnati, liggende på jorden ved siden af vejen i en T-shirt og undertøj i en tilsyneladende stærkt medicineret tilstand.\n"
     ]
    },
    {
     "name": "stderr",
     "output_type": "stream",
     "text": [
      " 99%|█████████▉| 99/100 [07:18<00:04,  4.12s/it]"
     ]
    },
    {
     "name": "stdout",
     "output_type": "stream",
     "text": [
      "translation:   Dr. Malar Balasubramanian, på 29 år, var funden i Blue Ash, Ohio, en forstad omkring 15 miles nord for Cincinnati liggende på jorden ved siden af vejen i en T-shirt og undertøj på en tydeligt medicinpåvirket måde.\n",
      "correction:   Dr. Malar Balasubramanian, 29 år, blev fundet i Blue Ash, Ohio, en forstad omkring 15 miles nord for Cincinnati, liggende på jorden i vejkanten i en T-shirt og undertøj, øjensynligt medicinpåvirket.\n"
     ]
    },
    {
     "name": "stderr",
     "output_type": "stream",
     "text": [
      "100%|██████████| 100/100 [07:22<00:00,  4.12s/it]"
     ]
    },
    {
     "name": "stdout",
     "output_type": "stream",
     "text": [
      "translation:   Dr. Malar Balasubramanian, 29, blev fundet i Blue Ash, Ohio, en forstad ca. 15 km nord for Cincinnati liggende på jorden nær vejen i en T-shirt og undertøj i en tilsyneladende stærkt medicineret tilstand.\n",
      "correction:   Dr. Malar Balasubramanian, 29, blev fundet i Blue Ash, Ohio, en forstad ca. 15 km nord for Cincinnati liggende på jorden nær vejen i en T-shirt og undertøj i en tilsyneladende stærkt medicineret tilstand.\n"
     ]
    },
    {
     "name": "stderr",
     "output_type": "stream",
     "text": [
      "100%|██████████| 100/100 [07:27<00:00,  4.47s/it]\n"
     ]
    },
    {
     "data": {
      "text/plain": [
       "'\\ncot = True\\n#models = [\\'gemini/gemini-2.0-flash\\', \\'gemini/gemini-1.5-pro\\']\\nfor model in models:\\n    df[f\"{model}_{\\'cot\\' if cot else \\'pairwise\\'}\"] = df.progress_apply(lambda x: run_rating(translation = x[\\'translations\\'], correction=x[\\'Correction\\'], model=model, cot=cot, rating_prompt_func=create_rating_prompt, max_completion_tokens=1000), axis=1)\\n    #print(model, df[f\\'{model}_pairwise\\'].describe())\\ndf.to_csv(\\'/scratch/project_462000353/maribarr/translation_quality/data/Flores200_dev.csv\\', sep=\\',\\', index=None)'"
      ]
     },
     "execution_count": 37,
     "metadata": {},
     "output_type": "execute_result"
    }
   ],
   "source": [
    "models = ['gpt-4-0125-preview', 'gpt-4o-2024-08-06', 'gpt-4.5-preview-2025-02-27']\n",
    "\n",
    "cot = False\n",
    "\n",
    "#models = ['gemini/gemini-2.0-flash', 'gemini/gemini-1.5-pro']\n",
    "for model in models:\n",
    "    df[f\"{model}_{'cot' if cot else 'pairwise'}\"] = df.progress_apply(lambda x: run_rating(translation = x['translations'], correction=x['Correction'], model=model, cot=cot, rating_prompt_func=create_rating_prompt), axis=1)\n",
    "    #print(model, df[f'{model}_pairwise'].describe())\"\"\"\n",
    "df.to_csv('/scratch/project_462000353/maribarr/translation_quality/data/Flores200_dev.csv', sep=',', index=None)\n",
    "\"\"\"\n",
    "cot = True\n",
    "#models = ['gemini/gemini-2.0-flash', 'gemini/gemini-1.5-pro']\n",
    "for model in models:\n",
    "    df[f\"{model}_{'cot' if cot else 'pairwise'}\"] = df.progress_apply(lambda x: run_rating(translation = x['translations'], correction=x['Correction'], model=model, cot=cot, rating_prompt_func=create_rating_prompt, max_completion_tokens=1000), axis=1)\n",
    "    #print(model, df[f'{model}_pairwise'].describe())\n",
    "df.to_csv('/scratch/project_462000353/maribarr/translation_quality/data/Flores200_dev.csv', sep=',', index=None)\"\"\""
   ]
  },
  {
   "cell_type": "code",
   "execution_count": 48,
   "id": "e6e47218",
   "metadata": {},
   "outputs": [
    {
     "data": {
      "image/png": "[encoded data removed]",
      "text/plain": [
       "<Figure size 1000x600 with 1 Axes>"
      ]
     },
     "metadata": {},
     "output_type": "display_data"
    }
   ],
   "source": [
    "sub = df.loc[df.Fluency_score != 5]\n",
    "columns = [\n",
    "    #'gpt-4-0125-preview_pairwise', 'gpt-4o-2024-08-06_pairwise', 'gpt-4.5-preview-2025-02-27_pairwise', \n",
    "           'gpt-4-0125-preview_cot', 'gpt-4o-2024-08-06_cot','gpt-4.5-preview-2025-02-27_cot'\n",
    "           ]\n",
    "\n",
    "# Create a figure and axis\n",
    "fig, ax = plt.subplots(figsize=(10, 6))\n",
    "\n",
    "# Plot the distributions for each column\n",
    "for col in columns:\n",
    "    # Get histogram data with raw counts (density=False)\n",
    "    counts, bin_edges = np.histogram(sub[col], bins=20, density=False)\n",
    "    \n",
    "    bin_centers = (bin_edges[:-1] + bin_edges[1:]) / 2  # Compute bin centers\n",
    "    ax.plot(bin_centers, counts, label=col, linewidth=2)  # Line plot with raw counts\n",
    "\n",
    "# Add legend, labels, and title\n",
    "ax.set_xlabel('Value')\n",
    "ax.set_ylabel('Count')  # Changed from 'Density' to 'Count'\n",
    "ax.set_title('Line Plot of Pairwise scores Distributions - ideally scores are close to 1')\n",
    "\n",
    "# Place legend outside the plot\n",
    "ax.legend(title='Method', loc='center left', bbox_to_anchor=(1, 0.5), frameon=True)\n",
    "\n",
    "# Adjust layout to make space for the legend\n",
    "plt.tight_layout()\n",
    "\n",
    "# Show the plot\n",
    "plt.show()"
   ]
  },
  {
   "cell_type": "code",
   "execution_count": 49,
   "id": "89cf61e6",
   "metadata": {},
   "outputs": [],
   "source": [
    "df.to_csv('/scratch/project_462000353/maribarr/translation_quality/data/Flores200_dev.csv', sep=',', index=None)"
   ]
  },
  {
   "cell_type": "code",
   "execution_count": 32,
   "id": "23be4d13",
   "metadata": {},
   "outputs": [
    {
     "data": {
      "text/plain": [
       "Index(['source_sentence', 'target_sentence', 'source_lang', 'target_lang',\n",
       "       'translations', 'Fluency_errors', 'Correction', 'Fluency_score',\n",
       "       'gpt-4-0125-preview_cot', 'gpt-4o-2024-08-06_cot',\n",
       "       'gpt-4.5-preview-2025-02-27_cot'],\n",
       "      dtype='object')"
      ]
     },
     "execution_count": 32,
     "metadata": {},
     "output_type": "execute_result"
    }
   ],
   "source": [
    "sub.columns"
   ]
  },
  {
   "cell_type": "code",
   "execution_count": null,
   "id": "5e671682",
   "metadata": {},
   "outputs": [],
   "source": [
    "\n",
    "\n",
    "# Assuming you have a DataFrame 'df' with two text columns 'col1' and 'col2'\n",
    "# Create a new column with the edit distances\n",
    "df['edit_distance'] = df.apply(lambda row: Levenshtein.distance(str(row['translations']), str(row['Correction'])), axis=1)\n"
   ]
  },
  {
   "cell_type": "code",
   "execution_count": 50,
   "id": "d93e87f4",
   "metadata": {},
   "outputs": [
    {
     "data": {
      "text/html": [
       "<div>\n",
       "<style scoped>\n",
       "    .dataframe tbody tr th:only-of-type {\n",
       "        vertical-align: middle;\n",
       "    }\n",
       "\n",
       "    .dataframe tbody tr th {\n",
       "        vertical-align: top;\n",
       "    }\n",
       "\n",
       "    .dataframe thead th {\n",
       "        text-align: right;\n",
       "    }\n",
       "</style>\n",
       "<table border=\"1\" class=\"dataframe\">\n",
       "  <thead>\n",
       "    <tr style=\"text-align: right;\">\n",
       "      <th></th>\n",
       "      <th>edit_distance</th>\n",
       "      <th>Fluency_score</th>\n",
       "      <th>gpt-4-0125-preview_cot</th>\n",
       "      <th>gpt-4o-2024-08-06_cot</th>\n",
       "      <th>gpt-4.5-preview-2025-02-27_cot</th>\n",
       "    </tr>\n",
       "  </thead>\n",
       "  <tbody>\n",
       "    <tr>\n",
       "      <th>edit_distance</th>\n",
       "      <td>1.000000</td>\n",
       "      <td>-0.688780</td>\n",
       "      <td>0.403609</td>\n",
       "      <td>0.223631</td>\n",
       "      <td>0.311642</td>\n",
       "    </tr>\n",
       "    <tr>\n",
       "      <th>Fluency_score</th>\n",
       "      <td>-0.688780</td>\n",
       "      <td>1.000000</td>\n",
       "      <td>-0.709536</td>\n",
       "      <td>-0.542942</td>\n",
       "      <td>-0.649127</td>\n",
       "    </tr>\n",
       "    <tr>\n",
       "      <th>gpt-4-0125-preview_cot</th>\n",
       "      <td>0.403609</td>\n",
       "      <td>-0.709536</td>\n",
       "      <td>1.000000</td>\n",
       "      <td>0.803816</td>\n",
       "      <td>0.804194</td>\n",
       "    </tr>\n",
       "    <tr>\n",
       "      <th>gpt-4o-2024-08-06_cot</th>\n",
       "      <td>0.223631</td>\n",
       "      <td>-0.542942</td>\n",
       "      <td>0.803816</td>\n",
       "      <td>1.000000</td>\n",
       "      <td>0.781235</td>\n",
       "    </tr>\n",
       "    <tr>\n",
       "      <th>gpt-4.5-preview-2025-02-27_cot</th>\n",
       "      <td>0.311642</td>\n",
       "      <td>-0.649127</td>\n",
       "      <td>0.804194</td>\n",
       "      <td>0.781235</td>\n",
       "      <td>1.000000</td>\n",
       "    </tr>\n",
       "  </tbody>\n",
       "</table>\n",
       "</div>"
      ],
      "text/plain": [
       "                                edit_distance  Fluency_score  \\\n",
       "edit_distance                        1.000000      -0.688780   \n",
       "Fluency_score                       -0.688780       1.000000   \n",
       "gpt-4-0125-preview_cot               0.403609      -0.709536   \n",
       "gpt-4o-2024-08-06_cot                0.223631      -0.542942   \n",
       "gpt-4.5-preview-2025-02-27_cot       0.311642      -0.649127   \n",
       "\n",
       "                                gpt-4-0125-preview_cot  gpt-4o-2024-08-06_cot  \\\n",
       "edit_distance                                 0.403609               0.223631   \n",
       "Fluency_score                                -0.709536              -0.542942   \n",
       "gpt-4-0125-preview_cot                        1.000000               0.803816   \n",
       "gpt-4o-2024-08-06_cot                         0.803816               1.000000   \n",
       "gpt-4.5-preview-2025-02-27_cot                0.804194               0.781235   \n",
       "\n",
       "                                gpt-4.5-preview-2025-02-27_cot  \n",
       "edit_distance                                         0.311642  \n",
       "Fluency_score                                        -0.649127  \n",
       "gpt-4-0125-preview_cot                                0.804194  \n",
       "gpt-4o-2024-08-06_cot                                 0.781235  \n",
       "gpt-4.5-preview-2025-02-27_cot                        1.000000  "
      ]
     },
     "execution_count": 50,
     "metadata": {},
     "output_type": "execute_result"
    }
   ],
   "source": [
    "df[['edit_distance', 'Fluency_score', 'gpt-4-0125-preview_cot', 'gpt-4o-2024-08-06_cot','gpt-4.5-preview-2025-02-27_cot']].corr(method='pearson')"
   ]
  },
  {
   "cell_type": "code",
   "execution_count": 51,
   "id": "6382c51a",
   "metadata": {},
   "outputs": [],
   "source": [
    "columns = [\n",
    "    'gpt-4-0125-preview_pairwise', 'gpt-4o-2024-08-06_pairwise', 'gpt-4.5-preview-2025-02-27_pairwise', \n",
    "           'gpt-4-0125-preview_cot', 'gpt-4o-2024-08-06_cot','gpt-4.5-preview-2025-02-27_cot'\n",
    "           ]"
   ]
  },
  {
   "cell_type": "code",
   "execution_count": null,
   "id": "b026cd4b",
   "metadata": {},
   "outputs": [
    {
     "data": {
      "text/plain": [
       "gpt-4-0125-preview_pairwise            0.766667\n",
       "gpt-4o-2024-08-06_pairwise             0.800000\n",
       "gpt-4.5-preview-2025-02-27_pairwise    0.835000\n",
       "gpt-4-0125-preview_cot                 0.711667\n",
       "gpt-4o-2024-08-06_cot                  0.781667\n",
       "gpt-4.5-preview-2025-02-27_cot         0.826667\n",
       "dtype: float64"
      ]
     },
     "execution_count": 53,
     "metadata": {},
     "output_type": "execute_result"
    }
   ],
   "source": [
    "# Pairwise (no COT) is slightly better than COT for all models:\n",
    "df[columns].mean()"
   ]
  },
  {
   "cell_type": "markdown",
   "id": "550a5fc0",
   "metadata": {},
   "source": [
    "# Rate translations among themselves\n",
    "\n",
    "# Pairwise ranking\n",
    "Assign a point if they agree with my fluency rating"
   ]
  },
  {
   "cell_type": "code",
   "execution_count": null,
   "id": "3fcf947b",
   "metadata": {},
   "outputs": [],
   "source": [
    "\n",
    "\n",
    "def compare_sentences_by_quality(df, id_column, sentence_column, score_column, model, cot=False, \n",
    "                               rating_prompt_func=None, save_path=None):\n",
    "    \"\"\"\n",
    "    Compare sentences with different quality scores within the same ID group and save all ratings.\n",
    "    \n",
    "    Parameters:\n",
    "    - df: DataFrame containing sentences and scores\n",
    "    - id_column: Column name for the group identifier (source sentence)\n",
    "    - sentence_column: Column name for the sentence text (translation)\n",
    "    - score_column: Column name for the human quality score (1-5)\n",
    "    - model: The LLM model to use for ratings\n",
    "    - cot: Whether to use chain-of-thought reasoning\n",
    "    - rating_prompt_func: Function that creates the rating prompt\n",
    "    - save_path: Path to save the complete ratings data\n",
    "    \n",
    "    Returns:\n",
    "    - Dictionary mapping each ID to the model's agreement rate\n",
    "    - DataFrame containing all ratings data\n",
    "    \"\"\"\n",
    "    results = {}\n",
    "    all_ratings = []\n",
    "    \n",
    "    # Group by ID (source sentence)\n",
    "    for group_id, group_df in df.groupby(id_column):\n",
    "        # Initialize counters for this group\n",
    "        total_comparisons = 0\n",
    "        correct_comparisons = 0\n",
    "        \n",
    "        # Get all pairs of sentences with different quality scores\n",
    "        for (_, row1), (_, row2) in tqdm(itertools.combinations(group_df.iterrows(), 2)):\n",
    "            # Only compare sentences with different quality scores\n",
    "            if row1[score_column] != row2[score_column]:\n",
    "                total_comparisons += 1\n",
    "                \n",
    "                # Determine better and worse sentences based on human scores\n",
    "                if row1[score_column] > row2[score_column]:\n",
    "                    better_sentence = row1[sentence_column]\n",
    "                    worse_sentence = row2[sentence_column]\n",
    "                    better_human_score = row1[score_column]\n",
    "                    worse_human_score = row2[score_column]\n",
    "                    better_id = row1.name\n",
    "                    worse_id = row2.name\n",
    "                else:\n",
    "                    better_sentence = row2[sentence_column]\n",
    "                    worse_sentence = row1[sentence_column]\n",
    "                    better_human_score = row2[score_column]\n",
    "                    worse_human_score = row1[score_column]\n",
    "                    better_id = row2.name\n",
    "                    worse_id = row1.name\n",
    "                \n",
    "                # Get model score using the provided function\n",
    "                model_score = run_rating(\n",
    "                    translation=worse_sentence, \n",
    "                    correction=better_sentence, \n",
    "                    model=model, \n",
    "                    cot=cot, \n",
    "                    rating_prompt_func=rating_prompt_func or create_rating_prompt,\n",
    "                    repeat=1\n",
    "                )\n",
    "                \n",
    "                # Save all rating details\n",
    "                all_ratings.append({\n",
    "                    'source_id': group_id,\n",
    "                    'translation_id_1': worse_id,\n",
    "                    'translation_id_2': better_id,\n",
    "                    'translation_1': worse_sentence,\n",
    "                    'translation_2': better_sentence,\n",
    "                    'human_score_1': worse_human_score,\n",
    "                    'human_score_2': better_human_score,\n",
    "                    'model_preference_score': model_score,\n",
    "                    'model_agrees': model_score > 0.5\n",
    "                })\n",
    "                \n",
    "                # Check if model score indicates agreement\n",
    "                if model_score > 0.5:  # Assuming 0.5 as threshold, adjust if needed\n",
    "                    correct_comparisons += 1\n",
    "        \n",
    "        # Calculate agreement rate for this group\n",
    "        if total_comparisons > 0:\n",
    "            agreement_rate = correct_comparisons / total_comparisons\n",
    "            results[group_id] = agreement_rate\n",
    "        else:\n",
    "            results[group_id] = None  # No comparisons made\n",
    "    \n",
    "    # Convert all ratings to DataFrame\n",
    "    ratings_df = pd.DataFrame(all_ratings)\n",
    "    \n",
    "    # Save complete ratings data if path provided\n",
    "    if save_path:\n",
    "        ratings_df.to_csv(save_path, index=False)\n",
    "    \n",
    "    return results, ratings_df\n",
    "\n",
    "def get_top_n_translations(ratings_df, source_id=None, n=5):\n",
    "    \"\"\"\n",
    "    Get the top N best-rated translations for each source sentence or a specific source.\n",
    "    \n",
    "    Parameters:\n",
    "    - ratings_df: DataFrame containing all ratings data\n",
    "    - source_id: Optional specific source ID to filter by\n",
    "    - n: Number of top translations to return\n",
    "    \n",
    "    Returns:\n",
    "    - DataFrame or dict of DataFrames with top translations and their scores\n",
    "    \"\"\"\n",
    "    # Filter by source_id if specified\n",
    "    if source_id:\n",
    "        df = ratings_df[ratings_df['source_id'] == source_id]\n",
    "    else:\n",
    "        df = ratings_df.copy()\n",
    "    \n",
    "    # Create a scoring system for translations\n",
    "    translation_scores = defaultdict(lambda: {'wins': 0, 'losses': 0, 'human_score': 0})\n",
    "    \n",
    "    # Count wins and losses for each translation\n",
    "    for _, row in df.iterrows():\n",
    "        # Translation 1 lost to Translation 2 if model_agrees is True\n",
    "        if row['model_agrees']:\n",
    "            translation_scores[(row['source_id'], row['translation_id_1'])]['losses'] += 1\n",
    "            translation_scores[(row['source_id'], row['translation_id_2'])]['wins'] += 1\n",
    "        else:\n",
    "            translation_scores[(row['source_id'], row['translation_id_1'])]['wins'] += 1\n",
    "            translation_scores[(row['source_id'], row['translation_id_2'])]['losses'] += 1\n",
    "        \n",
    "        # Store human scores\n",
    "        translation_scores[(row['source_id'], row['translation_id_1'])]['human_score'] = row['human_score_1']\n",
    "        translation_scores[(row['source_id'], row['translation_id_2'])]['human_score'] = row['human_score_2']\n",
    "        \n",
    "        # Store the actual translation text\n",
    "        if 'text' not in translation_scores[(row['source_id'], row['translation_id_1'])]:\n",
    "            translation_scores[(row['source_id'], row['translation_id_1'])]['text'] = row['translation_1']\n",
    "        \n",
    "        if 'text' not in translation_scores[(row['source_id'], row['translation_id_2'])]:\n",
    "            translation_scores[(row['source_id'], row['translation_id_2'])]['text'] = row['translation_2']\n",
    "    \n",
    "    # Calculate a fluency score based on win/loss ratio\n",
    "    results = []\n",
    "    for (source_id, translation_id), data in translation_scores.items():\n",
    "        total_comparisons = data['wins'] + data['losses']\n",
    "        if total_comparisons > 0:\n",
    "            fluency_score = data['wins'] / total_comparisons\n",
    "        else:\n",
    "            fluency_score = 0\n",
    "            \n",
    "        results.append({\n",
    "            'source_id': source_id,\n",
    "            'translation_id': translation_id,\n",
    "            'translation': data['text'],\n",
    "            'human_score': data['human_score'],\n",
    "            'wins': data['wins'],\n",
    "            'losses': data['losses'],\n",
    "            'fluency_score': fluency_score\n",
    "        })\n",
    "    \n",
    "    # Convert to DataFrame\n",
    "    results_df = pd.DataFrame(results)\n",
    "    \n",
    "    # Get top N for each source\n",
    "    if source_id:\n",
    "        return results_df.sort_values('fluency_score', ascending=False).head(n)\n",
    "    else:\n",
    "        top_n_by_source = {}\n",
    "        for src_id, group_df in results_df.groupby('source_id'):\n",
    "            top_n_by_source[src_id] = group_df.sort_values('fluency_score', ascending=False).head(n)\n",
    "        return top_n_by_source\n",
    "\n",
    "# Example usage:\n",
    "# 1. Run the comparison function and save all ratings\n",
    "# results, ratings_df = compare_sentences_by_quality(\n",
    "#     df=translations_df,\n",
    "#     id_column='source_id',\n",
    "#     sentence_column='translation',\n",
    "#     score_column='human_score',\n",
    "#     model=model,\n",
    "#     cot=True,\n",
    "#     save_path='all_translation_ratings.csv'\n",
    "# )\n",
    "#\n",
    "# 2. Get top 5 translations for source sentence with ID 'src_123'\n",
    "# top_5_for_specific = get_top_n_translations(ratings_df, source_id='src_123', n=5)\n",
    "#\n",
    "# 3. Get top 3 translations for all source sentences\n",
    "# top_3_for_all = get_top_n_translations(ratings_df, n=3)"
   ]
  },
  {
   "cell_type": "code",
   "execution_count": 94,
   "id": "6a79b7bd",
   "metadata": {},
   "outputs": [
    {
     "name": "stderr",
     "output_type": "stream",
     "text": [
      "21it [00:14,  1.40it/s]\n",
      "78it [01:05,  1.20it/s]\n",
      "45it [00:42,  1.05it/s]\n",
      "45it [00:49,  1.10s/it]\n",
      "45it [00:36,  1.22it/s]\n",
      "45it [00:39,  1.13it/s]\n",
      "36it [00:30,  1.18it/s]\n",
      "45it [00:40,  1.11it/s]\n",
      "66it [01:06,  1.01s/it]\n",
      "36it [00:22,  1.57it/s]\n",
      "21it [00:13,  1.58it/s]\n",
      "78it [00:51,  1.53it/s]\n",
      "45it [00:33,  1.34it/s]\n",
      "45it [00:39,  1.13it/s]\n",
      "45it [00:26,  1.70it/s]\n",
      "45it [00:26,  1.69it/s]\n",
      "36it [00:20,  1.73it/s]\n",
      "45it [00:28,  1.60it/s]\n",
      "66it [00:55,  1.19it/s]\n",
      "36it [00:21,  1.69it/s]\n",
      "21it [00:20,  1.03it/s]\n",
      "78it [01:20,  1.04s/it]\n",
      "45it [00:58,  1.31s/it]\n",
      "45it [00:58,  1.30s/it]\n",
      "45it [00:43,  1.03it/s]\n",
      "45it [00:39,  1.13it/s]\n",
      "36it [00:37,  1.03s/it]\n",
      "45it [00:50,  1.13s/it]\n",
      "66it [01:13,  1.11s/it]\n",
      "36it [00:27,  1.30it/s]\n"
     ]
    }
   ],
   "source": [
    "all_res = {}\n",
    "cot=False\n",
    "models = ['gpt-4.1', 'gpt-4o-2024-08-06', 'gpt-4.5-preview-2025-02-27']\n",
    "\n",
    "for model in models:\n",
    "    results = compare_sentences_by_quality(\n",
    "        df, \n",
    "        id_column='source_sentence', \n",
    "        sentence_column='translations', \n",
    "        score_column='Fluency_score', \n",
    "        model=model,\n",
    "        cot=cot,\n",
    "        save_path=f'../data/pairwise_comparison_{model}.csv'\n",
    "    )"
   ]
  },
  {
   "cell_type": "markdown",
   "id": "b4448362",
   "metadata": {},
   "source": [
    "## Can the best translation be found from pairwise comparison?\n",
    "\n",
    "- Not too accurate. \n",
    "- Too much noise beyong p@1 \n",
    "- Could maybe be improved with better comparison algorithm or more repeats\n",
    "- Maybe a greedy comparison scheme"
   ]
  },
  {
   "cell_type": "code",
   "execution_count": 181,
   "id": "eb895116",
   "metadata": {},
   "outputs": [],
   "source": [
    "all_res_1 = {}\n",
    "all_res_3 = {}\n",
    "\n",
    "for model in models:\n",
    "    pair = pd.read_csv(f'../data/pairwise_comparison_{model}.csv')\n",
    "    rank1_res = []\n",
    "    rank3_res = []\n",
    "    for source_sent in pair.source_id.unique():\n",
    "        sub = pair.loc[pair.source_id == source_sent]\n",
    "        rank_dict = scores_to_ranks_dict(pd.concat([sub.human_score_1, sub.human_score_2]).values)\n",
    "        top1 = get_top_n_translations(sub, source_id=source_sent, n=1)\n",
    "        top1['human_rank'] = top1.human_score.map(lambda x: rank_dict[x])\n",
    "        top3 =  get_top_n_translations(sub, source_id=source_sent, n=3)\n",
    "        top3['human_rank'] = top3.human_score.map(lambda x: rank_dict[x])\n",
    "        rank1_res.extend(top1.human_rank.values)\n",
    "        rank3_res.extend(top3.human_rank.values)\n",
    "    all_res_1[model] = rank1_res\n",
    "    all_res_3[model] = rank3_res"
   ]
  },
  {
   "cell_type": "code",
   "execution_count": 204,
   "id": "fe39a953",
   "metadata": {},
   "outputs": [
    {
     "data": {
      "image/png": "[encoded data removed]",
      "text/plain": [
       "<Figure size 1000x600 with 1 Axes>"
      ]
     },
     "metadata": {},
     "output_type": "display_data"
    }
   ],
   "source": [
    "# Assuming all_res_1 is your data\n",
    "res = pd.DataFrame(all_res_1)\n",
    "\n",
    "# Create figure and axis\n",
    "fig, ax = plt.subplots(figsize=(10, 6))\n",
    "\n",
    "# Calculate bin counts manually\n",
    "bin_edges = np.arange(0.5, 5.6, 1)\n",
    "bins = np.arange(1, 6)\n",
    "width = 0.8 / len(res.columns)  # Width of each bar, adjusted for number of columns\n",
    "\n",
    "# Plot each column with bars side by side\n",
    "for i, col in enumerate(res.columns):\n",
    "    counts, _ = np.histogram(res[col], bins=bin_edges)\n",
    "    x_pos = bins + width * (i - len(res.columns)/2 + 0.5)\n",
    "    ax.bar(x_pos, counts, width=width, alpha=0.7, label=col)\n",
    "\n",
    "# Set x-axis ticks and limits\n",
    "ax.set_xticks([1, 2, 3, 4, 5])\n",
    "ax.set_xlim(0.5, 5.5)\n",
    "\n",
    "# Set title and labels\n",
    "ax.set_title('Human fluency ranks of the winners of pairwise comparisons p@1')\n",
    "ax.set_xlabel('Human fluency rank')\n",
    "ax.set_ylabel('Count')\n",
    "\n",
    "plt.legend()\n",
    "plt.tight_layout()\n",
    "plt.show()"
   ]
  },
  {
   "cell_type": "code",
   "execution_count": 205,
   "id": "518ff1c8",
   "metadata": {},
   "outputs": [
    {
     "data": {
      "image/png": "[encoded data removed]",
      "text/plain": [
       "<Figure size 1000x600 with 1 Axes>"
      ]
     },
     "metadata": {},
     "output_type": "display_data"
    }
   ],
   "source": [
    "res = pd.DataFrame(all_res_3)\n",
    "\n",
    "# Create figure and axis\n",
    "fig, ax = plt.subplots(figsize=(10, 6))\n",
    "\n",
    "# Calculate bin counts manually\n",
    "bin_edges = np.arange(0.5, 5.6, 1)\n",
    "bins = np.arange(1, 6)\n",
    "width = 0.8 / len(res.columns)  # Width of each bar, adjusted for number of columns\n",
    "\n",
    "# Plot each column with bars side by side\n",
    "for i, col in enumerate(res.columns):\n",
    "    counts, _ = np.histogram(res[col], bins=bin_edges)\n",
    "    x_pos = bins + width * (i - len(res.columns)/2 + 0.5)\n",
    "    ax.bar(x_pos, counts, width=width, alpha=0.7, label=col)\n",
    "\n",
    "# Set x-axis ticks and limits\n",
    "ax.set_xticks([1, 2, 3, 4, 5])\n",
    "ax.set_xlim(0.5, 5.5)\n",
    "\n",
    "# Set title and labels\n",
    "ax.set_title('Human fluency ranks of the winners of pairwise comparisons p@3')\n",
    "ax.set_xlabel('Human fluency rank')\n",
    "ax.set_ylabel('Count')\n",
    "\n",
    "plt.legend()\n",
    "plt.tight_layout()\n",
    "plt.show()"
   ]
  },
  {
   "cell_type": "markdown",
   "id": "e064f21b",
   "metadata": {},
   "source": [
    "## Can models distinguish a dysfluent sentence from a perfectly fluent one?\n",
    "- pairwise compare a dysfluent sentence with its edited counterpart\n",
    "- Only the largest models can do it\n",
    "- Very complex sentences have low acc\n",
    "- No gain from chain of thought\n",
    "- Not a key task for us - just a sanity check"
   ]
  },
  {
   "cell_type": "code",
   "execution_count": null,
   "id": "4b06469b",
   "metadata": {},
   "outputs": [
    {
     "data": {
      "text/plain": [
       "<Axes: title={'center': 'Pairwise comparison of sentences with the same source sentence.\\n Acc against my rating of which is better'}>"
      ]
     },
     "execution_count": 78,
     "metadata": {},
     "output_type": "execute_result"
    },
    {
     "data": {
      "image/png": "[encoded data removed]",
      "text/plain": [
       "<Figure size 640x480 with 1 Axes>"
      ]
     },
     "metadata": {},
     "output_type": "display_data"
    }
   ],
   "source": [
    "pd.DataFrame(all_res).plot(kind='bar', title='Pairwise comparison of sentences with the same source sentence.\\n Acc against my rating')\n",
    "# Observation: The internal ranking of the models are not preserved\n",
    "# There are big variations across sentences. \n",
    "# No 4 and 8 are really complex sentences."
   ]
  },
  {
   "cell_type": "code",
   "execution_count": null,
   "id": "01d6a6d5",
   "metadata": {},
   "outputs": [
    {
     "data": {
      "text/plain": [
       "<Axes: title={'center': 'Pairwise comparison of sentences with the same source sentence.\\n Acc against my rating of which is better'}>"
      ]
     },
     "execution_count": 77,
     "metadata": {},
     "output_type": "execute_result"
    },
    {
     "data": {
      "image/png": "[encoded data removed]",
      "text/plain": [
       "<Figure size 640x480 with 1 Axes>"
      ]
     },
     "metadata": {},
     "output_type": "display_data"
    }
   ],
   "source": [
    "pd.DataFrame(all_res).mean().plot(kind='bar', title='Pairwise comparison of sentences with the same source sentence.\\n Acc against my rating of which is better')"
   ]
  },
  {
   "cell_type": "markdown",
   "id": "b92134f0",
   "metadata": {},
   "source": [
    "## Batch ranking\n",
    "Rank all 10 sentences and compare the rank with my ranking"
   ]
  },
  {
   "cell_type": "code",
   "execution_count": 12,
   "id": "41ba11f7",
   "metadata": {},
   "outputs": [],
   "source": [
    "def get_llm_rankings(translations, model, max_completion_tokens, cot=False):\n",
    "    \"\"\"Get LLM rankings for a list of translations of the same source.\"\"\"\n",
    "    # Construct prompt\n",
    "    prompt_no_cot = f\"\"\"\n",
    "    \n",
    "    Please rank the following sentences from best to worst (1 = best) according to how fluent they are to a native Danish speaker:\n",
    "    {chr(10).join([f\"{i+1}. {t}\" for i, t in enumerate(translations)])}\n",
    "    \n",
    "    Provide your rankings as a comma-separated list of numbers corresponding to the translation numbers above between <rankings> </rankings> tags.\n",
    "    \"\"\"\n",
    "\n",
    "    prompt_cot = f\"\"\"\n",
    "    Please rank the following sentences from best to worst (1 = best) according to how fluent they are to a native Danish speaker:\n",
    "    {chr(10).join([f\"{i+1}. {t}\" for i, t in enumerate(translations)])}\n",
    "    Provide an evaluation of the fluency for each  your ranking between <reasoning> </reasoning> tags that violates a perfect fluency that is defined like:     Grammar: Perfect grammatical control with no errors in noun gender, verb conjugation, or word order\n",
    "    Vocabulary: Rich, precise, and idiomatic vocabulary with proper use of Danish expressions and colloquialisms\n",
    "    Flow: Text has a natural rhythm that would sound completely authentic when read aloud\n",
    "    Sentence Structure: Varied and complex sentence structures used appropriately and effortlessly\n",
    "    Idioms: Appropriate use of Danish idioms, verbal phraess, and Danish-specific expressions. \n",
    "    Example <reasoning>1: fluency errors when using anglicism 'tale op' and this word does not exist in Danish: 'nedskørings' 2: wrong subject-verb ordering in a subclause ... </reasoning>: \n",
    "    Provide your rankings as a comma-separated list of indices corresponding to the translation numbers above between <rankings> </rankings> tags.\n",
    "    \"\"\"\n",
    "    if cot:\n",
    "        prompt = prompt_cot\n",
    "    else:\n",
    "        prompt = prompt_no_cot\n",
    "    \n",
    "    # Get response from LLM\n",
    "    response = call_litellm(prompt, model=model, max_completion_tokens=max_completion_tokens)\n",
    "    \n",
    "    # Extract just the numbers from the response\n",
    "    rankings = BeautifulSoup(response, 'html.parser').find('rankings').text \n",
    "    rankings_list = [int(x.strip()) for x in rankings.strip().split(',')]\n",
    "        \n",
    "    return rankings_list\n",
    "\n",
    "def sort_by_llm_and_get_top_n(llm_rankings, human_rankings, n=3):\n",
    "    # Pair the rankings\n",
    "    paired_rankings = list(zip(llm_rankings, human_rankings))\n",
    "    \n",
    "    # Sort the pairs based on llm_rankings (first element in each pair)\n",
    "    # Using reverse=True to sort in descending order (higher ranking first)\n",
    "    sorted_pairs = sorted(paired_rankings, key=lambda x: x[0], reverse=False)\n",
    "    \n",
    "    # Take the top n pairs\n",
    "    top_n_pairs = sorted_pairs[:n]\n",
    "    \n",
    "    # Unzip the pairs back into separate lists\n",
    "    _top_n_llm, top_n_human = zip(*top_n_pairs) if top_n_pairs else ([], [])\n",
    "    \n",
    "    return list(top_n_human)\n",
    "\n",
    "# Process each source sentence\n",
    "\n",
    "cot = True\n",
    "all_res_batch_1 = {}\n",
    "all_res_batch_3 = {}\n",
    "models = ['gpt-4.1', 'gpt-4o-2024-08-06', 'gpt-4.5-preview-2025-02-27']\n",
    "for model in models:\n",
    "    top3s = []\n",
    "    top1s = []\n",
    "    for source, group in df.groupby('source_sentence'):\n",
    "        translations = group['translations'].tolist()\n",
    "        human_ratings = group['Fluency_score'].tolist()\n",
    "        \n",
    "        # Get human rankings (higher rating = better rank)\n",
    "        rank_dict = scores_to_ranks_dict(human_ratings)\n",
    "        human_rankings = [rank_dict[x] for x in human_ratings]\n",
    "        \n",
    "        # Get LLM rankings\n",
    "        llm_rankings = get_llm_rankings(translations, model=model, max_completion_tokens=200)\n",
    "        top3 = sort_by_llm_and_get_top_n(llm_rankings=llm_rankings, human_rankings=human_rankings)\n",
    "        top1 = top3[0]\n",
    "        top3s.extend(top3)\n",
    "        top1s.extend([top1])\n",
    "\n",
    "    all_res_batch_1[model] = top1s\n",
    "    all_res_batch_3[model] = top3s"
   ]
  },
  {
   "cell_type": "code",
   "execution_count": 13,
   "id": "be4c26b2",
   "metadata": {},
   "outputs": [
    {
     "data": {
      "image/png": "[encoded data removed]",
      "text/plain": [
       "<Figure size 1000x600 with 1 Axes>"
      ]
     },
     "metadata": {},
     "output_type": "display_data"
    }
   ],
   "source": [
    "res = pd.DataFrame(all_res_batch_3)\n",
    "\n",
    "# Create figure and axis\n",
    "fig, ax = plt.subplots(figsize=(10, 6))\n",
    "\n",
    "# Calculate bin counts manually\n",
    "bin_edges = np.arange(0.5, 5.6, 1)\n",
    "bins = np.arange(1, 6)\n",
    "width = 0.8 / len(res.columns)  # Width of each bar, adjusted for number of columns\n",
    "\n",
    "# Plot each column with bars side by side\n",
    "for i, col in enumerate(res.columns):\n",
    "    counts, _ = np.histogram(res[col], bins=bin_edges)\n",
    "    x_pos = bins + width * (i - len(res.columns)/2 + 0.5)\n",
    "    ax.bar(x_pos, counts, width=width, alpha=0.7, label=col)\n",
    "\n",
    "# Set x-axis ticks and limits\n",
    "ax.set_xticks([1, 2, 3, 4, 5])\n",
    "ax.set_xlim(0.5, 5.5)\n",
    "\n",
    "# Set title and labels\n",
    "ax.set_title('Human fluency ranks of the winners of batch rankings p@3')\n",
    "ax.set_xlabel('Human fluency rank')\n",
    "ax.set_ylabel('Count')\n",
    "\n",
    "plt.legend()\n",
    "plt.tight_layout()\n",
    "plt.show()"
   ]
  },
  {
   "cell_type": "code",
   "execution_count": 10,
   "id": "47411b4a",
   "metadata": {},
   "outputs": [
    {
     "data": {
      "image/png": "[encoded data removed]",
      "text/plain": [
       "<Figure size 1000x600 with 1 Axes>"
      ]
     },
     "metadata": {},
     "output_type": "display_data"
    }
   ],
   "source": [
    "res = pd.DataFrame(all_res_batch_1)\n",
    "\n",
    "# Create figure and axis\n",
    "fig, ax = plt.subplots(figsize=(10, 6))\n",
    "\n",
    "# Calculate bin counts manually\n",
    "bin_edges = np.arange(0.5, 5.6, 1)\n",
    "bins = np.arange(1, 6)\n",
    "width = 0.8 / len(res.columns)  # Width of each bar, adjusted for number of columns\n",
    "\n",
    "# Plot each column with bars side by side\n",
    "for i, col in enumerate(res.columns):\n",
    "    counts, _ = np.histogram(res[col], bins=bin_edges)\n",
    "    x_pos = bins + width * (i - len(res.columns)/2 + 0.5)\n",
    "    ax.bar(x_pos, counts, width=width, alpha=0.7, label=col)\n",
    "\n",
    "# Set x-axis ticks and limits\n",
    "ax.set_xticks([1, 2, 3, 4, 5])\n",
    "ax.set_xlim(0.5, 5.5)\n",
    "\n",
    "# Set title and labels\n",
    "ax.set_title('Human fluency ranks of the winners of batch rankings p@1')\n",
    "ax.set_xlabel('Human fluency rank')\n",
    "ax.set_ylabel('Count')\n",
    "\n",
    "plt.legend()\n",
    "plt.tight_layout()\n",
    "plt.show()"
   ]
  },
  {
   "cell_type": "markdown",
   "id": "363c49c3",
   "metadata": {},
   "source": [
    "# Scoring\n",
    "Can an LLM score the fluency similarly to a human?\n",
    "\n",
    "Observations\n",
    "- It seems to require substantial model size, but it seems to work reasonaby well\n",
    "- - GPT4 4.5 and GPT 4.1 have the same mean squared error (0.95) and both show medium strenght correlation with my scores, but GPT 4.5 has a higher correlation (.59)\n",
    "- The confusion matrix shows that classes are most often mixed with neighboring classes which is pleasing "
   ]
  },
  {
   "cell_type": "code",
   "execution_count": null,
   "id": "5829f48f",
   "metadata": {},
   "outputs": [],
   "source": [
    "\n",
    "for model in ['gpt-4.1-mini']:\n",
    "    #df[f'{model}_fluency_score'] = df['translations'].progress_map(lambda x: call_litellm(create_prompt_rating(x), model, max_completion_tokens=1000))\n",
    "    #df[f'{model}_fluency_score_score'] = df[f'{model}_fluency_score'].map(lambda x:  BeautifulSoup(x, 'html.parser').find('score').text.strip() if BeautifulSoup(x, 'html.parser').find('score') else None)\n",
    "    #df[f'{model}_fluency_score_score'].fillna(0, inplace=True)\n",
    "    df[f'{model}_fluency_score_SE'] = (df.Fluency_score - df[f'{model}_fluency_score_score'].astype(int))**2"
   ]
  },
  {
   "cell_type": "code",
   "execution_count": 108,
   "id": "a113f702",
   "metadata": {},
   "outputs": [
    {
     "name": "stdout",
     "output_type": "stream",
     "text": [
      "gpt-4.1-nano MSE:  2.2903225806451615\n",
      "gpt-4.1 MSE:  1.6964285714285714\n",
      "gpt-4o-2024-08-06 MSE:  3.0\n",
      "gpt-4.5-preview-2025-02-27 MSE:  1.6666666666666667\n",
      "gpt-4.1-mini MSE:  1.9423076923076923\n"
     ]
    }
   ],
   "source": [
    "# Mean squared error\n",
    "models = ['gpt-4.1-nano', 'gpt-4.1', 'gpt-4o-2024-08-06', 'gpt-4.5-preview-2025-02-27', 'gpt-4.1-mini']\n",
    "for model in models:\n",
    "    sub = df.loc[df[f'{model}_fluency_score_SE'] > 0]\n",
    "    print(model, 'MSE: ', mean_squared_error(y_true=sub['Fluency_score'], y_pred=sub[f'{model}_fluency_score_score']))"
   ]
  },
  {
   "cell_type": "code",
   "execution_count": 105,
   "id": "97491035",
   "metadata": {},
   "outputs": [
    {
     "data": {
      "image/png": "[encoded data removed]",
      "text/plain": [
       "<Figure size 1000x600 with 1 Axes>"
      ]
     },
     "metadata": {},
     "output_type": "display_data"
    }
   ],
   "source": [
    "\n",
    "fig, ax = plt.subplots(figsize=(10, 6))  # Create figure with custom size\n",
    "df[[f'{m}_fluency_score_SE' for m in models]].boxplot(ax=ax)\n",
    "plt.xticks(rotation=45, ha='right')  # Rotate by 45 degrees, horizontally align to right\n",
    "plt.title('Fluency Score Squared Error Comparison Across Models', fontsize=14)\n",
    "plt.tight_layout()\n",
    "plt.show()"
   ]
  },
  {
   "cell_type": "code",
   "execution_count": 115,
   "id": "6abf670f",
   "metadata": {},
   "outputs": [
    {
     "data": {
      "text/plain": [
       "Fluency_score                                     1.000000\n",
       "gpt-4.1-nano_fluency_score_score                  0.312416\n",
       "gpt-4.1_fluency_score_score                       0.559100\n",
       "gpt-4o-2024-08-06_fluency_score_score             0.459445\n",
       "gpt-4.5-preview-2025-02-27_fluency_score_score    0.602623\n",
       "gpt-4.1-mini_fluency_score_score                  0.601566\n",
       "Name: Fluency_score, dtype: float64"
      ]
     },
     "execution_count": 115,
     "metadata": {},
     "output_type": "execute_result"
    }
   ],
   "source": [
    "# Correlation between human fluency score and model fluency scores\n",
    "plot_df = df[['Fluency_score'] + [f'{m}_fluency_score_score' for m in models]].copy().astype(int)\n",
    "plot_df = plot_df.loc[plot_df['gpt-4.1-mini_fluency_score_score'] != 0]\n",
    "plot_df.corr(method='pearson')['Fluency_score']"
   ]
  },
  {
   "cell_type": "code",
   "execution_count": 116,
   "id": "3be7a6ec",
   "metadata": {},
   "outputs": [
    {
     "data": {
      "image/png": "[encoded data removed]",
      "text/plain": [
       "<Figure size 2500x500 with 5 Axes>"
      ]
     },
     "metadata": {},
     "output_type": "display_data"
    }
   ],
   "source": [
    "# Create a function to generate confusion matrices\n",
    "def plot_confusion_matrices(df, models):\n",
    "    fig, axes = plt.subplots(1, len(models), figsize=(5*len(models), 5))\n",
    "    \n",
    "    if len(models) == 1:\n",
    "        axes = [axes]  # Make it iterable if there's only one model\n",
    "    \n",
    "    for i, model in enumerate(models):\n",
    "        model_col = f\"{model}_fluency_score_score\"\n",
    "        \n",
    "        # Create a confusion matrix (true scores vs. predicted scores)\n",
    "        conf_matrix = pd.crosstab(\n",
    "            df['Fluency_score'], \n",
    "            df[model_col],\n",
    "            rownames=['Actual'],\n",
    "            colnames=['Predicted'],\n",
    "            dropna=False\n",
    "        )\n",
    "        \n",
    "        # Fill in missing values in the matrix with zeros\n",
    "        for score in range(1, 6):\n",
    "            if score not in conf_matrix.index:\n",
    "                conf_matrix.loc[score] = 0\n",
    "            if score not in conf_matrix.columns:\n",
    "                conf_matrix[score] = 0\n",
    "        \n",
    "        # Sort the indices and columns\n",
    "        conf_matrix = conf_matrix.sort_index().sort_index(axis=1)\n",
    "        \n",
    "        # Plot the confusion matrix\n",
    "        sns.heatmap(\n",
    "            conf_matrix, \n",
    "            annot=True, \n",
    "            fmt='d',\n",
    "            cmap='Blues',\n",
    "            ax=axes[i],\n",
    "            cbar=False,\n",
    "            square=True\n",
    "        )\n",
    "        \n",
    "        axes[i].set_title(f'{model} Confusion Matrix')\n",
    "        axes[i].set_xlabel('Predicted Fluency Score')\n",
    "        axes[i].set_ylabel('Actual Fluency Score')\n",
    "        \n",
    "        # Ensure both axes show all values from 1-5\n",
    "        axes[i].set_xticks(np.arange(0.5, 5.5))\n",
    "        axes[i].set_yticks(np.arange(0.5, 5.5))\n",
    "        axes[i].set_xticklabels(range(1, 6))\n",
    "        axes[i].set_yticklabels(range(1, 6))\n",
    "\n",
    "    plt.tight_layout()\n",
    "    plt.suptitle(\"Fluency Score Prediction Accuracy by Model\", fontsize=16, y=1.05)\n",
    "    \n",
    "    return fig\n",
    "\n",
    "# Create the confusion matrices\n",
    "fig = plot_confusion_matrices(plot_df, models)\n",
    "plt.show()"
   ]
  },
  {
   "cell_type": "markdown",
   "id": "9f41cafe",
   "metadata": {},
   "source": [
    "# Editing\n",
    "Can models edit a dysfluent sentence to a fluent one?\n",
    "\n",
    "- GPT 4.1 edit the sentences reasonably well and preserve the order between mini and nano\n",
    "- cot does not make a difference\n",
    "- GPT 4.5 is better is 4.1, but sometimes do not follow instructions and returns an English sentence"
   ]
  },
  {
   "cell_type": "code",
   "execution_count": null,
   "id": "82255013",
   "metadata": {},
   "outputs": [],
   "source": [
    "def create_edit_prompt(translation, model, max_completion_tokens, cot=False):\n",
    "\n",
    "    # Construct prompt\n",
    "    prompt_no_cot = f\"\"\"\n",
    "    Edit this sentence such that it becomes fluent to a native speaker. Make all the necessary edits, but nothing more than that.\n",
    "    Return the edited sentence between these tags: <edited_sentence> </edited_sentence>\n",
    "    <original_sentence>{translation}</original_sentence>\n",
    "    \"\"\"\n",
    "    \n",
    "    prompt_cot = f\"\"\"\n",
    "    List all the spans that are not fully fluent to a native speaker, whether it be lexical, grammatical, idiomatic, or cultural knowledge errors between these tags: <dysfluent_span> </dysfluent_span>\n",
    "    Edit this sentence such that it becomes fluent to a native speaker. Make all the necessary edits, but nothing more than that.\n",
    "    Return the edited sentence between these tags <edited_sentence> </edited_sentence>\n",
    "    <original_sentence>{translation}</original_sentence>\n",
    "    \"\"\"\n",
    "    if cot:\n",
    "        prompt = prompt_cot\n",
    "    else:\n",
    "        prompt = prompt_no_cot\n",
    "    \n",
    "     # Get response from LLM\n",
    "    response = call_litellm(prompt, model=model, max_completion_tokens=max_completion_tokens)\n",
    "    \n",
    "    # Extract just the numbers from the response\n",
    "    try:\n",
    "        edited_sentence = BeautifulSoup(response, 'html.parser').find('edited_sentence').text \n",
    "    except AttributeError:\n",
    "        print(response)\n",
    "        edited_sentence = None\n",
    "\n",
    "    return edited_sentence\n",
    "    "
   ]
  },
  {
   "cell_type": "code",
   "execution_count": 146,
   "id": "605839e0",
   "metadata": {},
   "outputs": [
    {
     "name": "stderr",
     "output_type": "stream",
     "text": [
      "100%|██████████| 100/100 [01:15<00:00,  1.32it/s]\n",
      "100%|██████████| 100/100 [02:02<00:00,  1.22s/it]\n",
      "100%|██████████| 100/100 [01:43<00:00,  1.04s/it]\n",
      "100%|██████████| 100/100 [03:17<00:00,  1.97s/it]\n",
      "100%|██████████| 100/100 [03:10<00:00,  1.91s/it]\n"
     ]
    }
   ],
   "source": [
    "models = ['gpt-4.1-nano', 'gpt-4.1', 'gpt-4o-2024-08-06', 'gpt-4.5-preview-2025-02-27', 'gpt-4.1-mini']\n",
    "for model in models:\n",
    "    #df[f'{model}_edited_sentence_cot'] = df.translations.progress_map(lambda x: create_edit_prompt(translation=x, model=model, max_completion_tokens=1000, cot=True))\n",
    "    df[f'{model}_edited_sentence'] = df.translations.progress_map(lambda x: create_edit_prompt(translation=x, model=model, max_completion_tokens=1000, cot=False))"
   ]
  },
  {
   "cell_type": "code",
   "execution_count": null,
   "id": "8dcc2361",
   "metadata": {},
   "outputs": [],
   "source": [
    "# Add all corrections for the source sentence to a column named 'references' to get multiple references for each source sentence\n",
    "\n",
    "grouped = df.groupby('source_sentence')['Correction'].apply(list).reset_index()\n",
    "grouped = grouped.rename(columns={'Correction': 'references'})\n",
    "\n",
    "# If you want to merge this back to the original df to add the references column\n",
    "# First create a dictionary mapping source_sentence to references\n",
    "reference_dict = dict(zip(grouped['source_sentence'], grouped['references']))\n",
    "\n",
    "# Then add a new column to the original df\n",
    "df['references'] = df['source_sentence'].map(reference_dict)\n",
    "\n",
    "#Also add the target sentence\n",
    "\n",
    "df['references'] = df.apply(\n",
    "     lambda row: row['references'] + [row['target_sentence']] \n",
    "     if isinstance(row['references'], list) and row['target_sentence'] not in row['references']\n",
    "     else [row['target_sentence']] if not isinstance(row['references'], list)\n",
    "     else row['references'],\n",
    "     axis=1\n",
    " )\n"
   ]
  },
  {
   "cell_type": "code",
   "execution_count": 159,
   "id": "9af7692a",
   "metadata": {},
   "outputs": [
    {
     "name": "stderr",
     "output_type": "stream",
     "text": [
      "100%|██████████| 100/100 [00:02<00:00, 41.56it/s]\n",
      "100%|██████████| 100/100 [00:02<00:00, 43.92it/s]\n",
      "100%|██████████| 100/100 [00:02<00:00, 43.50it/s]\n",
      "100%|██████████| 100/100 [00:02<00:00, 48.04it/s]\n",
      "100%|██████████| 100/100 [00:01<00:00, 52.12it/s]\n",
      "100%|██████████| 100/100 [00:01<00:00, 51.95it/s]\n",
      "100%|██████████| 100/100 [00:02<00:00, 48.83it/s]\n",
      "100%|██████████| 100/100 [00:02<00:00, 44.01it/s]\n",
      "100%|██████████| 100/100 [00:02<00:00, 46.98it/s]\n",
      "100%|██████████| 100/100 [00:02<00:00, 42.86it/s]\n"
     ]
    }
   ],
   "source": [
    "# calculate the BLEU score\n",
    "models = ['gpt-4.1-nano', 'gpt-4.1', 'gpt-4o-2024-08-06', 'gpt-4.5-preview-2025-02-27', 'gpt-4.1-mini']\n",
    "bleu = BLEU\n",
    "for model in models:\n",
    "    df[f'{model}_cot_BLEU'] = df.progress_apply(lambda x: sacrebleu.compute(predictions=[x[f'{model}_edited_sentence_cot']], references=[x['references']])['score'], axis=1)\n",
    "    df[f'{model}_BLEU'] = df.progress_apply(lambda x: sacrebleu.compute(predictions=[x[f'{model}_edited_sentence']], references=[x['references']])['score'], axis=1)"
   ]
  },
  {
   "cell_type": "code",
   "execution_count": 172,
   "id": "bb7c818c",
   "metadata": {},
   "outputs": [
    {
     "data": {
      "image/png": "[encoded data removed]",
      "text/plain": [
       "<Figure size 1200x600 with 1 Axes>"
      ]
     },
     "metadata": {},
     "output_type": "display_data"
    }
   ],
   "source": [
    "def plot_bleu_comparison(df):\n",
    "    # Extract model names by looking at column names\n",
    "    columns = df.columns\n",
    "    model_names = set(models)\n",
    "    \n",
    "    # Prepare data for plotting\n",
    "    plot_data = []\n",
    "    \n",
    "    for model in model_names:\n",
    "        # Get mean and std BLEU scores (with and without CoT)\n",
    "        bleu_no_cot_mean = df[f'{model}_BLEU'].mean()\n",
    "        bleu_no_cot_std = df[f'{model}_BLEU'].std()\n",
    "        \n",
    "        bleu_cot_mean = df[f'{model}_cot_BLEU'].mean()\n",
    "        bleu_cot_std = df[f'{model}_cot_BLEU'].std()\n",
    "        \n",
    "        # Add to data list\n",
    "        plot_data.append({\n",
    "            'Model': model, \n",
    "            'Method': 'Without CoT', \n",
    "            'BLEU': bleu_no_cot_mean,\n",
    "            'BLEU_std': bleu_no_cot_std\n",
    "        })\n",
    "        plot_data.append({\n",
    "            'Model': model, \n",
    "            'Method': 'With CoT', \n",
    "            'BLEU': bleu_cot_mean,\n",
    "            'BLEU_std': bleu_cot_std\n",
    "        })\n",
    "    \n",
    "    # Create DataFrame for plotting\n",
    "    plot_df = pd.DataFrame(plot_data)\n",
    "    \n",
    "    # Create plot\n",
    "    plt.figure(figsize=(12, 6))\n",
    "    \n",
    "    # Create custom barplot with error bars\n",
    "    ax = plt.subplot(111)\n",
    "    \n",
    "    # Get unique methods and models for positioning\n",
    "    methods = plot_df['Method'].unique()\n",
    "    models_list = sorted(list(model_names))\n",
    "    \n",
    "    # Set width of bars\n",
    "    bar_width = 0.35\n",
    "    \n",
    "    # Set positions on x-axis\n",
    "    positions = np.arange(len(models_list))\n",
    "    \n",
    "    # Plot bars with error bars\n",
    "    for i, method in enumerate(methods):\n",
    "        method_data = plot_df[plot_df['Method'] == method]\n",
    "        \n",
    "        # Align bars side by side\n",
    "        offset = (i - 0.5) * bar_width\n",
    "        \n",
    "        # Get colors from viridis palette\n",
    "        colors = plt.cm.managua(np.linspace(0, 1, len(methods)))\n",
    "        \n",
    "        # Plot bars with error bars\n",
    "        bars = ax.bar(\n",
    "            positions + offset, \n",
    "            method_data['BLEU'], \n",
    "            width=bar_width,\n",
    "            yerr=method_data['BLEU_std'],\n",
    "            label=method,\n",
    "            color=colors[i],\n",
    "            capsize=5,  # Cap width for error bars\n",
    "            error_kw={'elinewidth': 1.5, 'capthick': 1.5}  # Error bar style\n",
    "        )\n",
    "        \n",
    "        # Add value labels on top of bars\n",
    "        for j, bar in enumerate(bars):\n",
    "            height = bar.get_height()\n",
    "            ax.text(\n",
    "                bar.get_x() + bar.get_width()/2.,\n",
    "                height + 0.01,\n",
    "                f'{height:.2f}',\n",
    "                ha='center', \n",
    "                va='bottom',\n",
    "                fontsize=9\n",
    "            )\n",
    "    \n",
    "    # Set x-ticks at the center of grouped bars\n",
    "    ax.set_xticks(positions)\n",
    "    ax.set_xticklabels(models_list, rotation=45, ha='right')\n",
    "    \n",
    "    # Enhance the plot\n",
    "    plt.title('Comparison of BLEU Scores With and Without Chain of Thought (CoT)', fontsize=14)\n",
    "    plt.xlabel('Model', fontsize=12)\n",
    "    plt.ylabel('Average BLEU Score (with Standard Deviation)', fontsize=12)\n",
    "    plt.grid(axis='y', alpha=0.3)\n",
    "    \n",
    "    # Improve legend\n",
    "    plt.legend(title='Reasoning Method', loc='best')\n",
    "    \n",
    "    plt.tight_layout()\n",
    "    return plt.gcf()\n",
    "\n",
    "# Call the function\n",
    "fig = plot_bleu_comparison(df)\n",
    "plt.show()"
   ]
  },
  {
   "cell_type": "code",
   "execution_count": 177,
   "id": "b754e8fe",
   "metadata": {},
   "outputs": [
    {
     "data": {
      "application/vnd.jupyter.widget-view+json": {
       "model_id": "32be0b3cf10848bdb19a70ade7a266a1",
       "version_major": 2,
       "version_minor": 0
      },
      "text/plain": [
       "config.json:   0%|          | 0.00/878 [00:00<?, ?B/s]"
      ]
     },
     "metadata": {},
     "output_type": "display_data"
    },
    {
     "data": {
      "application/vnd.jupyter.widget-view+json": {
       "model_id": "d1277a72409546fa8754d7c51c453342",
       "version_major": 2,
       "version_minor": 0
      },
      "text/plain": [
       "model.safetensors.index.json:   0%|          | 0.00/20.9k [00:00<?, ?B/s]"
      ]
     },
     "metadata": {},
     "output_type": "display_data"
    },
    {
     "data": {
      "application/vnd.jupyter.widget-view+json": {
       "model_id": "5c9a8d6a312d45cd8055e3222b0de21d",
       "version_major": 2,
       "version_minor": 0
      },
      "text/plain": [
       "Downloading shards:   0%|          | 0/2 [00:00<?, ?it/s]"
      ]
     },
     "metadata": {},
     "output_type": "display_data"
    },
    {
     "data": {
      "application/vnd.jupyter.widget-view+json": {
       "model_id": "74202e3283004d36844ae50d442a86e4",
       "version_major": 2,
       "version_minor": 0
      },
      "text/plain": [
       "model-00001-of-00002.safetensors:   0%|          | 0.00/4.97G [00:00<?, ?B/s]"
      ]
     },
     "metadata": {},
     "output_type": "display_data"
    },
    {
     "data": {
      "application/vnd.jupyter.widget-view+json": {
       "model_id": "120d6af2574442d5a8d0fbfddc0f22bd",
       "version_major": 2,
       "version_minor": 0
      },
      "text/plain": [
       "model-00002-of-00002.safetensors:   0%|          | 0.00/1.46G [00:00<?, ?B/s]"
      ]
     },
     "metadata": {},
     "output_type": "display_data"
    },
    {
     "data": {
      "application/vnd.jupyter.widget-view+json": {
       "model_id": "0290cea4566c4df2b85bcc1ff0344322",
       "version_major": 2,
       "version_minor": 0
      },
      "text/plain": [
       "Loading checkpoint shards:   0%|          | 0/2 [00:00<?, ?it/s]"
      ]
     },
     "metadata": {},
     "output_type": "display_data"
    },
    {
     "name": "stderr",
     "output_type": "stream",
     "text": [
      "Device set to use cpu\n",
      "Setting `pad_token_id` to `eos_token_id`:128001 for open-end generation.\n"
     ]
    },
    {
     "ename": "KeyboardInterrupt",
     "evalue": "",
     "output_type": "error",
     "traceback": [
      "\u001b[0;31m---------------------------------------------------------------------------\u001b[0m",
      "\u001b[0;31mKeyboardInterrupt\u001b[0m                         Traceback (most recent call last)",
      "Cell \u001b[0;32mIn[177], line 15\u001b[0m\n\u001b[1;32m      5\u001b[0m pipe \u001b[38;5;241m=\u001b[39m pipeline(\n\u001b[1;32m      6\u001b[0m     \u001b[38;5;124m\"\u001b[39m\u001b[38;5;124mtext-generation\u001b[39m\u001b[38;5;124m\"\u001b[39m,\n\u001b[1;32m      7\u001b[0m     model\u001b[38;5;241m=\u001b[39mmodel_id,\n\u001b[1;32m      8\u001b[0m     torch_dtype\u001b[38;5;241m=\u001b[39mtorch\u001b[38;5;241m.\u001b[39mbfloat16,\n\u001b[1;32m      9\u001b[0m     device_map\u001b[38;5;241m=\u001b[39m\u001b[38;5;124m\"\u001b[39m\u001b[38;5;124mauto\u001b[39m\u001b[38;5;124m\"\u001b[39m,\n\u001b[1;32m     10\u001b[0m )\n\u001b[1;32m     11\u001b[0m messages \u001b[38;5;241m=\u001b[39m [\n\u001b[1;32m     12\u001b[0m     {\u001b[38;5;124m\"\u001b[39m\u001b[38;5;124mrole\u001b[39m\u001b[38;5;124m\"\u001b[39m: \u001b[38;5;124m\"\u001b[39m\u001b[38;5;124msystem\u001b[39m\u001b[38;5;124m\"\u001b[39m, \u001b[38;5;124m\"\u001b[39m\u001b[38;5;124mcontent\u001b[39m\u001b[38;5;124m\"\u001b[39m: \u001b[38;5;124m\"\u001b[39m\u001b[38;5;124mYou are a pirate chatbot who always responds in pirate speak!\u001b[39m\u001b[38;5;124m\"\u001b[39m},\n\u001b[1;32m     13\u001b[0m     {\u001b[38;5;124m\"\u001b[39m\u001b[38;5;124mrole\u001b[39m\u001b[38;5;124m\"\u001b[39m: \u001b[38;5;124m\"\u001b[39m\u001b[38;5;124muser\u001b[39m\u001b[38;5;124m\"\u001b[39m, \u001b[38;5;124m\"\u001b[39m\u001b[38;5;124mcontent\u001b[39m\u001b[38;5;124m\"\u001b[39m: \u001b[38;5;124m\"\u001b[39m\u001b[38;5;124mWho are you?\u001b[39m\u001b[38;5;124m\"\u001b[39m},\n\u001b[1;32m     14\u001b[0m ]\n\u001b[0;32m---> 15\u001b[0m outputs \u001b[38;5;241m=\u001b[39m \u001b[43mpipe\u001b[49m\u001b[43m(\u001b[49m\n\u001b[1;32m     16\u001b[0m \u001b[43m    \u001b[49m\u001b[43mmessages\u001b[49m\u001b[43m,\u001b[49m\n\u001b[1;32m     17\u001b[0m \u001b[43m    \u001b[49m\u001b[43mmax_new_tokens\u001b[49m\u001b[38;5;241;43m=\u001b[39;49m\u001b[38;5;241;43m256\u001b[39;49m\u001b[43m,\u001b[49m\n\u001b[1;32m     18\u001b[0m \u001b[43m)\u001b[49m\n\u001b[1;32m     19\u001b[0m \u001b[38;5;28mprint\u001b[39m(outputs[\u001b[38;5;241m0\u001b[39m][\u001b[38;5;124m\"\u001b[39m\u001b[38;5;124mgenerated_text\u001b[39m\u001b[38;5;124m\"\u001b[39m][\u001b[38;5;241m-\u001b[39m\u001b[38;5;241m1\u001b[39m])\n",
      "File \u001b[0;32m~/.plot_venv/lib/python3.11/site-packages/transformers/pipelines/text_generation.py:278\u001b[0m, in \u001b[0;36mTextGenerationPipeline.__call__\u001b[0;34m(self, text_inputs, **kwargs)\u001b[0m\n\u001b[1;32m    275\u001b[0m \u001b[38;5;28;01mif\u001b[39;00m \u001b[38;5;28misinstance\u001b[39m(first_item, (\u001b[38;5;28mlist\u001b[39m, \u001b[38;5;28mtuple\u001b[39m, \u001b[38;5;28mdict\u001b[39m)):\n\u001b[1;32m    276\u001b[0m     \u001b[38;5;66;03m# We have one or more prompts in list-of-dicts format, so this is chat mode\u001b[39;00m\n\u001b[1;32m    277\u001b[0m     \u001b[38;5;28;01mif\u001b[39;00m \u001b[38;5;28misinstance\u001b[39m(first_item, \u001b[38;5;28mdict\u001b[39m):\n\u001b[0;32m--> 278\u001b[0m         \u001b[38;5;28;01mreturn\u001b[39;00m \u001b[38;5;28;43msuper\u001b[39;49m\u001b[43m(\u001b[49m\u001b[43m)\u001b[49m\u001b[38;5;241;43m.\u001b[39;49m\u001b[38;5;21;43m__call__\u001b[39;49m\u001b[43m(\u001b[49m\u001b[43mChat\u001b[49m\u001b[43m(\u001b[49m\u001b[43mtext_inputs\u001b[49m\u001b[43m)\u001b[49m\u001b[43m,\u001b[49m\u001b[43m \u001b[49m\u001b[38;5;241;43m*\u001b[39;49m\u001b[38;5;241;43m*\u001b[39;49m\u001b[43mkwargs\u001b[49m\u001b[43m)\u001b[49m\n\u001b[1;32m    279\u001b[0m     \u001b[38;5;28;01melse\u001b[39;00m:\n\u001b[1;32m    280\u001b[0m         chats \u001b[38;5;241m=\u001b[39m (Chat(chat) \u001b[38;5;28;01mfor\u001b[39;00m chat \u001b[38;5;129;01min\u001b[39;00m text_inputs)  \u001b[38;5;66;03m# 🐈 🐈 🐈\u001b[39;00m\n",
      "File \u001b[0;32m~/.plot_venv/lib/python3.11/site-packages/transformers/pipelines/base.py:1362\u001b[0m, in \u001b[0;36mPipeline.__call__\u001b[0;34m(self, inputs, num_workers, batch_size, *args, **kwargs)\u001b[0m\n\u001b[1;32m   1354\u001b[0m     \u001b[38;5;28;01mreturn\u001b[39;00m \u001b[38;5;28mnext\u001b[39m(\n\u001b[1;32m   1355\u001b[0m         \u001b[38;5;28miter\u001b[39m(\n\u001b[1;32m   1356\u001b[0m             \u001b[38;5;28mself\u001b[39m\u001b[38;5;241m.\u001b[39mget_iterator(\n\u001b[0;32m   (...)\u001b[0m\n\u001b[1;32m   1359\u001b[0m         )\n\u001b[1;32m   1360\u001b[0m     )\n\u001b[1;32m   1361\u001b[0m \u001b[38;5;28;01melse\u001b[39;00m:\n\u001b[0;32m-> 1362\u001b[0m     \u001b[38;5;28;01mreturn\u001b[39;00m \u001b[38;5;28;43mself\u001b[39;49m\u001b[38;5;241;43m.\u001b[39;49m\u001b[43mrun_single\u001b[49m\u001b[43m(\u001b[49m\u001b[43minputs\u001b[49m\u001b[43m,\u001b[49m\u001b[43m \u001b[49m\u001b[43mpreprocess_params\u001b[49m\u001b[43m,\u001b[49m\u001b[43m \u001b[49m\u001b[43mforward_params\u001b[49m\u001b[43m,\u001b[49m\u001b[43m \u001b[49m\u001b[43mpostprocess_params\u001b[49m\u001b[43m)\u001b[49m\n",
      "File \u001b[0;32m~/.plot_venv/lib/python3.11/site-packages/transformers/pipelines/base.py:1369\u001b[0m, in \u001b[0;36mPipeline.run_single\u001b[0;34m(self, inputs, preprocess_params, forward_params, postprocess_params)\u001b[0m\n\u001b[1;32m   1367\u001b[0m \u001b[38;5;28;01mdef\u001b[39;00m\u001b[38;5;250m \u001b[39m\u001b[38;5;21mrun_single\u001b[39m(\u001b[38;5;28mself\u001b[39m, inputs, preprocess_params, forward_params, postprocess_params):\n\u001b[1;32m   1368\u001b[0m     model_inputs \u001b[38;5;241m=\u001b[39m \u001b[38;5;28mself\u001b[39m\u001b[38;5;241m.\u001b[39mpreprocess(inputs, \u001b[38;5;241m*\u001b[39m\u001b[38;5;241m*\u001b[39mpreprocess_params)\n\u001b[0;32m-> 1369\u001b[0m     model_outputs \u001b[38;5;241m=\u001b[39m \u001b[38;5;28;43mself\u001b[39;49m\u001b[38;5;241;43m.\u001b[39;49m\u001b[43mforward\u001b[49m\u001b[43m(\u001b[49m\u001b[43mmodel_inputs\u001b[49m\u001b[43m,\u001b[49m\u001b[43m \u001b[49m\u001b[38;5;241;43m*\u001b[39;49m\u001b[38;5;241;43m*\u001b[39;49m\u001b[43mforward_params\u001b[49m\u001b[43m)\u001b[49m\n\u001b[1;32m   1370\u001b[0m     outputs \u001b[38;5;241m=\u001b[39m \u001b[38;5;28mself\u001b[39m\u001b[38;5;241m.\u001b[39mpostprocess(model_outputs, \u001b[38;5;241m*\u001b[39m\u001b[38;5;241m*\u001b[39mpostprocess_params)\n\u001b[1;32m   1371\u001b[0m     \u001b[38;5;28;01mreturn\u001b[39;00m outputs\n",
      "File \u001b[0;32m~/.plot_venv/lib/python3.11/site-packages/transformers/pipelines/base.py:1269\u001b[0m, in \u001b[0;36mPipeline.forward\u001b[0;34m(self, model_inputs, **forward_params)\u001b[0m\n\u001b[1;32m   1267\u001b[0m     \u001b[38;5;28;01mwith\u001b[39;00m inference_context():\n\u001b[1;32m   1268\u001b[0m         model_inputs \u001b[38;5;241m=\u001b[39m \u001b[38;5;28mself\u001b[39m\u001b[38;5;241m.\u001b[39m_ensure_tensor_on_device(model_inputs, device\u001b[38;5;241m=\u001b[39m\u001b[38;5;28mself\u001b[39m\u001b[38;5;241m.\u001b[39mdevice)\n\u001b[0;32m-> 1269\u001b[0m         model_outputs \u001b[38;5;241m=\u001b[39m \u001b[38;5;28;43mself\u001b[39;49m\u001b[38;5;241;43m.\u001b[39;49m\u001b[43m_forward\u001b[49m\u001b[43m(\u001b[49m\u001b[43mmodel_inputs\u001b[49m\u001b[43m,\u001b[49m\u001b[43m \u001b[49m\u001b[38;5;241;43m*\u001b[39;49m\u001b[38;5;241;43m*\u001b[39;49m\u001b[43mforward_params\u001b[49m\u001b[43m)\u001b[49m\n\u001b[1;32m   1270\u001b[0m         model_outputs \u001b[38;5;241m=\u001b[39m \u001b[38;5;28mself\u001b[39m\u001b[38;5;241m.\u001b[39m_ensure_tensor_on_device(model_outputs, device\u001b[38;5;241m=\u001b[39mtorch\u001b[38;5;241m.\u001b[39mdevice(\u001b[38;5;124m\"\u001b[39m\u001b[38;5;124mcpu\u001b[39m\u001b[38;5;124m\"\u001b[39m))\n\u001b[1;32m   1271\u001b[0m \u001b[38;5;28;01melse\u001b[39;00m:\n",
      "File \u001b[0;32m~/.plot_venv/lib/python3.11/site-packages/transformers/pipelines/text_generation.py:383\u001b[0m, in \u001b[0;36mTextGenerationPipeline._forward\u001b[0;34m(self, model_inputs, **generate_kwargs)\u001b[0m\n\u001b[1;32m    380\u001b[0m \u001b[38;5;28;01mif\u001b[39;00m \u001b[38;5;124m\"\u001b[39m\u001b[38;5;124mgeneration_config\u001b[39m\u001b[38;5;124m\"\u001b[39m \u001b[38;5;129;01mnot\u001b[39;00m \u001b[38;5;129;01min\u001b[39;00m generate_kwargs:\n\u001b[1;32m    381\u001b[0m     generate_kwargs[\u001b[38;5;124m\"\u001b[39m\u001b[38;5;124mgeneration_config\u001b[39m\u001b[38;5;124m\"\u001b[39m] \u001b[38;5;241m=\u001b[39m \u001b[38;5;28mself\u001b[39m\u001b[38;5;241m.\u001b[39mgeneration_config\n\u001b[0;32m--> 383\u001b[0m generated_sequence \u001b[38;5;241m=\u001b[39m \u001b[38;5;28;43mself\u001b[39;49m\u001b[38;5;241;43m.\u001b[39;49m\u001b[43mmodel\u001b[49m\u001b[38;5;241;43m.\u001b[39;49m\u001b[43mgenerate\u001b[49m\u001b[43m(\u001b[49m\u001b[43minput_ids\u001b[49m\u001b[38;5;241;43m=\u001b[39;49m\u001b[43minput_ids\u001b[49m\u001b[43m,\u001b[49m\u001b[43m \u001b[49m\u001b[43mattention_mask\u001b[49m\u001b[38;5;241;43m=\u001b[39;49m\u001b[43mattention_mask\u001b[49m\u001b[43m,\u001b[49m\u001b[43m \u001b[49m\u001b[38;5;241;43m*\u001b[39;49m\u001b[38;5;241;43m*\u001b[39;49m\u001b[43mgenerate_kwargs\u001b[49m\u001b[43m)\u001b[49m\n\u001b[1;32m    384\u001b[0m out_b \u001b[38;5;241m=\u001b[39m generated_sequence\u001b[38;5;241m.\u001b[39mshape[\u001b[38;5;241m0\u001b[39m]\n\u001b[1;32m    385\u001b[0m \u001b[38;5;28;01mif\u001b[39;00m \u001b[38;5;28mself\u001b[39m\u001b[38;5;241m.\u001b[39mframework \u001b[38;5;241m==\u001b[39m \u001b[38;5;124m\"\u001b[39m\u001b[38;5;124mpt\u001b[39m\u001b[38;5;124m\"\u001b[39m:\n",
      "File \u001b[0;32m~/.plot_venv/lib/python3.11/site-packages/torch/utils/_contextlib.py:116\u001b[0m, in \u001b[0;36mcontext_decorator.<locals>.decorate_context\u001b[0;34m(*args, **kwargs)\u001b[0m\n\u001b[1;32m    113\u001b[0m \u001b[38;5;129m@functools\u001b[39m\u001b[38;5;241m.\u001b[39mwraps(func)\n\u001b[1;32m    114\u001b[0m \u001b[38;5;28;01mdef\u001b[39;00m\u001b[38;5;250m \u001b[39m\u001b[38;5;21mdecorate_context\u001b[39m(\u001b[38;5;241m*\u001b[39margs, \u001b[38;5;241m*\u001b[39m\u001b[38;5;241m*\u001b[39mkwargs):\n\u001b[1;32m    115\u001b[0m     \u001b[38;5;28;01mwith\u001b[39;00m ctx_factory():\n\u001b[0;32m--> 116\u001b[0m         \u001b[38;5;28;01mreturn\u001b[39;00m \u001b[43mfunc\u001b[49m\u001b[43m(\u001b[49m\u001b[38;5;241;43m*\u001b[39;49m\u001b[43margs\u001b[49m\u001b[43m,\u001b[49m\u001b[43m \u001b[49m\u001b[38;5;241;43m*\u001b[39;49m\u001b[38;5;241;43m*\u001b[39;49m\u001b[43mkwargs\u001b[49m\u001b[43m)\u001b[49m\n",
      "File \u001b[0;32m~/.plot_venv/lib/python3.11/site-packages/transformers/generation/utils.py:2255\u001b[0m, in \u001b[0;36mGenerationMixin.generate\u001b[0;34m(self, inputs, generation_config, logits_processor, stopping_criteria, prefix_allowed_tokens_fn, synced_gpus, assistant_model, streamer, negative_prompt_ids, negative_prompt_attention_mask, **kwargs)\u001b[0m\n\u001b[1;32m   2247\u001b[0m     input_ids, model_kwargs \u001b[38;5;241m=\u001b[39m \u001b[38;5;28mself\u001b[39m\u001b[38;5;241m.\u001b[39m_expand_inputs_for_generation(\n\u001b[1;32m   2248\u001b[0m         input_ids\u001b[38;5;241m=\u001b[39minput_ids,\n\u001b[1;32m   2249\u001b[0m         expand_size\u001b[38;5;241m=\u001b[39mgeneration_config\u001b[38;5;241m.\u001b[39mnum_return_sequences,\n\u001b[1;32m   2250\u001b[0m         is_encoder_decoder\u001b[38;5;241m=\u001b[39m\u001b[38;5;28mself\u001b[39m\u001b[38;5;241m.\u001b[39mconfig\u001b[38;5;241m.\u001b[39mis_encoder_decoder,\n\u001b[1;32m   2251\u001b[0m         \u001b[38;5;241m*\u001b[39m\u001b[38;5;241m*\u001b[39mmodel_kwargs,\n\u001b[1;32m   2252\u001b[0m     )\n\u001b[1;32m   2254\u001b[0m     \u001b[38;5;66;03m# 12. run sample (it degenerates to greedy search when `generation_config.do_sample=False`)\u001b[39;00m\n\u001b[0;32m-> 2255\u001b[0m     result \u001b[38;5;241m=\u001b[39m \u001b[38;5;28;43mself\u001b[39;49m\u001b[38;5;241;43m.\u001b[39;49m\u001b[43m_sample\u001b[49m\u001b[43m(\u001b[49m\n\u001b[1;32m   2256\u001b[0m \u001b[43m        \u001b[49m\u001b[43minput_ids\u001b[49m\u001b[43m,\u001b[49m\n\u001b[1;32m   2257\u001b[0m \u001b[43m        \u001b[49m\u001b[43mlogits_processor\u001b[49m\u001b[38;5;241;43m=\u001b[39;49m\u001b[43mprepared_logits_processor\u001b[49m\u001b[43m,\u001b[49m\n\u001b[1;32m   2258\u001b[0m \u001b[43m        \u001b[49m\u001b[43mstopping_criteria\u001b[49m\u001b[38;5;241;43m=\u001b[39;49m\u001b[43mprepared_stopping_criteria\u001b[49m\u001b[43m,\u001b[49m\n\u001b[1;32m   2259\u001b[0m \u001b[43m        \u001b[49m\u001b[43mgeneration_config\u001b[49m\u001b[38;5;241;43m=\u001b[39;49m\u001b[43mgeneration_config\u001b[49m\u001b[43m,\u001b[49m\n\u001b[1;32m   2260\u001b[0m \u001b[43m        \u001b[49m\u001b[43msynced_gpus\u001b[49m\u001b[38;5;241;43m=\u001b[39;49m\u001b[43msynced_gpus\u001b[49m\u001b[43m,\u001b[49m\n\u001b[1;32m   2261\u001b[0m \u001b[43m        \u001b[49m\u001b[43mstreamer\u001b[49m\u001b[38;5;241;43m=\u001b[39;49m\u001b[43mstreamer\u001b[49m\u001b[43m,\u001b[49m\n\u001b[1;32m   2262\u001b[0m \u001b[43m        \u001b[49m\u001b[38;5;241;43m*\u001b[39;49m\u001b[38;5;241;43m*\u001b[39;49m\u001b[43mmodel_kwargs\u001b[49m\u001b[43m,\u001b[49m\n\u001b[1;32m   2263\u001b[0m \u001b[43m    \u001b[49m\u001b[43m)\u001b[49m\n\u001b[1;32m   2265\u001b[0m \u001b[38;5;28;01melif\u001b[39;00m generation_mode \u001b[38;5;129;01min\u001b[39;00m (GenerationMode\u001b[38;5;241m.\u001b[39mBEAM_SAMPLE, GenerationMode\u001b[38;5;241m.\u001b[39mBEAM_SEARCH):\n\u001b[1;32m   2266\u001b[0m     \u001b[38;5;66;03m# 11. prepare beam search scorer\u001b[39;00m\n\u001b[1;32m   2267\u001b[0m     beam_scorer \u001b[38;5;241m=\u001b[39m BeamSearchScorer(\n\u001b[1;32m   2268\u001b[0m         batch_size\u001b[38;5;241m=\u001b[39mbatch_size,\n\u001b[1;32m   2269\u001b[0m         num_beams\u001b[38;5;241m=\u001b[39mgeneration_config\u001b[38;5;241m.\u001b[39mnum_beams,\n\u001b[0;32m   (...)\u001b[0m\n\u001b[1;32m   2274\u001b[0m         max_length\u001b[38;5;241m=\u001b[39mgeneration_config\u001b[38;5;241m.\u001b[39mmax_length,\n\u001b[1;32m   2275\u001b[0m     )\n",
      "File \u001b[0;32m~/.plot_venv/lib/python3.11/site-packages/transformers/generation/utils.py:3257\u001b[0m, in \u001b[0;36mGenerationMixin._sample\u001b[0;34m(self, input_ids, logits_processor, stopping_criteria, generation_config, synced_gpus, streamer, **model_kwargs)\u001b[0m\n\u001b[1;32m   3255\u001b[0m     is_prefill \u001b[38;5;241m=\u001b[39m \u001b[38;5;28;01mFalse\u001b[39;00m\n\u001b[1;32m   3256\u001b[0m \u001b[38;5;28;01melse\u001b[39;00m:\n\u001b[0;32m-> 3257\u001b[0m     outputs \u001b[38;5;241m=\u001b[39m \u001b[43mmodel_forward\u001b[49m\u001b[43m(\u001b[49m\u001b[38;5;241;43m*\u001b[39;49m\u001b[38;5;241;43m*\u001b[39;49m\u001b[43mmodel_inputs\u001b[49m\u001b[43m,\u001b[49m\u001b[43m \u001b[49m\u001b[43mreturn_dict\u001b[49m\u001b[38;5;241;43m=\u001b[39;49m\u001b[38;5;28;43;01mTrue\u001b[39;49;00m\u001b[43m)\u001b[49m\n\u001b[1;32m   3259\u001b[0m \u001b[38;5;66;03m# synced_gpus: don't waste resources running the code we don't need; kwargs must be updated before skipping\u001b[39;00m\n\u001b[1;32m   3260\u001b[0m model_kwargs \u001b[38;5;241m=\u001b[39m \u001b[38;5;28mself\u001b[39m\u001b[38;5;241m.\u001b[39m_update_model_kwargs_for_generation(\n\u001b[1;32m   3261\u001b[0m     outputs,\n\u001b[1;32m   3262\u001b[0m     model_kwargs,\n\u001b[1;32m   3263\u001b[0m     is_encoder_decoder\u001b[38;5;241m=\u001b[39m\u001b[38;5;28mself\u001b[39m\u001b[38;5;241m.\u001b[39mconfig\u001b[38;5;241m.\u001b[39mis_encoder_decoder,\n\u001b[1;32m   3264\u001b[0m )\n",
      "File \u001b[0;32m~/.plot_venv/lib/python3.11/site-packages/torch/nn/modules/module.py:1739\u001b[0m, in \u001b[0;36mModule._wrapped_call_impl\u001b[0;34m(self, *args, **kwargs)\u001b[0m\n\u001b[1;32m   1737\u001b[0m     \u001b[38;5;28;01mreturn\u001b[39;00m \u001b[38;5;28mself\u001b[39m\u001b[38;5;241m.\u001b[39m_compiled_call_impl(\u001b[38;5;241m*\u001b[39margs, \u001b[38;5;241m*\u001b[39m\u001b[38;5;241m*\u001b[39mkwargs)  \u001b[38;5;66;03m# type: ignore[misc]\u001b[39;00m\n\u001b[1;32m   1738\u001b[0m \u001b[38;5;28;01melse\u001b[39;00m:\n\u001b[0;32m-> 1739\u001b[0m     \u001b[38;5;28;01mreturn\u001b[39;00m \u001b[38;5;28;43mself\u001b[39;49m\u001b[38;5;241;43m.\u001b[39;49m\u001b[43m_call_impl\u001b[49m\u001b[43m(\u001b[49m\u001b[38;5;241;43m*\u001b[39;49m\u001b[43margs\u001b[49m\u001b[43m,\u001b[49m\u001b[43m \u001b[49m\u001b[38;5;241;43m*\u001b[39;49m\u001b[38;5;241;43m*\u001b[39;49m\u001b[43mkwargs\u001b[49m\u001b[43m)\u001b[49m\n",
      "File \u001b[0;32m~/.plot_venv/lib/python3.11/site-packages/torch/nn/modules/module.py:1750\u001b[0m, in \u001b[0;36mModule._call_impl\u001b[0;34m(self, *args, **kwargs)\u001b[0m\n\u001b[1;32m   1745\u001b[0m \u001b[38;5;66;03m# If we don't have any hooks, we want to skip the rest of the logic in\u001b[39;00m\n\u001b[1;32m   1746\u001b[0m \u001b[38;5;66;03m# this function, and just call forward.\u001b[39;00m\n\u001b[1;32m   1747\u001b[0m \u001b[38;5;28;01mif\u001b[39;00m \u001b[38;5;129;01mnot\u001b[39;00m (\u001b[38;5;28mself\u001b[39m\u001b[38;5;241m.\u001b[39m_backward_hooks \u001b[38;5;129;01mor\u001b[39;00m \u001b[38;5;28mself\u001b[39m\u001b[38;5;241m.\u001b[39m_backward_pre_hooks \u001b[38;5;129;01mor\u001b[39;00m \u001b[38;5;28mself\u001b[39m\u001b[38;5;241m.\u001b[39m_forward_hooks \u001b[38;5;129;01mor\u001b[39;00m \u001b[38;5;28mself\u001b[39m\u001b[38;5;241m.\u001b[39m_forward_pre_hooks\n\u001b[1;32m   1748\u001b[0m         \u001b[38;5;129;01mor\u001b[39;00m _global_backward_pre_hooks \u001b[38;5;129;01mor\u001b[39;00m _global_backward_hooks\n\u001b[1;32m   1749\u001b[0m         \u001b[38;5;129;01mor\u001b[39;00m _global_forward_hooks \u001b[38;5;129;01mor\u001b[39;00m _global_forward_pre_hooks):\n\u001b[0;32m-> 1750\u001b[0m     \u001b[38;5;28;01mreturn\u001b[39;00m \u001b[43mforward_call\u001b[49m\u001b[43m(\u001b[49m\u001b[38;5;241;43m*\u001b[39;49m\u001b[43margs\u001b[49m\u001b[43m,\u001b[49m\u001b[43m \u001b[49m\u001b[38;5;241;43m*\u001b[39;49m\u001b[38;5;241;43m*\u001b[39;49m\u001b[43mkwargs\u001b[49m\u001b[43m)\u001b[49m\n\u001b[1;32m   1752\u001b[0m result \u001b[38;5;241m=\u001b[39m \u001b[38;5;28;01mNone\u001b[39;00m\n\u001b[1;32m   1753\u001b[0m called_always_called_hooks \u001b[38;5;241m=\u001b[39m \u001b[38;5;28mset\u001b[39m()\n",
      "File \u001b[0;32m~/.plot_venv/lib/python3.11/site-packages/transformers/models/llama/modeling_llama.py:834\u001b[0m, in \u001b[0;36mLlamaForCausalLM.forward\u001b[0;34m(self, input_ids, attention_mask, position_ids, past_key_values, inputs_embeds, labels, use_cache, output_attentions, output_hidden_states, return_dict, cache_position, num_logits_to_keep, **kwargs)\u001b[0m\n\u001b[1;32m    831\u001b[0m return_dict \u001b[38;5;241m=\u001b[39m return_dict \u001b[38;5;28;01mif\u001b[39;00m return_dict \u001b[38;5;129;01mis\u001b[39;00m \u001b[38;5;129;01mnot\u001b[39;00m \u001b[38;5;28;01mNone\u001b[39;00m \u001b[38;5;28;01melse\u001b[39;00m \u001b[38;5;28mself\u001b[39m\u001b[38;5;241m.\u001b[39mconfig\u001b[38;5;241m.\u001b[39muse_return_dict\n\u001b[1;32m    833\u001b[0m \u001b[38;5;66;03m# decoder outputs consists of (dec_features, layer_state, dec_hidden, dec_attn)\u001b[39;00m\n\u001b[0;32m--> 834\u001b[0m outputs \u001b[38;5;241m=\u001b[39m \u001b[38;5;28;43mself\u001b[39;49m\u001b[38;5;241;43m.\u001b[39;49m\u001b[43mmodel\u001b[49m\u001b[43m(\u001b[49m\n\u001b[1;32m    835\u001b[0m \u001b[43m    \u001b[49m\u001b[43minput_ids\u001b[49m\u001b[38;5;241;43m=\u001b[39;49m\u001b[43minput_ids\u001b[49m\u001b[43m,\u001b[49m\n\u001b[1;32m    836\u001b[0m \u001b[43m    \u001b[49m\u001b[43mattention_mask\u001b[49m\u001b[38;5;241;43m=\u001b[39;49m\u001b[43mattention_mask\u001b[49m\u001b[43m,\u001b[49m\n\u001b[1;32m    837\u001b[0m \u001b[43m    \u001b[49m\u001b[43mposition_ids\u001b[49m\u001b[38;5;241;43m=\u001b[39;49m\u001b[43mposition_ids\u001b[49m\u001b[43m,\u001b[49m\n\u001b[1;32m    838\u001b[0m \u001b[43m    \u001b[49m\u001b[43mpast_key_values\u001b[49m\u001b[38;5;241;43m=\u001b[39;49m\u001b[43mpast_key_values\u001b[49m\u001b[43m,\u001b[49m\n\u001b[1;32m    839\u001b[0m \u001b[43m    \u001b[49m\u001b[43minputs_embeds\u001b[49m\u001b[38;5;241;43m=\u001b[39;49m\u001b[43minputs_embeds\u001b[49m\u001b[43m,\u001b[49m\n\u001b[1;32m    840\u001b[0m \u001b[43m    \u001b[49m\u001b[43muse_cache\u001b[49m\u001b[38;5;241;43m=\u001b[39;49m\u001b[43muse_cache\u001b[49m\u001b[43m,\u001b[49m\n\u001b[1;32m    841\u001b[0m \u001b[43m    \u001b[49m\u001b[43moutput_attentions\u001b[49m\u001b[38;5;241;43m=\u001b[39;49m\u001b[43moutput_attentions\u001b[49m\u001b[43m,\u001b[49m\n\u001b[1;32m    842\u001b[0m \u001b[43m    \u001b[49m\u001b[43moutput_hidden_states\u001b[49m\u001b[38;5;241;43m=\u001b[39;49m\u001b[43moutput_hidden_states\u001b[49m\u001b[43m,\u001b[49m\n\u001b[1;32m    843\u001b[0m \u001b[43m    \u001b[49m\u001b[43mreturn_dict\u001b[49m\u001b[38;5;241;43m=\u001b[39;49m\u001b[43mreturn_dict\u001b[49m\u001b[43m,\u001b[49m\n\u001b[1;32m    844\u001b[0m \u001b[43m    \u001b[49m\u001b[43mcache_position\u001b[49m\u001b[38;5;241;43m=\u001b[39;49m\u001b[43mcache_position\u001b[49m\u001b[43m,\u001b[49m\n\u001b[1;32m    845\u001b[0m \u001b[43m    \u001b[49m\u001b[38;5;241;43m*\u001b[39;49m\u001b[38;5;241;43m*\u001b[39;49m\u001b[43mkwargs\u001b[49m\u001b[43m,\u001b[49m\n\u001b[1;32m    846\u001b[0m \u001b[43m\u001b[49m\u001b[43m)\u001b[49m\n\u001b[1;32m    848\u001b[0m hidden_states \u001b[38;5;241m=\u001b[39m outputs[\u001b[38;5;241m0\u001b[39m]\n\u001b[1;32m    849\u001b[0m \u001b[38;5;66;03m# Only compute necessary logits, and do not upcast them to float if we are not computing the loss\u001b[39;00m\n",
      "File \u001b[0;32m~/.plot_venv/lib/python3.11/site-packages/torch/nn/modules/module.py:1739\u001b[0m, in \u001b[0;36mModule._wrapped_call_impl\u001b[0;34m(self, *args, **kwargs)\u001b[0m\n\u001b[1;32m   1737\u001b[0m     \u001b[38;5;28;01mreturn\u001b[39;00m \u001b[38;5;28mself\u001b[39m\u001b[38;5;241m.\u001b[39m_compiled_call_impl(\u001b[38;5;241m*\u001b[39margs, \u001b[38;5;241m*\u001b[39m\u001b[38;5;241m*\u001b[39mkwargs)  \u001b[38;5;66;03m# type: ignore[misc]\u001b[39;00m\n\u001b[1;32m   1738\u001b[0m \u001b[38;5;28;01melse\u001b[39;00m:\n\u001b[0;32m-> 1739\u001b[0m     \u001b[38;5;28;01mreturn\u001b[39;00m \u001b[38;5;28;43mself\u001b[39;49m\u001b[38;5;241;43m.\u001b[39;49m\u001b[43m_call_impl\u001b[49m\u001b[43m(\u001b[49m\u001b[38;5;241;43m*\u001b[39;49m\u001b[43margs\u001b[49m\u001b[43m,\u001b[49m\u001b[43m \u001b[49m\u001b[38;5;241;43m*\u001b[39;49m\u001b[38;5;241;43m*\u001b[39;49m\u001b[43mkwargs\u001b[49m\u001b[43m)\u001b[49m\n",
      "File \u001b[0;32m~/.plot_venv/lib/python3.11/site-packages/torch/nn/modules/module.py:1750\u001b[0m, in \u001b[0;36mModule._call_impl\u001b[0;34m(self, *args, **kwargs)\u001b[0m\n\u001b[1;32m   1745\u001b[0m \u001b[38;5;66;03m# If we don't have any hooks, we want to skip the rest of the logic in\u001b[39;00m\n\u001b[1;32m   1746\u001b[0m \u001b[38;5;66;03m# this function, and just call forward.\u001b[39;00m\n\u001b[1;32m   1747\u001b[0m \u001b[38;5;28;01mif\u001b[39;00m \u001b[38;5;129;01mnot\u001b[39;00m (\u001b[38;5;28mself\u001b[39m\u001b[38;5;241m.\u001b[39m_backward_hooks \u001b[38;5;129;01mor\u001b[39;00m \u001b[38;5;28mself\u001b[39m\u001b[38;5;241m.\u001b[39m_backward_pre_hooks \u001b[38;5;129;01mor\u001b[39;00m \u001b[38;5;28mself\u001b[39m\u001b[38;5;241m.\u001b[39m_forward_hooks \u001b[38;5;129;01mor\u001b[39;00m \u001b[38;5;28mself\u001b[39m\u001b[38;5;241m.\u001b[39m_forward_pre_hooks\n\u001b[1;32m   1748\u001b[0m         \u001b[38;5;129;01mor\u001b[39;00m _global_backward_pre_hooks \u001b[38;5;129;01mor\u001b[39;00m _global_backward_hooks\n\u001b[1;32m   1749\u001b[0m         \u001b[38;5;129;01mor\u001b[39;00m _global_forward_hooks \u001b[38;5;129;01mor\u001b[39;00m _global_forward_pre_hooks):\n\u001b[0;32m-> 1750\u001b[0m     \u001b[38;5;28;01mreturn\u001b[39;00m \u001b[43mforward_call\u001b[49m\u001b[43m(\u001b[49m\u001b[38;5;241;43m*\u001b[39;49m\u001b[43margs\u001b[49m\u001b[43m,\u001b[49m\u001b[43m \u001b[49m\u001b[38;5;241;43m*\u001b[39;49m\u001b[38;5;241;43m*\u001b[39;49m\u001b[43mkwargs\u001b[49m\u001b[43m)\u001b[49m\n\u001b[1;32m   1752\u001b[0m result \u001b[38;5;241m=\u001b[39m \u001b[38;5;28;01mNone\u001b[39;00m\n\u001b[1;32m   1753\u001b[0m called_always_called_hooks \u001b[38;5;241m=\u001b[39m \u001b[38;5;28mset\u001b[39m()\n",
      "File \u001b[0;32m~/.plot_venv/lib/python3.11/site-packages/transformers/models/llama/modeling_llama.py:592\u001b[0m, in \u001b[0;36mLlamaModel.forward\u001b[0;34m(self, input_ids, attention_mask, position_ids, past_key_values, inputs_embeds, use_cache, output_attentions, output_hidden_states, return_dict, cache_position, **flash_attn_kwargs)\u001b[0m\n\u001b[1;32m    580\u001b[0m     layer_outputs \u001b[38;5;241m=\u001b[39m \u001b[38;5;28mself\u001b[39m\u001b[38;5;241m.\u001b[39m_gradient_checkpointing_func(\n\u001b[1;32m    581\u001b[0m         decoder_layer\u001b[38;5;241m.\u001b[39m\u001b[38;5;21m__call__\u001b[39m,\n\u001b[1;32m    582\u001b[0m         hidden_states,\n\u001b[0;32m   (...)\u001b[0m\n\u001b[1;32m    589\u001b[0m         position_embeddings,\n\u001b[1;32m    590\u001b[0m     )\n\u001b[1;32m    591\u001b[0m \u001b[38;5;28;01melse\u001b[39;00m:\n\u001b[0;32m--> 592\u001b[0m     layer_outputs \u001b[38;5;241m=\u001b[39m \u001b[43mdecoder_layer\u001b[49m\u001b[43m(\u001b[49m\n\u001b[1;32m    593\u001b[0m \u001b[43m        \u001b[49m\u001b[43mhidden_states\u001b[49m\u001b[43m,\u001b[49m\n\u001b[1;32m    594\u001b[0m \u001b[43m        \u001b[49m\u001b[43mattention_mask\u001b[49m\u001b[38;5;241;43m=\u001b[39;49m\u001b[43mcausal_mask\u001b[49m\u001b[43m,\u001b[49m\n\u001b[1;32m    595\u001b[0m \u001b[43m        \u001b[49m\u001b[43mposition_ids\u001b[49m\u001b[38;5;241;43m=\u001b[39;49m\u001b[43mposition_ids\u001b[49m\u001b[43m,\u001b[49m\n\u001b[1;32m    596\u001b[0m \u001b[43m        \u001b[49m\u001b[43mpast_key_value\u001b[49m\u001b[38;5;241;43m=\u001b[39;49m\u001b[43mpast_key_values\u001b[49m\u001b[43m,\u001b[49m\n\u001b[1;32m    597\u001b[0m \u001b[43m        \u001b[49m\u001b[43moutput_attentions\u001b[49m\u001b[38;5;241;43m=\u001b[39;49m\u001b[43moutput_attentions\u001b[49m\u001b[43m,\u001b[49m\n\u001b[1;32m    598\u001b[0m \u001b[43m        \u001b[49m\u001b[43muse_cache\u001b[49m\u001b[38;5;241;43m=\u001b[39;49m\u001b[43muse_cache\u001b[49m\u001b[43m,\u001b[49m\n\u001b[1;32m    599\u001b[0m \u001b[43m        \u001b[49m\u001b[43mcache_position\u001b[49m\u001b[38;5;241;43m=\u001b[39;49m\u001b[43mcache_position\u001b[49m\u001b[43m,\u001b[49m\n\u001b[1;32m    600\u001b[0m \u001b[43m        \u001b[49m\u001b[43mposition_embeddings\u001b[49m\u001b[38;5;241;43m=\u001b[39;49m\u001b[43mposition_embeddings\u001b[49m\u001b[43m,\u001b[49m\n\u001b[1;32m    601\u001b[0m \u001b[43m        \u001b[49m\u001b[38;5;241;43m*\u001b[39;49m\u001b[38;5;241;43m*\u001b[39;49m\u001b[43mflash_attn_kwargs\u001b[49m\u001b[43m,\u001b[49m\n\u001b[1;32m    602\u001b[0m \u001b[43m    \u001b[49m\u001b[43m)\u001b[49m\n\u001b[1;32m    604\u001b[0m hidden_states \u001b[38;5;241m=\u001b[39m layer_outputs[\u001b[38;5;241m0\u001b[39m]\n\u001b[1;32m    606\u001b[0m \u001b[38;5;28;01mif\u001b[39;00m output_attentions:\n",
      "File \u001b[0;32m~/.plot_venv/lib/python3.11/site-packages/torch/nn/modules/module.py:1739\u001b[0m, in \u001b[0;36mModule._wrapped_call_impl\u001b[0;34m(self, *args, **kwargs)\u001b[0m\n\u001b[1;32m   1737\u001b[0m     \u001b[38;5;28;01mreturn\u001b[39;00m \u001b[38;5;28mself\u001b[39m\u001b[38;5;241m.\u001b[39m_compiled_call_impl(\u001b[38;5;241m*\u001b[39margs, \u001b[38;5;241m*\u001b[39m\u001b[38;5;241m*\u001b[39mkwargs)  \u001b[38;5;66;03m# type: ignore[misc]\u001b[39;00m\n\u001b[1;32m   1738\u001b[0m \u001b[38;5;28;01melse\u001b[39;00m:\n\u001b[0;32m-> 1739\u001b[0m     \u001b[38;5;28;01mreturn\u001b[39;00m \u001b[38;5;28;43mself\u001b[39;49m\u001b[38;5;241;43m.\u001b[39;49m\u001b[43m_call_impl\u001b[49m\u001b[43m(\u001b[49m\u001b[38;5;241;43m*\u001b[39;49m\u001b[43margs\u001b[49m\u001b[43m,\u001b[49m\u001b[43m \u001b[49m\u001b[38;5;241;43m*\u001b[39;49m\u001b[38;5;241;43m*\u001b[39;49m\u001b[43mkwargs\u001b[49m\u001b[43m)\u001b[49m\n",
      "File \u001b[0;32m~/.plot_venv/lib/python3.11/site-packages/torch/nn/modules/module.py:1750\u001b[0m, in \u001b[0;36mModule._call_impl\u001b[0;34m(self, *args, **kwargs)\u001b[0m\n\u001b[1;32m   1745\u001b[0m \u001b[38;5;66;03m# If we don't have any hooks, we want to skip the rest of the logic in\u001b[39;00m\n\u001b[1;32m   1746\u001b[0m \u001b[38;5;66;03m# this function, and just call forward.\u001b[39;00m\n\u001b[1;32m   1747\u001b[0m \u001b[38;5;28;01mif\u001b[39;00m \u001b[38;5;129;01mnot\u001b[39;00m (\u001b[38;5;28mself\u001b[39m\u001b[38;5;241m.\u001b[39m_backward_hooks \u001b[38;5;129;01mor\u001b[39;00m \u001b[38;5;28mself\u001b[39m\u001b[38;5;241m.\u001b[39m_backward_pre_hooks \u001b[38;5;129;01mor\u001b[39;00m \u001b[38;5;28mself\u001b[39m\u001b[38;5;241m.\u001b[39m_forward_hooks \u001b[38;5;129;01mor\u001b[39;00m \u001b[38;5;28mself\u001b[39m\u001b[38;5;241m.\u001b[39m_forward_pre_hooks\n\u001b[1;32m   1748\u001b[0m         \u001b[38;5;129;01mor\u001b[39;00m _global_backward_pre_hooks \u001b[38;5;129;01mor\u001b[39;00m _global_backward_hooks\n\u001b[1;32m   1749\u001b[0m         \u001b[38;5;129;01mor\u001b[39;00m _global_forward_hooks \u001b[38;5;129;01mor\u001b[39;00m _global_forward_pre_hooks):\n\u001b[0;32m-> 1750\u001b[0m     \u001b[38;5;28;01mreturn\u001b[39;00m \u001b[43mforward_call\u001b[49m\u001b[43m(\u001b[49m\u001b[38;5;241;43m*\u001b[39;49m\u001b[43margs\u001b[49m\u001b[43m,\u001b[49m\u001b[43m \u001b[49m\u001b[38;5;241;43m*\u001b[39;49m\u001b[38;5;241;43m*\u001b[39;49m\u001b[43mkwargs\u001b[49m\u001b[43m)\u001b[49m\n\u001b[1;32m   1752\u001b[0m result \u001b[38;5;241m=\u001b[39m \u001b[38;5;28;01mNone\u001b[39;00m\n\u001b[1;32m   1753\u001b[0m called_always_called_hooks \u001b[38;5;241m=\u001b[39m \u001b[38;5;28mset\u001b[39m()\n",
      "File \u001b[0;32m~/.plot_venv/lib/python3.11/site-packages/transformers/models/llama/modeling_llama.py:351\u001b[0m, in \u001b[0;36mLlamaDecoderLayer.forward\u001b[0;34m(self, hidden_states, attention_mask, position_ids, past_key_value, output_attentions, use_cache, cache_position, position_embeddings, **kwargs)\u001b[0m\n\u001b[1;32m    349\u001b[0m residual \u001b[38;5;241m=\u001b[39m hidden_states\n\u001b[1;32m    350\u001b[0m hidden_states \u001b[38;5;241m=\u001b[39m \u001b[38;5;28mself\u001b[39m\u001b[38;5;241m.\u001b[39mpost_attention_layernorm(hidden_states)\n\u001b[0;32m--> 351\u001b[0m hidden_states \u001b[38;5;241m=\u001b[39m \u001b[38;5;28;43mself\u001b[39;49m\u001b[38;5;241;43m.\u001b[39;49m\u001b[43mmlp\u001b[49m\u001b[43m(\u001b[49m\u001b[43mhidden_states\u001b[49m\u001b[43m)\u001b[49m\n\u001b[1;32m    352\u001b[0m hidden_states \u001b[38;5;241m=\u001b[39m residual \u001b[38;5;241m+\u001b[39m hidden_states\n\u001b[1;32m    354\u001b[0m outputs \u001b[38;5;241m=\u001b[39m (hidden_states,)\n",
      "File \u001b[0;32m~/.plot_venv/lib/python3.11/site-packages/torch/nn/modules/module.py:1739\u001b[0m, in \u001b[0;36mModule._wrapped_call_impl\u001b[0;34m(self, *args, **kwargs)\u001b[0m\n\u001b[1;32m   1737\u001b[0m     \u001b[38;5;28;01mreturn\u001b[39;00m \u001b[38;5;28mself\u001b[39m\u001b[38;5;241m.\u001b[39m_compiled_call_impl(\u001b[38;5;241m*\u001b[39margs, \u001b[38;5;241m*\u001b[39m\u001b[38;5;241m*\u001b[39mkwargs)  \u001b[38;5;66;03m# type: ignore[misc]\u001b[39;00m\n\u001b[1;32m   1738\u001b[0m \u001b[38;5;28;01melse\u001b[39;00m:\n\u001b[0;32m-> 1739\u001b[0m     \u001b[38;5;28;01mreturn\u001b[39;00m \u001b[38;5;28;43mself\u001b[39;49m\u001b[38;5;241;43m.\u001b[39;49m\u001b[43m_call_impl\u001b[49m\u001b[43m(\u001b[49m\u001b[38;5;241;43m*\u001b[39;49m\u001b[43margs\u001b[49m\u001b[43m,\u001b[49m\u001b[43m \u001b[49m\u001b[38;5;241;43m*\u001b[39;49m\u001b[38;5;241;43m*\u001b[39;49m\u001b[43mkwargs\u001b[49m\u001b[43m)\u001b[49m\n",
      "File \u001b[0;32m~/.plot_venv/lib/python3.11/site-packages/torch/nn/modules/module.py:1750\u001b[0m, in \u001b[0;36mModule._call_impl\u001b[0;34m(self, *args, **kwargs)\u001b[0m\n\u001b[1;32m   1745\u001b[0m \u001b[38;5;66;03m# If we don't have any hooks, we want to skip the rest of the logic in\u001b[39;00m\n\u001b[1;32m   1746\u001b[0m \u001b[38;5;66;03m# this function, and just call forward.\u001b[39;00m\n\u001b[1;32m   1747\u001b[0m \u001b[38;5;28;01mif\u001b[39;00m \u001b[38;5;129;01mnot\u001b[39;00m (\u001b[38;5;28mself\u001b[39m\u001b[38;5;241m.\u001b[39m_backward_hooks \u001b[38;5;129;01mor\u001b[39;00m \u001b[38;5;28mself\u001b[39m\u001b[38;5;241m.\u001b[39m_backward_pre_hooks \u001b[38;5;129;01mor\u001b[39;00m \u001b[38;5;28mself\u001b[39m\u001b[38;5;241m.\u001b[39m_forward_hooks \u001b[38;5;129;01mor\u001b[39;00m \u001b[38;5;28mself\u001b[39m\u001b[38;5;241m.\u001b[39m_forward_pre_hooks\n\u001b[1;32m   1748\u001b[0m         \u001b[38;5;129;01mor\u001b[39;00m _global_backward_pre_hooks \u001b[38;5;129;01mor\u001b[39;00m _global_backward_hooks\n\u001b[1;32m   1749\u001b[0m         \u001b[38;5;129;01mor\u001b[39;00m _global_forward_hooks \u001b[38;5;129;01mor\u001b[39;00m _global_forward_pre_hooks):\n\u001b[0;32m-> 1750\u001b[0m     \u001b[38;5;28;01mreturn\u001b[39;00m \u001b[43mforward_call\u001b[49m\u001b[43m(\u001b[49m\u001b[38;5;241;43m*\u001b[39;49m\u001b[43margs\u001b[49m\u001b[43m,\u001b[49m\u001b[43m \u001b[49m\u001b[38;5;241;43m*\u001b[39;49m\u001b[38;5;241;43m*\u001b[39;49m\u001b[43mkwargs\u001b[49m\u001b[43m)\u001b[49m\n\u001b[1;32m   1752\u001b[0m result \u001b[38;5;241m=\u001b[39m \u001b[38;5;28;01mNone\u001b[39;00m\n\u001b[1;32m   1753\u001b[0m called_always_called_hooks \u001b[38;5;241m=\u001b[39m \u001b[38;5;28mset\u001b[39m()\n",
      "File \u001b[0;32m~/.plot_venv/lib/python3.11/site-packages/transformers/models/llama/modeling_llama.py:189\u001b[0m, in \u001b[0;36mLlamaMLP.forward\u001b[0;34m(self, x)\u001b[0m\n\u001b[1;32m    188\u001b[0m \u001b[38;5;28;01mdef\u001b[39;00m\u001b[38;5;250m \u001b[39m\u001b[38;5;21mforward\u001b[39m(\u001b[38;5;28mself\u001b[39m, x):\n\u001b[0;32m--> 189\u001b[0m     down_proj \u001b[38;5;241m=\u001b[39m \u001b[38;5;28;43mself\u001b[39;49m\u001b[38;5;241;43m.\u001b[39;49m\u001b[43mdown_proj\u001b[49m\u001b[43m(\u001b[49m\u001b[38;5;28;43mself\u001b[39;49m\u001b[38;5;241;43m.\u001b[39;49m\u001b[43mact_fn\u001b[49m\u001b[43m(\u001b[49m\u001b[38;5;28;43mself\u001b[39;49m\u001b[38;5;241;43m.\u001b[39;49m\u001b[43mgate_proj\u001b[49m\u001b[43m(\u001b[49m\u001b[43mx\u001b[49m\u001b[43m)\u001b[49m\u001b[43m)\u001b[49m\u001b[43m \u001b[49m\u001b[38;5;241;43m*\u001b[39;49m\u001b[43m \u001b[49m\u001b[38;5;28;43mself\u001b[39;49m\u001b[38;5;241;43m.\u001b[39;49m\u001b[43mup_proj\u001b[49m\u001b[43m(\u001b[49m\u001b[43mx\u001b[49m\u001b[43m)\u001b[49m\u001b[43m)\u001b[49m\n\u001b[1;32m    190\u001b[0m     \u001b[38;5;28;01mreturn\u001b[39;00m down_proj\n",
      "File \u001b[0;32m~/.plot_venv/lib/python3.11/site-packages/torch/nn/modules/module.py:1739\u001b[0m, in \u001b[0;36mModule._wrapped_call_impl\u001b[0;34m(self, *args, **kwargs)\u001b[0m\n\u001b[1;32m   1737\u001b[0m     \u001b[38;5;28;01mreturn\u001b[39;00m \u001b[38;5;28mself\u001b[39m\u001b[38;5;241m.\u001b[39m_compiled_call_impl(\u001b[38;5;241m*\u001b[39margs, \u001b[38;5;241m*\u001b[39m\u001b[38;5;241m*\u001b[39mkwargs)  \u001b[38;5;66;03m# type: ignore[misc]\u001b[39;00m\n\u001b[1;32m   1738\u001b[0m \u001b[38;5;28;01melse\u001b[39;00m:\n\u001b[0;32m-> 1739\u001b[0m     \u001b[38;5;28;01mreturn\u001b[39;00m \u001b[38;5;28;43mself\u001b[39;49m\u001b[38;5;241;43m.\u001b[39;49m\u001b[43m_call_impl\u001b[49m\u001b[43m(\u001b[49m\u001b[38;5;241;43m*\u001b[39;49m\u001b[43margs\u001b[49m\u001b[43m,\u001b[49m\u001b[43m \u001b[49m\u001b[38;5;241;43m*\u001b[39;49m\u001b[38;5;241;43m*\u001b[39;49m\u001b[43mkwargs\u001b[49m\u001b[43m)\u001b[49m\n",
      "File \u001b[0;32m~/.plot_venv/lib/python3.11/site-packages/torch/nn/modules/module.py:1750\u001b[0m, in \u001b[0;36mModule._call_impl\u001b[0;34m(self, *args, **kwargs)\u001b[0m\n\u001b[1;32m   1745\u001b[0m \u001b[38;5;66;03m# If we don't have any hooks, we want to skip the rest of the logic in\u001b[39;00m\n\u001b[1;32m   1746\u001b[0m \u001b[38;5;66;03m# this function, and just call forward.\u001b[39;00m\n\u001b[1;32m   1747\u001b[0m \u001b[38;5;28;01mif\u001b[39;00m \u001b[38;5;129;01mnot\u001b[39;00m (\u001b[38;5;28mself\u001b[39m\u001b[38;5;241m.\u001b[39m_backward_hooks \u001b[38;5;129;01mor\u001b[39;00m \u001b[38;5;28mself\u001b[39m\u001b[38;5;241m.\u001b[39m_backward_pre_hooks \u001b[38;5;129;01mor\u001b[39;00m \u001b[38;5;28mself\u001b[39m\u001b[38;5;241m.\u001b[39m_forward_hooks \u001b[38;5;129;01mor\u001b[39;00m \u001b[38;5;28mself\u001b[39m\u001b[38;5;241m.\u001b[39m_forward_pre_hooks\n\u001b[1;32m   1748\u001b[0m         \u001b[38;5;129;01mor\u001b[39;00m _global_backward_pre_hooks \u001b[38;5;129;01mor\u001b[39;00m _global_backward_hooks\n\u001b[1;32m   1749\u001b[0m         \u001b[38;5;129;01mor\u001b[39;00m _global_forward_hooks \u001b[38;5;129;01mor\u001b[39;00m _global_forward_pre_hooks):\n\u001b[0;32m-> 1750\u001b[0m     \u001b[38;5;28;01mreturn\u001b[39;00m \u001b[43mforward_call\u001b[49m\u001b[43m(\u001b[49m\u001b[38;5;241;43m*\u001b[39;49m\u001b[43margs\u001b[49m\u001b[43m,\u001b[49m\u001b[43m \u001b[49m\u001b[38;5;241;43m*\u001b[39;49m\u001b[38;5;241;43m*\u001b[39;49m\u001b[43mkwargs\u001b[49m\u001b[43m)\u001b[49m\n\u001b[1;32m   1752\u001b[0m result \u001b[38;5;241m=\u001b[39m \u001b[38;5;28;01mNone\u001b[39;00m\n\u001b[1;32m   1753\u001b[0m called_always_called_hooks \u001b[38;5;241m=\u001b[39m \u001b[38;5;28mset\u001b[39m()\n",
      "File \u001b[0;32m~/.plot_venv/lib/python3.11/site-packages/torch/nn/modules/linear.py:125\u001b[0m, in \u001b[0;36mLinear.forward\u001b[0;34m(self, input)\u001b[0m\n\u001b[1;32m    124\u001b[0m \u001b[38;5;28;01mdef\u001b[39;00m\u001b[38;5;250m \u001b[39m\u001b[38;5;21mforward\u001b[39m(\u001b[38;5;28mself\u001b[39m, \u001b[38;5;28minput\u001b[39m: Tensor) \u001b[38;5;241m-\u001b[39m\u001b[38;5;241m>\u001b[39m Tensor:\n\u001b[0;32m--> 125\u001b[0m     \u001b[38;5;28;01mreturn\u001b[39;00m \u001b[43mF\u001b[49m\u001b[38;5;241;43m.\u001b[39;49m\u001b[43mlinear\u001b[49m\u001b[43m(\u001b[49m\u001b[38;5;28;43minput\u001b[39;49m\u001b[43m,\u001b[49m\u001b[43m \u001b[49m\u001b[38;5;28;43mself\u001b[39;49m\u001b[38;5;241;43m.\u001b[39;49m\u001b[43mweight\u001b[49m\u001b[43m,\u001b[49m\u001b[43m \u001b[49m\u001b[38;5;28;43mself\u001b[39;49m\u001b[38;5;241;43m.\u001b[39;49m\u001b[43mbias\u001b[49m\u001b[43m)\u001b[49m\n",
      "\u001b[0;31mKeyboardInterrupt\u001b[0m: "
     ]
    }
   ],
   "source": [
    "import torch\n",
    "from transformers import pipeline\n",
    "\n",
    "model_id = \"meta-llama/Llama-3.2-3B-Instruct\"\n",
    "pipe = pipeline(\n",
    "    \"text-generation\",\n",
    "    model=model_id,\n",
    "    torch_dtype=torch.bfloat16,\n",
    "    device_map=\"auto\",\n",
    ")\n",
    "messages = [\n",
    "    {\"role\": \"system\", \"content\": \"You are a pirate chatbot who always responds in pirate speak!\"},\n",
    "    {\"role\": \"user\", \"content\": \"Who are you?\"},\n",
    "]\n",
    "outputs = pipe(\n",
    "    messages,\n",
    "    max_new_tokens=256,\n",
    ")\n",
    "print(outputs[0][\"generated_text\"][-1])"
   ]
  },
  {
   "cell_type": "code",
   "execution_count": null,
   "id": "6c50fc53",
   "metadata": {},
   "outputs": [],
   "source": []
  }
 ],
 "metadata": {
  "kernelspec": {
   "display_name": "plot_venv",
   "language": "python",
   "name": "plot_venv"
  },
  "language_info": {
   "codemirror_mode": {
    "name": "ipython",
    "version": 3
   },
   "file_extension": ".py",
   "mimetype": "text/x-python",
   "name": "python",
   "nbconvert_exporter": "python",
   "pygments_lexer": "ipython3",
   "version": "3.11.7"
  }
 },
 "nbformat": 4,
 "nbformat_minor": 5
}
